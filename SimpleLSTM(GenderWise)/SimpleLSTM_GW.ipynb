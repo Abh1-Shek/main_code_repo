{
  "cells": [
    {
      "cell_type": "code",
      "execution_count": null,
      "metadata": {
        "id": "9LNwjDXFVLJ9"
      },
      "outputs": [],
      "source": [
        "from tensorflow.keras.models import Sequential\n",
        "from tensorflow.keras.layers import Dense, Dropout, LSTM\n",
        "from sklearn.preprocessing import MinMaxScaler\n",
        "import numpy as np\n",
        "import matplotlib.pyplot as plt\n",
        "import pandas as pd\n",
        "from sklearn.model_selection import train_test_split\n",
        "import tensorflow as tf\n",
        "from tensorflow import keras\n",
        "from sklearn.metrics import mean_squared_error"
      ]
    },
    {
      "cell_type": "code",
      "source": [],
      "metadata": {
        "id": "oW3Kwird8VP3"
      },
      "execution_count": null,
      "outputs": []
    },
    {
      "cell_type": "code",
      "source": [
        "train_for = 735\n",
        "predict_for = 14"
      ],
      "metadata": {
        "id": "DR-CaqW_GxvV"
      },
      "execution_count": null,
      "outputs": []
    },
    {
      "cell_type": "code",
      "execution_count": null,
      "metadata": {
        "id": "i02SIhX3VQ2c"
      },
      "outputs": [],
      "source": [
        "look_back = 50\n",
        "\n",
        "def prepare_data(df):\n",
        "    X = []\n",
        "    y = []\n",
        "    for i in range(look_back, len(df)):\n",
        "        y.append(df[i])\n",
        "        X.append(df[i - look_back:i])\n",
        "    return np.array(X), np.array(y)"
      ]
    },
    {
      "cell_type": "code",
      "execution_count": null,
      "metadata": {
        "id": "LCRD1MfSVSa8"
      },
      "outputs": [],
      "source": [
        "def scale(df, scaler):\n",
        "  simple_array = np.array(df).reshape(-1, 1)\n",
        "  ssimple_array = scaler.fit_transform(simple_array)\n",
        "  return np.array(ssimple_array).reshape((-1, ))\n",
        "\n",
        "def descaled(df, scaler):\n",
        "  simple_array = np.array(df).reshape(-1, 1)\n",
        "  ssimple_array = scaler.inverse_transform(simple_array)\n",
        "  return np.array(ssimple_array).reshape((-1, ))\n",
        "\n",
        "def smoothen(df, period):\n",
        "    df_ma = df.copy()\n",
        "    for i in range(period, len(df)):\n",
        "        ma = 0\n",
        "        for j in range(i - period + 1, i + 1):\n",
        "            ma += df[j]\n",
        "        df_ma[i] = ma / period\n",
        "    return df_ma"
      ]
    },
    {
      "cell_type": "code",
      "execution_count": null,
      "metadata": {
        "id": "M80ekF-wVVfE"
      },
      "outputs": [],
      "source": [
        "class Model:\n",
        "  def __init__(self, df, epochs = 100):\n",
        "    # self.df = smoothen(df, 3)\n",
        "    self.scaler = MinMaxScaler()\n",
        "    self.df = scale(df, self.scaler)\n",
        "    self.dfw, self.dfy = prepare_data(self.df)\n",
        "    self.epochs = epochs\n",
        "\n",
        "    self.model = Sequential()\n",
        "\n",
        "    self.model.add(LSTM(units = 32, return_sequences=True, input_shape = (self.dfw.shape[1], 1)))\n",
        "    self.model.add(Dropout(0.1))\n",
        "    self.model.add(LSTM(units = 32, return_sequences=True))\n",
        "    self.model.add(Dropout(0.1))\n",
        "    self.model.add(LSTM(units = 32))\n",
        "    self.model.add(Dropout(0.1))\n",
        "    self.model.add(Dense(units = 1))  #our predictions\n",
        "    self.model.compile(optimizer = 'adam', loss = 'mean_squared_error')\n",
        "\n",
        "  def fit(self):\n",
        "    y = self.dfy\n",
        "    callback = tf.keras.callbacks.EarlyStopping(monitor='loss', patience=7)\n",
        "    self.model.fit(self.dfw, y, epochs = 100, callbacks=[callback])\n",
        "  \n",
        "  def predict(self, predict_for):\n",
        "    df_full = self.dfw[-1]\n",
        "\n",
        "    X_p = [df_full]\n",
        "    y_p = []\n",
        "\n",
        "    for i in range(predict_for):\n",
        "        yi = self.model.predict(np.array(X_p))\n",
        "        y_p.append(yi[0][0])\n",
        "        \n",
        "        X_p = [np.append(X_p[0][1:], yi)]\n",
        "\n",
        "    return descaled(y_p, self.scaler)"
      ]
    },
    {
      "cell_type": "code",
      "execution_count": null,
      "metadata": {
        "colab": {
          "base_uri": "https://localhost:8080/"
        },
        "id": "IKxz8o35VZAd",
        "outputId": "5071f153-2a3e-46f3-d6f7-918f071d0aeb"
      },
      "outputs": [
        {
          "output_type": "stream",
          "name": "stdout",
          "text": [
            "Drive already mounted at /content/drive; to attempt to forcibly remount, call drive.mount(\"/content/drive\", force_remount=True).\n"
          ]
        }
      ],
      "source": [
        "from google.colab import drive\n",
        "drive.mount('/content/drive')"
      ]
    },
    {
      "cell_type": "code",
      "execution_count": null,
      "metadata": {
        "colab": {
          "base_uri": "https://localhost:8080/"
        },
        "id": "LVy4yXc4Va9v",
        "outputId": "73e58cb8-c5a1-4c17-a3d4-9be385879e21"
      },
      "outputs": [
        {
          "output_type": "stream",
          "name": "stdout",
          "text": [
            "Index(['Unnamed: 0', 'state_residence', 'district_residence', 'Date', '<15',\n",
            "       '15-24', '25-34', '35-44', '45-59', '60-80', '>80', '<15_pos',\n",
            "       '15-24_pos', '25-34_pos', '35-44_pos', '45-59_pos', '60-80_pos',\n",
            "       '>80_pos', 'M_pos', '2', 'F_pos', 'T', 'F', 'M', 'NIA', 'T_pos',\n",
            "       'NIA_pos', 'O', 'O_pos', 'N', 'G', ',', 'D', 'new_case',\n",
            "       'negative_case', 'Failed_test', 'Total_test',\n",
            "       'negative_egene_screening', 'positive_egene_screening',\n",
            "       'Failed_test_egene_screening', '<20_ct_value_screening',\n",
            "       '20-30_ct_value_screening', '31-35_ct_value_screening',\n",
            "       '>35_ct_value_screening', '<20_posct_value_screening',\n",
            "       '20-30_posct_value_screening', '31-35_posct_value_screening',\n",
            "       '>35_posct_value_screening', 'negative_rdrp_confirmatory',\n",
            "       'positive_rdrp_confirmatory', 'Failed_test_rdrp_confirmatory',\n",
            "       '<20_ct_value_rdrp', '20-30_ct_value_rdrp', '31-35_ct_value_rdrp',\n",
            "       '>35_ct_value_rdrp', '<20_posct_value_rdrp', '20-30_posct_value_rdrp',\n",
            "       '31-35_posct_value_rdrp', '>35_posct_value_rdrp',\n",
            "       'negative_orf1b_confirmatory', 'positive_orf1b_confirmatory',\n",
            "       'Failed_test_orf1b_confirmatory', '<20_ct_value_orf1b',\n",
            "       '20-30_ct_value_orf1b', '31-35_ct_value_orf1b', '>35_ct_value_orf1b',\n",
            "       '<20_posct_value_orf1b', '20-30_posct_value_orf1b',\n",
            "       '31-35_posct_value_orf1b', '>35_posct_value_orf1b', '3', 'D_pos', 'K',\n",
            "       'R', 'P', 'H', '5', '7', '8', 'S', '\\', 'V', '1', '4', '6', '9', '.',\n",
            "       'B', '-', '`', 'Q'],\n",
            "      dtype='object')\n",
            "['kerala' 'uttar pradesh' 'andhra pradesh' 'bihar' 'jammu and kashmir'\n",
            " 'telangana' 'maharashtra' 'delhi' 'karnataka' 'jharkhand' 'punjab'\n",
            " 'tamil nadu' 'haryana' 'rajasthan' 'madhya pradesh' 'west bengal' 'goa'\n",
            " 'gujarat' 'india' 'chhattisgarh' 'odisha' 'uttarakhand' 'assam' 'manipur'\n",
            " 'chandigarh' 'puducherry' 'ladakh' 'mizoram' 'himachal pradesh'\n",
            " 'daman and diu' 'andaman and nicobar islands' 'tripura' 'meghalaya'\n",
            " 'sikkim' 'arunachal pradesh' 'dadra and nagar haveli' 'nagaland'\n",
            " 'lakshadweep']\n"
          ]
        }
      ],
      "source": [
        "df = pd.read_csv('/content/drive/MyDrive/covid-final-all.csv')\n",
        "df['state_residence'] = df.apply(lambda row: row['state_residence'].lower(), axis=1)\n",
        "print(df.columns)\n",
        "print(df.state_residence.unique())\n",
        "df=df.groupby(['Date']).agg({'F_pos': 'sum', 'M_pos': 'sum', 'T_pos':'sum', 'NIA_pos':'sum', 'new_case': 'sum'}).reset_index()\n",
        "df.head()\n",
        "\n",
        "\n",
        "date = df.iloc[train_for + 1]['Date']"
      ]
    },
    {
      "cell_type": "code",
      "execution_count": null,
      "metadata": {
        "id": "r2hNDp50Vepi"
      },
      "outputs": [],
      "source": [
        "df_f = df['F_pos'].values\n",
        "df_m = df['M_pos'].values\n",
        "df_t = df['T_pos'].values\n",
        "df_nia = df['NIA_pos'].values\n",
        "\n",
        "df_total = df_f + df_m + df_t + df_nia\n",
        "\n",
        "# n = 70  # the larger n is, the smoother curve will be\n",
        "# b = [1.0 / n] * n\n",
        "# a = 1\n",
        "# df_total = lfilter(b, a, df_total)\n",
        "# df_total = smoothen(df_total, 10)"
      ]
    },
    {
      "cell_type": "code",
      "execution_count": null,
      "metadata": {
        "colab": {
          "base_uri": "https://localhost:8080/"
        },
        "id": "2YUWV3ToVgDR",
        "outputId": "8e3c5a73-2c61-421b-c6a8-03f9885d790f"
      },
      "outputs": [
        {
          "output_type": "stream",
          "name": "stdout",
          "text": [
            "Epoch 1/100\n",
            "22/22 [==============================] - 7s 75ms/step - loss: 0.0201\n",
            "Epoch 2/100\n",
            "22/22 [==============================] - 2s 79ms/step - loss: 0.0089\n",
            "Epoch 3/100\n",
            "22/22 [==============================] - 1s 65ms/step - loss: 0.0049\n",
            "Epoch 4/100\n",
            "22/22 [==============================] - 1s 63ms/step - loss: 0.0043\n",
            "Epoch 5/100\n",
            "22/22 [==============================] - 1s 62ms/step - loss: 0.0035\n",
            "Epoch 6/100\n",
            "22/22 [==============================] - 1s 62ms/step - loss: 0.0036\n",
            "Epoch 7/100\n",
            "22/22 [==============================] - 1s 62ms/step - loss: 0.0036\n",
            "Epoch 8/100\n",
            "22/22 [==============================] - 1s 60ms/step - loss: 0.0042\n",
            "Epoch 9/100\n",
            "22/22 [==============================] - 1s 66ms/step - loss: 0.0039\n",
            "Epoch 10/100\n",
            "22/22 [==============================] - 2s 76ms/step - loss: 0.0033\n",
            "Epoch 11/100\n",
            "22/22 [==============================] - 2s 79ms/step - loss: 0.0032\n",
            "Epoch 12/100\n",
            "22/22 [==============================] - 1s 65ms/step - loss: 0.0032\n",
            "Epoch 13/100\n",
            "22/22 [==============================] - 1s 63ms/step - loss: 0.0032\n",
            "Epoch 14/100\n",
            "22/22 [==============================] - 2s 74ms/step - loss: 0.0030\n",
            "Epoch 15/100\n",
            "22/22 [==============================] - 1s 66ms/step - loss: 0.0030\n",
            "Epoch 16/100\n",
            "22/22 [==============================] - 1s 64ms/step - loss: 0.0032\n",
            "Epoch 17/100\n",
            "22/22 [==============================] - 1s 63ms/step - loss: 0.0030\n",
            "Epoch 18/100\n",
            "22/22 [==============================] - 1s 62ms/step - loss: 0.0028\n",
            "Epoch 19/100\n",
            "22/22 [==============================] - 2s 78ms/step - loss: 0.0032\n",
            "Epoch 20/100\n",
            "22/22 [==============================] - 2s 81ms/step - loss: 0.0031\n",
            "Epoch 21/100\n",
            "22/22 [==============================] - 1s 66ms/step - loss: 0.0029\n",
            "Epoch 22/100\n",
            "22/22 [==============================] - 1s 65ms/step - loss: 0.0030\n",
            "Epoch 23/100\n",
            "22/22 [==============================] - 1s 65ms/step - loss: 0.0032\n",
            "Epoch 24/100\n",
            "22/22 [==============================] - 1s 67ms/step - loss: 0.0029\n",
            "Epoch 25/100\n",
            "22/22 [==============================] - 1s 63ms/step - loss: 0.0027\n",
            "Epoch 26/100\n",
            "22/22 [==============================] - 1s 63ms/step - loss: 0.0026\n",
            "Epoch 27/100\n",
            "22/22 [==============================] - 1s 66ms/step - loss: 0.0027\n",
            "Epoch 28/100\n",
            "22/22 [==============================] - 2s 82ms/step - loss: 0.0029\n",
            "Epoch 29/100\n",
            "22/22 [==============================] - 2s 77ms/step - loss: 0.0025\n",
            "Epoch 30/100\n",
            "22/22 [==============================] - 1s 65ms/step - loss: 0.0032\n",
            "Epoch 31/100\n",
            "22/22 [==============================] - 1s 64ms/step - loss: 0.0030\n",
            "Epoch 32/100\n",
            "22/22 [==============================] - 1s 61ms/step - loss: 0.0029\n",
            "Epoch 33/100\n",
            "22/22 [==============================] - 1s 61ms/step - loss: 0.0030\n",
            "Epoch 34/100\n",
            "22/22 [==============================] - 1s 61ms/step - loss: 0.0031\n",
            "Epoch 35/100\n",
            "22/22 [==============================] - 1s 63ms/step - loss: 0.0030\n",
            "Epoch 36/100\n",
            "22/22 [==============================] - 1s 64ms/step - loss: 0.0028\n",
            "Epoch 1/100\n",
            "22/22 [==============================] - 7s 64ms/step - loss: 0.0152\n",
            "Epoch 2/100\n",
            "22/22 [==============================] - 1s 63ms/step - loss: 0.0076\n",
            "Epoch 3/100\n",
            "22/22 [==============================] - 2s 82ms/step - loss: 0.0047\n",
            "Epoch 4/100\n",
            "22/22 [==============================] - 2s 81ms/step - loss: 0.0042\n",
            "Epoch 5/100\n",
            "22/22 [==============================] - 1s 64ms/step - loss: 0.0039\n",
            "Epoch 6/100\n",
            "22/22 [==============================] - 1s 64ms/step - loss: 0.0036\n",
            "Epoch 7/100\n",
            "22/22 [==============================] - 1s 67ms/step - loss: 0.0035\n",
            "Epoch 8/100\n",
            "22/22 [==============================] - 1s 62ms/step - loss: 0.0031\n",
            "Epoch 9/100\n",
            "22/22 [==============================] - 2s 68ms/step - loss: 0.0032\n",
            "Epoch 10/100\n",
            "22/22 [==============================] - 1s 67ms/step - loss: 0.0034\n",
            "Epoch 11/100\n",
            "22/22 [==============================] - 2s 71ms/step - loss: 0.0039\n",
            "Epoch 12/100\n",
            "22/22 [==============================] - 2s 80ms/step - loss: 0.0034\n",
            "Epoch 13/100\n",
            "22/22 [==============================] - 2s 77ms/step - loss: 0.0027\n",
            "Epoch 14/100\n",
            "22/22 [==============================] - 1s 65ms/step - loss: 0.0035\n",
            "Epoch 15/100\n",
            "22/22 [==============================] - 1s 65ms/step - loss: 0.0032\n",
            "Epoch 16/100\n",
            "22/22 [==============================] - 1s 65ms/step - loss: 0.0029\n",
            "Epoch 17/100\n",
            "22/22 [==============================] - 1s 65ms/step - loss: 0.0039\n",
            "Epoch 18/100\n",
            "22/22 [==============================] - 1s 66ms/step - loss: 0.0032\n",
            "Epoch 19/100\n",
            "22/22 [==============================] - 1s 65ms/step - loss: 0.0029\n",
            "Epoch 20/100\n",
            "22/22 [==============================] - 2s 71ms/step - loss: 0.0034\n",
            "Epoch 1/100\n",
            "22/22 [==============================] - 8s 74ms/step - loss: 0.0145\n",
            "Epoch 2/100\n",
            "22/22 [==============================] - 2s 76ms/step - loss: 0.0066\n",
            "Epoch 3/100\n",
            "22/22 [==============================] - 2s 76ms/step - loss: 0.0042\n",
            "Epoch 4/100\n",
            "22/22 [==============================] - 2s 78ms/step - loss: 0.0034\n",
            "Epoch 5/100\n",
            "22/22 [==============================] - 2s 87ms/step - loss: 0.0030\n",
            "Epoch 6/100\n",
            "22/22 [==============================] - 2s 94ms/step - loss: 0.0031\n",
            "Epoch 7/100\n",
            "22/22 [==============================] - 2s 80ms/step - loss: 0.0029\n",
            "Epoch 8/100\n",
            "22/22 [==============================] - 2s 76ms/step - loss: 0.0026\n",
            "Epoch 9/100\n",
            "22/22 [==============================] - 2s 76ms/step - loss: 0.0033\n",
            "Epoch 10/100\n",
            "22/22 [==============================] - 2s 77ms/step - loss: 0.0034\n",
            "Epoch 11/100\n",
            "22/22 [==============================] - 2s 79ms/step - loss: 0.0034\n",
            "Epoch 12/100\n",
            "22/22 [==============================] - 2s 81ms/step - loss: 0.0030\n",
            "Epoch 13/100\n",
            "22/22 [==============================] - 2s 94ms/step - loss: 0.0029\n",
            "Epoch 14/100\n",
            "22/22 [==============================] - 2s 84ms/step - loss: 0.0031\n",
            "Epoch 15/100\n",
            "22/22 [==============================] - 2s 79ms/step - loss: 0.0029\n",
            "Epoch 1/100\n",
            "22/22 [==============================] - 10s 92ms/step - loss: 0.0150\n",
            "Epoch 2/100\n",
            "22/22 [==============================] - 2s 76ms/step - loss: 0.0047\n",
            "Epoch 3/100\n",
            "22/22 [==============================] - 1s 66ms/step - loss: 0.0034\n",
            "Epoch 4/100\n",
            "22/22 [==============================] - 1s 66ms/step - loss: 0.0024\n",
            "Epoch 5/100\n",
            "22/22 [==============================] - 1s 64ms/step - loss: 0.0027\n",
            "Epoch 6/100\n",
            "22/22 [==============================] - 1s 65ms/step - loss: 0.0018\n",
            "Epoch 7/100\n",
            "22/22 [==============================] - 1s 64ms/step - loss: 0.0020\n",
            "Epoch 8/100\n",
            "22/22 [==============================] - 1s 66ms/step - loss: 0.0019\n",
            "Epoch 9/100\n",
            "22/22 [==============================] - 2s 71ms/step - loss: 0.0019\n",
            "Epoch 10/100\n",
            "22/22 [==============================] - 2s 80ms/step - loss: 0.0023\n",
            "Epoch 11/100\n",
            "22/22 [==============================] - 2s 75ms/step - loss: 0.0019\n",
            "Epoch 12/100\n",
            "22/22 [==============================] - 1s 65ms/step - loss: 0.0019\n",
            "Epoch 13/100\n",
            "22/22 [==============================] - 1s 64ms/step - loss: 0.0019\n"
          ]
        }
      ],
      "source": [
        "model_f = Model(df_f[:train_for])\n",
        "model_m = Model(df_m[:train_for])\n",
        "model_t = Model(df_t[:train_for])\n",
        "model_nia = Model(df_nia[:train_for])\n",
        "\n",
        "model_f.fit()\n",
        "model_m.fit()\n",
        "model_t.fit()\n",
        "model_nia.fit()"
      ]
    },
    {
      "cell_type": "code",
      "source": [
        "model_f.model.save(\"simpleLSTM_f.h5\")\n",
        "model_m.model.save(\"simpleLSTM_m.h5\")\n",
        "model_t.model.save(\"simpleLSTM_t.h5\")\n",
        "model_nia.model.save(\"simpleLSTM_nia.h5\")"
      ],
      "metadata": {
        "id": "8RppI10qHAHH"
      },
      "execution_count": null,
      "outputs": []
    },
    {
      "cell_type": "code",
      "execution_count": null,
      "metadata": {
        "id": "Ts8LRh2VVhoE"
      },
      "outputs": [],
      "source": [
        "def mape_(p, a):\n",
        "  m = 0.0\n",
        "  for i in range(len(p)):\n",
        "    m += abs(p[i] - a[i]) / a[i]\n",
        "  return( m / len(p)) * 100"
      ]
    },
    {
      "cell_type": "code",
      "execution_count": null,
      "metadata": {
        "colab": {
          "base_uri": "https://localhost:8080/"
        },
        "id": "bdTAblw_Vi86",
        "outputId": "f7379ee0-d38a-49b6-afbe-b74540a3f065"
      },
      "outputs": [
        {
          "output_type": "stream",
          "name": "stdout",
          "text": [
            "1/1 [==============================] - 1s 1s/step\n",
            "1/1 [==============================] - 0s 44ms/step\n",
            "1/1 [==============================] - 0s 35ms/step\n",
            "1/1 [==============================] - 0s 29ms/step\n",
            "1/1 [==============================] - 0s 26ms/step\n",
            "1/1 [==============================] - 0s 24ms/step\n",
            "1/1 [==============================] - 0s 25ms/step\n",
            "1/1 [==============================] - 0s 28ms/step\n",
            "1/1 [==============================] - 0s 26ms/step\n",
            "1/1 [==============================] - 0s 30ms/step\n",
            "1/1 [==============================] - 0s 26ms/step\n",
            "1/1 [==============================] - 0s 27ms/step\n",
            "1/1 [==============================] - 0s 28ms/step\n",
            "1/1 [==============================] - 0s 25ms/step\n",
            "1/1 [==============================] - 1s 1s/step\n",
            "1/1 [==============================] - 0s 31ms/step\n",
            "1/1 [==============================] - 0s 33ms/step\n",
            "1/1 [==============================] - 0s 29ms/step\n",
            "1/1 [==============================] - 0s 25ms/step\n",
            "1/1 [==============================] - 0s 25ms/step\n",
            "1/1 [==============================] - 0s 27ms/step\n",
            "1/1 [==============================] - 0s 28ms/step\n",
            "1/1 [==============================] - 0s 31ms/step\n",
            "1/1 [==============================] - 0s 26ms/step\n",
            "1/1 [==============================] - 0s 25ms/step\n",
            "1/1 [==============================] - 0s 27ms/step\n",
            "1/1 [==============================] - 0s 25ms/step\n",
            "1/1 [==============================] - 0s 25ms/step\n",
            "1/1 [==============================] - 1s 973ms/step\n",
            "1/1 [==============================] - 0s 26ms/step\n",
            "1/1 [==============================] - 0s 26ms/step\n",
            "1/1 [==============================] - 0s 28ms/step\n",
            "1/1 [==============================] - 0s 30ms/step\n",
            "1/1 [==============================] - 0s 26ms/step\n",
            "1/1 [==============================] - 0s 26ms/step\n",
            "1/1 [==============================] - 0s 26ms/step\n",
            "1/1 [==============================] - 0s 24ms/step\n",
            "1/1 [==============================] - 0s 27ms/step\n",
            "1/1 [==============================] - 0s 28ms/step\n",
            "1/1 [==============================] - 0s 28ms/step\n",
            "1/1 [==============================] - 0s 28ms/step\n",
            "1/1 [==============================] - 0s 29ms/step\n",
            "1/1 [==============================] - 1s 1s/step\n",
            "1/1 [==============================] - 0s 29ms/step\n",
            "1/1 [==============================] - 0s 30ms/step\n",
            "1/1 [==============================] - 0s 29ms/step\n",
            "1/1 [==============================] - 0s 29ms/step\n",
            "1/1 [==============================] - 0s 27ms/step\n",
            "1/1 [==============================] - 0s 28ms/step\n",
            "1/1 [==============================] - 0s 24ms/step\n",
            "1/1 [==============================] - 0s 27ms/step\n",
            "1/1 [==============================] - 0s 25ms/step\n",
            "1/1 [==============================] - 0s 27ms/step\n",
            "1/1 [==============================] - 0s 27ms/step\n",
            "1/1 [==============================] - 0s 30ms/step\n",
            "1/1 [==============================] - 0s 27ms/step\n",
            "MAPE: 40.340617632004886\n"
          ]
        }
      ],
      "source": [
        "predictions = model_f.predict(predict_for) + model_m.predict(predict_for) + model_t.predict(predict_for) + model_nia.predict(predict_for)\n",
        "\n",
        "actual = df_total[train_for:train_for+predict_for]\n",
        "\n",
        "MAPE = mape_(predictions, actual)\n",
        "print(\"MAPE:\", MAPE)"
      ]
    },
    {
      "cell_type": "code",
      "source": [
        "import matplotlib.pyplot as plt\n",
        "def append(a, b):\n",
        "  c = []\n",
        "  for ai in a:\n",
        "    c.append(ai)\n",
        "  for bi in b:\n",
        "    c.append(bi)\n",
        "  return c"
      ],
      "metadata": {
        "id": "6s8ydv2_HMWn"
      },
      "execution_count": null,
      "outputs": []
    },
    {
      "cell_type": "code",
      "source": [
        "window = 100\n",
        "plt.figure()\n",
        "plt.title(\"Predictions vs Actual results(N-hits)\")\n",
        "plt.plot(append(df_total[train_for - window:train_for], predictions), label=\"Predictions\")\n",
        "plt.plot(append(df_total[train_for - window:train_for], actual), label=\"Actual\")\n",
        "plt.xlabel(\"Time axis (Predictions for 14 days from \" + date)\n",
        "plt.ylabel(\"Number of covid cases\")\n",
        "plt.axvline(window, color = 'red', label = \"predictions on right of this line\")\n",
        "plt.legend()\n",
        "plt.show()"
      ],
      "metadata": {
        "colab": {
          "base_uri": "https://localhost:8080/",
          "height": 472
        },
        "id": "i0TdBxaKHN1d",
        "outputId": "598ce952-9fb3-4735-bbc7-339380dba06e"
      },
      "execution_count": null,
      "outputs": [
        {
          "output_type": "display_data",
          "data": {
            "text/plain": [
              "<Figure size 640x480 with 1 Axes>"
            ],
            "image/png": "[encoded data removed]"
          },
          "metadata": {}
        }
      ]
    },
    {
      "cell_type": "code",
      "source": [
        "print(actual)"
      ],
      "metadata": {
        "colab": {
          "base_uri": "https://localhost:8080/"
        },
        "id": "2VGkpGtSIT7Z",
        "outputId": "42365fef-b6f0-4f18-f229-97c3548746cc"
      },
      "execution_count": null,
      "outputs": [
        {
          "output_type": "stream",
          "name": "stdout",
          "text": [
            "[210776. 151380. 296174. 294333. 301381. 299915. 271531. 282285. 192189.\n",
            " 395946. 378298. 380601. 366328. 355254.]\n"
          ]
        }
      ]
    },
    {
      "cell_type": "code",
      "source": [
        "print(predictions)"
      ],
      "metadata": {
        "colab": {
          "base_uri": "https://localhost:8080/"
        },
        "id": "UBFyIr80Iu1j",
        "outputId": "8b21e48d-51d8-4800-a1b2-da2712f551b1"
      },
      "execution_count": null,
      "outputs": [
        {
          "output_type": "stream",
          "name": "stdout",
          "text": [
            "[ 89218.06 112758.3  132841.69 148978.36 161692.3  171828.72 180189.2\n",
            " 187386.28 193820.08 199712.67 205159.38 210177.53 214744.89 218822.92]\n"
          ]
        }
      ]
    },
    {
      "cell_type": "code",
      "source": [],
      "metadata": {
        "id": "mCFM_YF0IwMO"
      },
      "execution_count": null,
      "outputs": []
    }
  ],
  "metadata": {
    "colab": {
      "provenance": []
    },
    "kernelspec": {
      "display_name": "Python 3",
      "name": "python3"
    },
    "language_info": {
      "name": "python"
    }
  },
  "nbformat": 4,
  "nbformat_minor": 0
}