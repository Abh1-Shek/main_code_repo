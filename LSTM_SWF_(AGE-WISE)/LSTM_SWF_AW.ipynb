{
  "cells": [
    {
      "cell_type": "code",
      "execution_count": null,
      "metadata": {
        "id": "BqLVFOAO9_fk"
      },
      "outputs": [],
      "source": [
        "from tensorflow.keras.models import Sequential\n",
        "from tensorflow.keras.layers import Dense, Dropout, LSTM\n",
        "from sklearn.preprocessing import MinMaxScaler\n",
        "import numpy as np\n",
        "import matplotlib.pyplot as plt\n",
        "import pandas as pd\n",
        "from sklearn.model_selection import train_test_split\n",
        "import tensorflow as tf\n",
        "from tensorflow import keras\n",
        "from sklearn.metrics import mean_squared_error"
      ]
    },
    {
      "cell_type": "code",
      "source": [
        "train_for = 735\n",
        "predict_for = 14"
      ],
      "metadata": {
        "id": "i_4-hMZxP9B9"
      },
      "execution_count": null,
      "outputs": []
    },
    {
      "cell_type": "code",
      "execution_count": null,
      "metadata": {
        "id": "9G1oY6eG-Zre"
      },
      "outputs": [],
      "source": [
        "def smoothen_freq(df):\n",
        "  x = df\n",
        "  nan_indices = np.isnan(x)\n",
        "\n",
        "  # # Remove the NaN values from the array\n",
        "  x = x[np.logical_not(nan_indices)]\n",
        "\n",
        "  # Generate a noisy signal\n",
        "  signal = x\n",
        "\n",
        "  # Apply Fourier transform to the signal\n",
        "  f_signal = np.fft.fft(signal)\n",
        "\n",
        "  # Calculate the power spectrum\n",
        "  power = np.abs(f_signal)**2\n",
        "\n",
        "  # Set a threshold to remove the noise\n",
        "  threshold = 0.005 * max(power)\n",
        "  f_signal[power < threshold] = 0\n",
        "\n",
        "  # Apply inverse Fourier transform to the filtered signal\n",
        "  filtered_signal = np.fft.ifft(f_signal)\n",
        "\n",
        "  return filtered_signal\n"
      ]
    },
    {
      "cell_type": "code",
      "execution_count": null,
      "metadata": {
        "id": "uSgjW9_C-cIG"
      },
      "outputs": [],
      "source": [
        "look_back = 50\n",
        "\n",
        "def prepare_data(df):\n",
        "    X = []\n",
        "    y = []\n",
        "    for i in range(look_back, len(df)):\n",
        "        y.append(df[i])\n",
        "        X.append(df[i - look_back:i])\n",
        "    return np.array(X), np.array(y)"
      ]
    },
    {
      "cell_type": "code",
      "execution_count": null,
      "metadata": {
        "id": "t6__FJ9z-dba"
      },
      "outputs": [],
      "source": [
        "def scale(df, scaler):\n",
        "  simple_array = np.array(df).reshape(-1, 1)\n",
        "  ssimple_array = scaler.fit_transform(simple_array)\n",
        "  return np.array(ssimple_array).reshape((-1, ))\n",
        "\n",
        "def descaled(df, scaler):\n",
        "  simple_array = np.array(df).reshape(-1, 1)\n",
        "  ssimple_array = scaler.inverse_transform(simple_array)\n",
        "  return np.array(ssimple_array).reshape((-1, ))"
      ]
    },
    {
      "cell_type": "code",
      "execution_count": null,
      "metadata": {
        "id": "VC4B4SQz-eq0"
      },
      "outputs": [],
      "source": [
        "class Model:\n",
        "  def __init__(self, df):\n",
        "    self.model=None\n",
        "    self.scaler = MinMaxScaler()\n",
        "    # self.df = smoothen_freq(df)\n",
        "    self.df = scale(df, self.scaler)\n",
        "    self.dfw, self.dfy = prepare_data(self.df)\n",
        "\n",
        "    model_strong = tf.keras.Sequential([\n",
        "        LSTM(units = 32, return_sequences=True, input_shape = (self.dfw.shape[1], 1)),\n",
        "        LSTM(units = 32, return_sequences=True),\n",
        "        LSTM(units = 32),\n",
        "        Dense(units = 32)\n",
        "    ])\n",
        "    \n",
        "    model_weak=tf.keras.Sequential([\n",
        "        LSTM(units = 32, return_sequences=True, input_shape = (self.dfw.shape[1], 1)),\n",
        "        Dropout(0.2),\n",
        "        LSTM(units = 32, return_sequences=True),\n",
        "        Dropout(0.2),\n",
        "        LSTM(units = 32),\n",
        "        Dropout(0.2),\n",
        "        Dense(units = 32)\n",
        "    ])\n",
        "\n",
        "    concatenated=tf.keras.layers.Concatenate()([model_strong.output, model_weak.output])\n",
        "    l1=tf.keras.layers.Dense(64)(concatenated)\n",
        "    l2=tf.keras.layers.Dense(32)(l1)\n",
        "    l3=tf.keras.layers.Dense(16)(l2)\n",
        "    l4=tf.keras.layers.Dense(1)(l3)\n",
        "\n",
        "\n",
        "    \n",
        "\n",
        "    self.model=tf.keras.Model(inputs=[model_strong.input, model_weak.input], outputs=l4)\n",
        "    self.model.compile(optimizer = 'adam', loss = \"mean_squared_error\")\n",
        "\n",
        "    \n",
        "\n",
        "  def fit(self):\n",
        "    y_train = self.dfy \n",
        "    callback = tf.keras.callbacks.EarlyStopping(monitor='loss', patience=5)\n",
        "\n",
        "    self.model.fit([self.dfw, self.dfw], y_train, epochs = 100, callbacks=[callback])\n",
        "  \n",
        "  def predict(self, predict_for):\n",
        "    df_full = self.dfw[-1]\n",
        "\n",
        "    X_p = [df_full]\n",
        "    y_p = []\n",
        "\n",
        "    for i in range(predict_for):\n",
        "        yi = self.model.predict([np.array(X_p), np.array(X_p)])\n",
        "        y_p.append(yi[0][0])\n",
        "        \n",
        "        X_p = [np.append(X_p[0][1:], yi)]\n",
        "\n",
        "    return descaled(y_p, self.scaler)"
      ]
    },
    {
      "cell_type": "code",
      "execution_count": null,
      "metadata": {
        "colab": {
          "base_uri": "https://localhost:8080/"
        },
        "id": "Zwgb9smh-f9D",
        "outputId": "1df7b266-4995-4253-e9ab-a0f7d206b1d8"
      },
      "outputs": [
        {
          "output_type": "stream",
          "name": "stdout",
          "text": [
            "Drive already mounted at /content/drive; to attempt to forcibly remount, call drive.mount(\"/content/drive\", force_remount=True).\n"
          ]
        }
      ],
      "source": [
        "from google.colab import drive\n",
        "drive.mount('/content/drive')"
      ]
    },
    {
      "cell_type": "code",
      "execution_count": null,
      "metadata": {
        "id": "cyFuXSBM-hKn"
      },
      "outputs": [],
      "source": [
        "def smoothen(df, period):\n",
        "    df_ma = df.copy()\n",
        "    for i in range(period, len(df)):\n",
        "        ma = 0\n",
        "        for j in range(i - period + 1, i + 1):\n",
        "            ma += df[j]\n",
        "        df_ma[i] = ma / period\n",
        "    return df_ma"
      ]
    },
    {
      "cell_type": "code",
      "execution_count": null,
      "metadata": {
        "colab": {
          "base_uri": "https://localhost:8080/"
        },
        "id": "Sb8njo6k-oW5",
        "outputId": "a1d3abd4-acaa-448f-a9db-e094f5257046"
      },
      "outputs": [
        {
          "output_type": "stream",
          "name": "stdout",
          "text": [
            "Index(['Unnamed: 0', 'state_residence', 'district_residence', 'Date', '<15',\n",
            "       '15-24', '25-34', '35-44', '45-59', '60-80', '>80', '<15_pos',\n",
            "       '15-24_pos', '25-34_pos', '35-44_pos', '45-59_pos', '60-80_pos',\n",
            "       '>80_pos', 'M_pos', '2', 'F_pos', 'T', 'F', 'M', 'NIA', 'T_pos',\n",
            "       'NIA_pos', 'O', 'O_pos', 'N', 'G', ',', 'D', 'new_case',\n",
            "       'negative_case', 'Failed_test', 'Total_test',\n",
            "       'negative_egene_screening', 'positive_egene_screening',\n",
            "       'Failed_test_egene_screening', '<20_ct_value_screening',\n",
            "       '20-30_ct_value_screening', '31-35_ct_value_screening',\n",
            "       '>35_ct_value_screening', '<20_posct_value_screening',\n",
            "       '20-30_posct_value_screening', '31-35_posct_value_screening',\n",
            "       '>35_posct_value_screening', 'negative_rdrp_confirmatory',\n",
            "       'positive_rdrp_confirmatory', 'Failed_test_rdrp_confirmatory',\n",
            "       '<20_ct_value_rdrp', '20-30_ct_value_rdrp', '31-35_ct_value_rdrp',\n",
            "       '>35_ct_value_rdrp', '<20_posct_value_rdrp', '20-30_posct_value_rdrp',\n",
            "       '31-35_posct_value_rdrp', '>35_posct_value_rdrp',\n",
            "       'negative_orf1b_confirmatory', 'positive_orf1b_confirmatory',\n",
            "       'Failed_test_orf1b_confirmatory', '<20_ct_value_orf1b',\n",
            "       '20-30_ct_value_orf1b', '31-35_ct_value_orf1b', '>35_ct_value_orf1b',\n",
            "       '<20_posct_value_orf1b', '20-30_posct_value_orf1b',\n",
            "       '31-35_posct_value_orf1b', '>35_posct_value_orf1b', '3', 'D_pos', 'K',\n",
            "       'R', 'P', 'H', '5', '7', '8', 'S', '\\', 'V', '1', '4', '6', '9', '.',\n",
            "       'B', '-', '`', 'Q'],\n",
            "      dtype='object')\n",
            "['kerala' 'uttar pradesh' 'andhra pradesh' 'bihar' 'jammu and kashmir'\n",
            " 'telangana' 'maharashtra' 'delhi' 'karnataka' 'jharkhand' 'punjab'\n",
            " 'tamil nadu' 'haryana' 'rajasthan' 'madhya pradesh' 'west bengal' 'goa'\n",
            " 'gujarat' 'india' 'chhattisgarh' 'odisha' 'uttarakhand' 'assam' 'manipur'\n",
            " 'chandigarh' 'puducherry' 'ladakh' 'mizoram' 'himachal pradesh'\n",
            " 'daman and diu' 'andaman and nicobar islands' 'tripura' 'meghalaya'\n",
            " 'sikkim' 'arunachal pradesh' 'dadra and nagar haveli' 'nagaland'\n",
            " 'lakshadweep']\n"
          ]
        }
      ],
      "source": [
        "df = pd.read_csv('/content/drive/MyDrive/covid-final-all.csv')\n",
        "df['state_residence'] = df.apply(lambda row: row['state_residence'].lower(), axis=1)\n",
        "print(df.columns)\n",
        "print(df.state_residence.unique())\n",
        "\n",
        "df=df.groupby(['Date']).agg({'<15_pos': 'sum', '15-24_pos': 'sum', '25-34_pos':'sum', '35-44_pos':'sum', '45-59_pos':'sum', '60-80_pos':'sum', '>80_pos':'sum', 'new_case': 'sum'}).reset_index()\n",
        "df.head()\n",
        "\n",
        "\n",
        "date = df.iloc[train_for + 1]['Date']\n",
        "\n",
        "\n",
        "df_total = df['new_case'].values\n",
        "\n",
        "# df_total = df['new_case']\n",
        "\n",
        "# n = 70  # the larger n is, the smoother curve will be\n",
        "# b = [1.0 / n] * n\n",
        "# a = 1\n",
        "# df_total = lfilter(b, a, df_total)\n",
        "# df_total = smoothen(df_total, 10)"
      ]
    },
    {
      "cell_type": "code",
      "execution_count": null,
      "metadata": {
        "id": "4cfoUYh5-17j"
      },
      "outputs": [],
      "source": [
        "age_groups = ['<15_pos', '15-24_pos', '25-34_pos', '35-44_pos', '45-59_pos', '60-80_pos', '>80_pos']\n",
        "\n",
        "df_age_wise = {}\n",
        "\n",
        "for age_group in age_groups:\n",
        "  df_age_wise[age_group] = df[age_group].values\n",
        "\n",
        "models = {}\n",
        "for age_group in age_groups:\n",
        "  models[age_group] = Model(df_age_wise[age_group][:train_for])"
      ]
    },
    {
      "cell_type": "code",
      "source": [
        "counter = 0\n",
        "for age_group in age_groups:\n",
        "  print('*************************************************************')\n",
        "  print(counter, \"/\", len(age_groups))\n",
        "  print('*************************************************************')\n",
        "  counter += 1\n",
        "  models[age_group].fit()"
      ],
      "metadata": {
        "colab": {
          "base_uri": "https://localhost:8080/"
        },
        "id": "vIaXYkHsCM-x",
        "outputId": "74f3032c-a9aa-4608-8435-22b9c204e6b8"
      },
      "execution_count": null,
      "outputs": [
        {
          "output_type": "stream",
          "name": "stdout",
          "text": [
            "*************************************************************\n",
            "0 / 7\n",
            "*************************************************************\n",
            "Epoch 1/100\n",
            "22/22 [==============================] - 21s 228ms/step - loss: 0.0122\n",
            "Epoch 2/100\n",
            "22/22 [==============================] - 3s 120ms/step - loss: 0.0057\n",
            "Epoch 3/100\n",
            "22/22 [==============================] - 3s 127ms/step - loss: 0.0037\n",
            "Epoch 4/100\n",
            "22/22 [==============================] - 3s 127ms/step - loss: 0.0041\n",
            "Epoch 5/100\n",
            "22/22 [==============================] - 3s 155ms/step - loss: 0.0038\n",
            "Epoch 6/100\n",
            "22/22 [==============================] - 4s 195ms/step - loss: 0.0041\n",
            "Epoch 7/100\n",
            "22/22 [==============================] - 3s 127ms/step - loss: 0.0037\n",
            "Epoch 8/100\n",
            "22/22 [==============================] - 3s 132ms/step - loss: 0.0039\n",
            "*************************************************************\n",
            "1 / 7\n",
            "*************************************************************\n",
            "Epoch 1/100\n",
            "22/22 [==============================] - 19s 158ms/step - loss: 0.0000e+00\n",
            "Epoch 2/100\n",
            "22/22 [==============================] - 4s 196ms/step - loss: 0.0000e+00\n",
            "Epoch 3/100\n",
            "22/22 [==============================] - 3s 127ms/step - loss: 0.0000e+00\n",
            "Epoch 4/100\n",
            "22/22 [==============================] - 3s 129ms/step - loss: 0.0000e+00\n",
            "Epoch 5/100\n",
            "22/22 [==============================] - 3s 129ms/step - loss: 0.0000e+00\n",
            "Epoch 6/100\n",
            "22/22 [==============================] - 5s 215ms/step - loss: 0.0000e+00\n",
            "*************************************************************\n",
            "2 / 7\n",
            "*************************************************************\n",
            "Epoch 1/100\n",
            "22/22 [==============================] - 29s 261ms/step - loss: 0.0135\n",
            "Epoch 2/100\n",
            "22/22 [==============================] - 4s 191ms/step - loss: 0.0054\n",
            "Epoch 3/100\n",
            "22/22 [==============================] - 4s 166ms/step - loss: 0.0037\n",
            "Epoch 4/100\n",
            "22/22 [==============================] - 5s 210ms/step - loss: 0.0030\n",
            "Epoch 5/100\n",
            "22/22 [==============================] - 5s 222ms/step - loss: 0.0029\n",
            "Epoch 6/100\n",
            "22/22 [==============================] - 4s 160ms/step - loss: 0.0032\n",
            "Epoch 7/100\n",
            "22/22 [==============================] - 4s 171ms/step - loss: 0.0035\n",
            "Epoch 8/100\n",
            "22/22 [==============================] - 6s 268ms/step - loss: 0.0030\n",
            "Epoch 9/100\n",
            "22/22 [==============================] - 4s 160ms/step - loss: 0.0029\n",
            "Epoch 10/100\n",
            "22/22 [==============================] - 4s 168ms/step - loss: 0.0032\n",
            "*************************************************************\n",
            "3 / 7\n",
            "*************************************************************\n",
            "Epoch 1/100\n",
            "22/22 [==============================] - 22s 274ms/step - loss: 0.0115\n",
            "Epoch 2/100\n",
            "22/22 [==============================] - 4s 170ms/step - loss: 0.0051\n",
            "Epoch 3/100\n",
            "22/22 [==============================] - 4s 177ms/step - loss: 0.0041\n",
            "Epoch 4/100\n",
            "22/22 [==============================] - 5s 228ms/step - loss: 0.0028\n",
            "Epoch 5/100\n",
            "22/22 [==============================] - 5s 217ms/step - loss: 0.0031\n",
            "Epoch 6/100\n",
            "22/22 [==============================] - 4s 179ms/step - loss: 0.0044\n",
            "Epoch 7/100\n",
            "22/22 [==============================] - 4s 194ms/step - loss: 0.0031\n",
            "Epoch 8/100\n",
            "22/22 [==============================] - 6s 250ms/step - loss: 0.0033\n",
            "Epoch 9/100\n",
            "22/22 [==============================] - 4s 178ms/step - loss: 0.0029\n",
            "*************************************************************\n",
            "4 / 7\n",
            "*************************************************************\n",
            "Epoch 1/100\n",
            "22/22 [==============================] - 19s 197ms/step - loss: 0.0129\n",
            "Epoch 2/100\n",
            "22/22 [==============================] - 5s 205ms/step - loss: 0.0079\n",
            "Epoch 3/100\n",
            "22/22 [==============================] - 3s 150ms/step - loss: 0.0051\n",
            "Epoch 4/100\n",
            "22/22 [==============================] - 3s 144ms/step - loss: 0.0033\n",
            "Epoch 5/100\n",
            "22/22 [==============================] - 4s 203ms/step - loss: 0.0048\n",
            "Epoch 6/100\n",
            "22/22 [==============================] - 4s 197ms/step - loss: 0.0030\n",
            "Epoch 7/100\n",
            "22/22 [==============================] - 3s 155ms/step - loss: 0.0035\n",
            "Epoch 8/100\n",
            "22/22 [==============================] - 3s 154ms/step - loss: 0.0038\n",
            "Epoch 9/100\n",
            "22/22 [==============================] - 6s 257ms/step - loss: 0.0032\n",
            "Epoch 10/100\n",
            "22/22 [==============================] - 3s 159ms/step - loss: 0.0053\n",
            "Epoch 11/100\n",
            "22/22 [==============================] - 3s 152ms/step - loss: 0.0033\n",
            "*************************************************************\n",
            "5 / 7\n",
            "*************************************************************\n",
            "Epoch 1/100\n",
            "22/22 [==============================] - 25s 174ms/step - loss: 0.0180\n",
            "Epoch 2/100\n",
            "22/22 [==============================] - 4s 164ms/step - loss: 0.0076\n",
            "Epoch 3/100\n",
            "22/22 [==============================] - 5s 228ms/step - loss: 0.0052\n",
            "Epoch 4/100\n",
            "22/22 [==============================] - 4s 181ms/step - loss: 0.0032\n",
            "Epoch 5/100\n",
            "22/22 [==============================] - 4s 161ms/step - loss: 0.0029\n",
            "Epoch 6/100\n",
            "22/22 [==============================] - 4s 168ms/step - loss: 0.0055\n",
            "Epoch 7/100\n",
            "22/22 [==============================] - 6s 259ms/step - loss: 0.0039\n",
            "Epoch 8/100\n",
            "22/22 [==============================] - 5s 219ms/step - loss: 0.0033\n",
            "Epoch 9/100\n",
            "22/22 [==============================] - 4s 161ms/step - loss: 0.0031\n",
            "Epoch 10/100\n",
            "22/22 [==============================] - 6s 260ms/step - loss: 0.0033\n",
            "*************************************************************\n",
            "6 / 7\n",
            "*************************************************************\n",
            "Epoch 1/100\n",
            "22/22 [==============================] - 20s 142ms/step - loss: 0.0204\n",
            "Epoch 2/100\n",
            "22/22 [==============================] - 3s 151ms/step - loss: 0.0077\n",
            "Epoch 3/100\n",
            "22/22 [==============================] - 3s 151ms/step - loss: 0.0041\n",
            "Epoch 4/100\n",
            "22/22 [==============================] - 5s 252ms/step - loss: 0.0033\n",
            "Epoch 5/100\n",
            "22/22 [==============================] - 3s 146ms/step - loss: 0.0034\n",
            "Epoch 6/100\n",
            "22/22 [==============================] - 3s 146ms/step - loss: 0.0037\n",
            "Epoch 7/100\n",
            "22/22 [==============================] - 3s 155ms/step - loss: 0.0032\n",
            "Epoch 8/100\n",
            "22/22 [==============================] - 5s 234ms/step - loss: 0.0030\n",
            "Epoch 9/100\n",
            "22/22 [==============================] - 3s 148ms/step - loss: 0.0030\n",
            "Epoch 10/100\n",
            "22/22 [==============================] - 3s 148ms/step - loss: 0.0033\n",
            "Epoch 11/100\n",
            "22/22 [==============================] - 4s 159ms/step - loss: 0.0033\n",
            "Epoch 12/100\n",
            "22/22 [==============================] - 5s 229ms/step - loss: 0.0034\n",
            "Epoch 13/100\n",
            "22/22 [==============================] - 3s 150ms/step - loss: 0.0030\n"
          ]
        }
      ]
    },
    {
      "cell_type": "code",
      "source": [
        "predictions = models[age_groups[0]].predict(predict_for)\n",
        "\n",
        "for i in range(1, len(age_groups)):\n",
        "  predictions = predictions + models[age_groups[i]].predict(predict_for)"
      ],
      "metadata": {
        "colab": {
          "base_uri": "https://localhost:8080/"
        },
        "id": "nxgCj3T1CiU0",
        "outputId": "dd8457fa-3d46-40cc-cd9c-e07acc0da40a"
      },
      "execution_count": null,
      "outputs": [
        {
          "output_type": "stream",
          "name": "stdout",
          "text": [
            "1/1 [==============================] - 3s 3s/step\n",
            "1/1 [==============================] - 0s 39ms/step\n",
            "1/1 [==============================] - 0s 37ms/step\n",
            "1/1 [==============================] - 0s 51ms/step\n",
            "1/1 [==============================] - 0s 37ms/step\n",
            "1/1 [==============================] - 0s 43ms/step\n",
            "1/1 [==============================] - 0s 36ms/step\n",
            "1/1 [==============================] - 0s 39ms/step\n",
            "1/1 [==============================] - 0s 39ms/step\n",
            "1/1 [==============================] - 0s 46ms/step\n",
            "1/1 [==============================] - 0s 40ms/step\n",
            "1/1 [==============================] - 0s 36ms/step\n",
            "1/1 [==============================] - 0s 42ms/step\n",
            "1/1 [==============================] - 0s 40ms/step\n",
            "1/1 [==============================] - 4s 4s/step\n",
            "1/1 [==============================] - 0s 82ms/step\n",
            "1/1 [==============================] - 0s 82ms/step\n",
            "1/1 [==============================] - 0s 76ms/step\n",
            "1/1 [==============================] - 0s 69ms/step\n",
            "1/1 [==============================] - 0s 71ms/step\n",
            "1/1 [==============================] - 0s 65ms/step\n",
            "1/1 [==============================] - 0s 82ms/step\n",
            "1/1 [==============================] - 0s 69ms/step\n",
            "1/1 [==============================] - 0s 60ms/step\n",
            "1/1 [==============================] - 0s 65ms/step\n",
            "1/1 [==============================] - 0s 43ms/step\n",
            "1/1 [==============================] - 0s 38ms/step\n",
            "1/1 [==============================] - 0s 38ms/step\n",
            "1/1 [==============================] - 3s 3s/step\n",
            "1/1 [==============================] - 0s 38ms/step\n",
            "1/1 [==============================] - 0s 38ms/step\n",
            "1/1 [==============================] - 0s 40ms/step\n",
            "1/1 [==============================] - 0s 39ms/step\n",
            "1/1 [==============================] - 0s 39ms/step\n",
            "1/1 [==============================] - 0s 43ms/step\n",
            "1/1 [==============================] - 0s 35ms/step\n",
            "1/1 [==============================] - 0s 42ms/step\n",
            "1/1 [==============================] - 0s 46ms/step\n",
            "1/1 [==============================] - 0s 37ms/step\n",
            "1/1 [==============================] - 0s 36ms/step\n",
            "1/1 [==============================] - 0s 39ms/step\n",
            "1/1 [==============================] - 0s 36ms/step\n",
            "1/1 [==============================] - 4s 4s/step\n",
            "1/1 [==============================] - 0s 39ms/step\n",
            "1/1 [==============================] - 0s 50ms/step\n",
            "1/1 [==============================] - 0s 36ms/step\n",
            "1/1 [==============================] - 0s 41ms/step\n",
            "1/1 [==============================] - 0s 36ms/step\n",
            "1/1 [==============================] - 0s 46ms/step\n",
            "1/1 [==============================] - 0s 42ms/step\n",
            "1/1 [==============================] - 0s 42ms/step\n",
            "1/1 [==============================] - 0s 40ms/step\n",
            "1/1 [==============================] - 0s 41ms/step\n",
            "1/1 [==============================] - 0s 55ms/step\n",
            "1/1 [==============================] - 0s 40ms/step\n",
            "1/1 [==============================] - 0s 43ms/step\n",
            "1/1 [==============================] - 4s 4s/step\n",
            "1/1 [==============================] - 0s 37ms/step\n",
            "1/1 [==============================] - 0s 43ms/step\n",
            "1/1 [==============================] - 0s 37ms/step\n",
            "1/1 [==============================] - 0s 38ms/step\n",
            "1/1 [==============================] - 0s 35ms/step\n",
            "1/1 [==============================] - 0s 35ms/step\n",
            "1/1 [==============================] - 0s 45ms/step\n",
            "1/1 [==============================] - 0s 35ms/step\n",
            "1/1 [==============================] - 0s 46ms/step\n",
            "1/1 [==============================] - 0s 41ms/step\n",
            "1/1 [==============================] - 0s 39ms/step\n",
            "1/1 [==============================] - 0s 41ms/step\n",
            "1/1 [==============================] - 0s 44ms/step\n",
            "1/1 [==============================] - 3s 3s/step\n",
            "1/1 [==============================] - 0s 42ms/step\n",
            "1/1 [==============================] - 0s 37ms/step\n",
            "1/1 [==============================] - 0s 38ms/step\n",
            "1/1 [==============================] - 0s 36ms/step\n",
            "1/1 [==============================] - 0s 51ms/step\n",
            "1/1 [==============================] - 0s 38ms/step\n",
            "1/1 [==============================] - 0s 37ms/step\n",
            "1/1 [==============================] - 0s 37ms/step\n",
            "1/1 [==============================] - 0s 39ms/step\n",
            "1/1 [==============================] - 0s 36ms/step\n",
            "1/1 [==============================] - 0s 38ms/step\n",
            "1/1 [==============================] - 0s 38ms/step\n",
            "1/1 [==============================] - 0s 38ms/step\n",
            "1/1 [==============================] - 3s 3s/step\n",
            "1/1 [==============================] - 0s 55ms/step\n",
            "1/1 [==============================] - 0s 49ms/step\n",
            "1/1 [==============================] - 0s 39ms/step\n",
            "1/1 [==============================] - 0s 43ms/step\n",
            "1/1 [==============================] - 0s 47ms/step\n",
            "1/1 [==============================] - 0s 41ms/step\n",
            "1/1 [==============================] - 0s 47ms/step\n",
            "1/1 [==============================] - 0s 40ms/step\n",
            "1/1 [==============================] - 0s 40ms/step\n",
            "1/1 [==============================] - 0s 41ms/step\n",
            "1/1 [==============================] - 0s 39ms/step\n",
            "1/1 [==============================] - 0s 40ms/step\n",
            "1/1 [==============================] - 0s 49ms/step\n"
          ]
        }
      ]
    },
    {
      "cell_type": "code",
      "execution_count": null,
      "metadata": {
        "id": "vGI6tVEi-4Cv"
      },
      "outputs": [],
      "source": [
        "def mape_(p, a):\n",
        "  print(len(p))\n",
        "  print(len(a))\n",
        "  m = 0.0\n",
        "  for i in range(len(p)):\n",
        "    m += abs(p[i] - a[i]) / a[i]\n",
        "  return( m / len(p)) * 100"
      ]
    },
    {
      "cell_type": "code",
      "source": [
        "actual = df_total[train_for:train_for+predict_for]\n",
        "\n",
        "MAPE = mape_(predictions, actual)\n",
        "print(\"MAPE:\", MAPE)"
      ],
      "metadata": {
        "colab": {
          "base_uri": "https://localhost:8080/"
        },
        "id": "Zih9nLboCraj",
        "outputId": "43b96502-fec4-4e30-9d72-343db0d2ade0"
      },
      "execution_count": null,
      "outputs": [
        {
          "output_type": "stream",
          "name": "stdout",
          "text": [
            "14\n",
            "14\n",
            "MAPE: 53.972733283325084\n"
          ]
        }
      ]
    },
    {
      "cell_type": "code",
      "source": [
        "import matplotlib.pyplot as plt\n",
        "def append(a, b):\n",
        "  c = []\n",
        "  for ai in a:\n",
        "    c.append(ai)\n",
        "  for bi in b:\n",
        "    c.append(bi)\n",
        "  return c"
      ],
      "metadata": {
        "id": "zZuTpU1kQIxm"
      },
      "execution_count": null,
      "outputs": []
    },
    {
      "cell_type": "code",
      "source": [
        "window = 100\n",
        "plt.figure()\n",
        "plt.title(\"Predictions vs Actual results\")\n",
        "plt.plot(append(df_total[train_for - window:train_for], predictions), label=\"Predictions\")\n",
        "plt.plot(append(df_total[train_for - window:train_for], actual), label=\"Actual\")\n",
        "plt.xlabel(\"Time axis (Predictions for 14 days from \" + date)\n",
        "plt.ylabel(\"Number of covid cases\")\n",
        "plt.axvline(window, color = 'red', label = \"predictions on right of this line\")\n",
        "plt.legend()\n",
        "plt.show()"
      ],
      "metadata": {
        "colab": {
          "base_uri": "https://localhost:8080/",
          "height": 472
        },
        "id": "aoDeB_7AQK-g",
        "outputId": "3b60651e-6df0-4edd-83f5-fa7a31184708"
      },
      "execution_count": null,
      "outputs": [
        {
          "output_type": "display_data",
          "data": {
            "text/plain": [
              "<Figure size 640x480 with 1 Axes>"
            ],
            "image/png": "[encoded data removed]"
          },
          "metadata": {}
        }
      ]
    },
    {
      "cell_type": "code",
      "source": [
        "print(predictions)"
      ],
      "metadata": {
        "colab": {
          "base_uri": "https://localhost:8080/"
        },
        "id": "MxI1wbd8QMhO",
        "outputId": "e0a655df-850f-415f-e0a6-814bef356b58"
      },
      "execution_count": null,
      "outputs": [
        {
          "output_type": "stream",
          "name": "stdout",
          "text": [
            "[ 68800.53   87383.33  102744.09  114792.266 124161.2   131628.55\n",
            " 137864.42  143351.56  148396.92  153173.3   157763.9   162198.7\n",
            " 166478.52  170594.27 ]\n"
          ]
        }
      ]
    },
    {
      "cell_type": "code",
      "source": [
        "print(actual)"
      ],
      "metadata": {
        "colab": {
          "base_uri": "https://localhost:8080/"
        },
        "id": "OOO-0jXrUdgY",
        "outputId": "dd87e666-83b4-47b9-dca5-2e565f3ca55b"
      },
      "execution_count": null,
      "outputs": [
        {
          "output_type": "stream",
          "name": "stdout",
          "text": [
            "[210776. 151381. 296176. 294335. 301381. 299917. 271532. 282287. 192190.\n",
            " 395946. 378298. 380601. 366328. 355255.]\n"
          ]
        }
      ]
    },
    {
      "cell_type": "code",
      "source": [
        "counter = 0\n",
        "for age_group in age_groups:\n",
        "  print('*************************************************************')\n",
        "  print(counter, \"/\", len(age_groups))\n",
        "  print('*************************************************************')\n",
        "  counter += 1\n",
        "  models[age_group].model.save(\"model_\" + age_group + date + \".h5\")"
      ],
      "metadata": {
        "id": "A-_1tMSmVCN4",
        "colab": {
          "base_uri": "https://localhost:8080/"
        },
        "outputId": "c64f1543-a2cb-42fe-a3bd-17fb4d69455c"
      },
      "execution_count": null,
      "outputs": [
        {
          "output_type": "stream",
          "name": "stdout",
          "text": [
            "*************************************************************\n",
            "0 / 7\n",
            "*************************************************************\n",
            "*************************************************************\n",
            "1 / 7\n",
            "*************************************************************\n",
            "*************************************************************\n",
            "2 / 7\n",
            "*************************************************************\n",
            "*************************************************************\n",
            "3 / 7\n",
            "*************************************************************\n",
            "*************************************************************\n",
            "4 / 7\n",
            "*************************************************************\n",
            "*************************************************************\n",
            "5 / 7\n",
            "*************************************************************\n",
            "*************************************************************\n",
            "6 / 7\n",
            "*************************************************************\n"
          ]
        }
      ]
    },
    {
      "cell_type": "code",
      "source": [],
      "metadata": {
        "id": "2AwJC_Y0ID2O"
      },
      "execution_count": null,
      "outputs": []
    }
  ],
  "metadata": {
    "colab": {
      "provenance": []
    },
    "kernelspec": {
      "display_name": "Python 3",
      "name": "python3"
    },
    "language_info": {
      "name": "python"
    }
  },
  "nbformat": 4,
  "nbformat_minor": 0
}