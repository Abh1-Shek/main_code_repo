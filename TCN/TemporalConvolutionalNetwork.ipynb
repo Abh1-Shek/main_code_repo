{
  "nbformat": 4,
  "nbformat_minor": 0,
  "metadata": {
    "colab": {
      "provenance": []
    },
    "kernelspec": {
      "name": "python3",
      "display_name": "Python 3"
    },
    "language_info": {
      "name": "python"
    },
    "widgets": {
      "application/vnd.jupyter.widget-state+json": {
        "9c787c5fe62f4b13a681ba17c4fc0078": {
          "model_module": "@jupyter-widgets/controls",
          "model_name": "HBoxModel",
          "model_module_version": "1.5.0",
          "state": {
            "_dom_classes": [],
            "_model_module": "@jupyter-widgets/controls",
            "_model_module_version": "1.5.0",
            "_model_name": "HBoxModel",
            "_view_count": null,
            "_view_module": "@jupyter-widgets/controls",
            "_view_module_version": "1.5.0",
            "_view_name": "HBoxView",
            "box_style": "",
            "children": [
              "IPY_MODEL_06c0bcd2cd9747f99dc74d344664d999",
              "IPY_MODEL_9b72ce13b1c243fca7287dec2f14dd47",
              "IPY_MODEL_86d5672b19994d748788734d576d2bd4"
            ],
            "layout": "IPY_MODEL_9cd4ef89e25844e186de7f3d7f2f2402"
          }
        },
        "06c0bcd2cd9747f99dc74d344664d999": {
          "model_module": "@jupyter-widgets/controls",
          "model_name": "HTMLModel",
          "model_module_version": "1.5.0",
          "state": {
            "_dom_classes": [],
            "_model_module": "@jupyter-widgets/controls",
            "_model_module_version": "1.5.0",
            "_model_name": "HTMLModel",
            "_view_count": null,
            "_view_module": "@jupyter-widgets/controls",
            "_view_module_version": "1.5.0",
            "_view_name": "HTMLView",
            "description": "",
            "description_tooltip": null,
            "layout": "IPY_MODEL_64193763b2084315ad553f7137853b2b",
            "placeholder": "​",
            "style": "IPY_MODEL_1303a10046f9487e94de5c488009ce79",
            "value": "Epoch 41: 100%"
          }
        },
        "9b72ce13b1c243fca7287dec2f14dd47": {
          "model_module": "@jupyter-widgets/controls",
          "model_name": "FloatProgressModel",
          "model_module_version": "1.5.0",
          "state": {
            "_dom_classes": [],
            "_model_module": "@jupyter-widgets/controls",
            "_model_module_version": "1.5.0",
            "_model_name": "FloatProgressModel",
            "_view_count": null,
            "_view_module": "@jupyter-widgets/controls",
            "_view_module_version": "1.5.0",
            "_view_name": "ProgressView",
            "bar_style": "success",
            "description": "",
            "description_tooltip": null,
            "layout": "IPY_MODEL_c0214d14aa14430c823fd184349b215a",
            "max": 22,
            "min": 0,
            "orientation": "horizontal",
            "style": "IPY_MODEL_5ca7505fe88040fab68a6052aa9a824b",
            "value": 22
          }
        },
        "86d5672b19994d748788734d576d2bd4": {
          "model_module": "@jupyter-widgets/controls",
          "model_name": "HTMLModel",
          "model_module_version": "1.5.0",
          "state": {
            "_dom_classes": [],
            "_model_module": "@jupyter-widgets/controls",
            "_model_module_version": "1.5.0",
            "_model_name": "HTMLModel",
            "_view_count": null,
            "_view_module": "@jupyter-widgets/controls",
            "_view_module_version": "1.5.0",
            "_view_name": "HTMLView",
            "description": "",
            "description_tooltip": null,
            "layout": "IPY_MODEL_646eb861bc254cafad473ffc9a8d5ee9",
            "placeholder": "​",
            "style": "IPY_MODEL_f975c13ca8524bca9e078b3879dd1b2e",
            "value": " 22/22 [00:00&lt;00:00, 47.25it/s, train_loss=0.00113]"
          }
        },
        "9cd4ef89e25844e186de7f3d7f2f2402": {
          "model_module": "@jupyter-widgets/base",
          "model_name": "LayoutModel",
          "model_module_version": "1.2.0",
          "state": {
            "_model_module": "@jupyter-widgets/base",
            "_model_module_version": "1.2.0",
            "_model_name": "LayoutModel",
            "_view_count": null,
            "_view_module": "@jupyter-widgets/base",
            "_view_module_version": "1.2.0",
            "_view_name": "LayoutView",
            "align_content": null,
            "align_items": null,
            "align_self": null,
            "border": null,
            "bottom": null,
            "display": "inline-flex",
            "flex": null,
            "flex_flow": "row wrap",
            "grid_area": null,
            "grid_auto_columns": null,
            "grid_auto_flow": null,
            "grid_auto_rows": null,
            "grid_column": null,
            "grid_gap": null,
            "grid_row": null,
            "grid_template_areas": null,
            "grid_template_columns": null,
            "grid_template_rows": null,
            "height": null,
            "justify_content": null,
            "justify_items": null,
            "left": null,
            "margin": null,
            "max_height": null,
            "max_width": null,
            "min_height": null,
            "min_width": null,
            "object_fit": null,
            "object_position": null,
            "order": null,
            "overflow": null,
            "overflow_x": null,
            "overflow_y": null,
            "padding": null,
            "right": null,
            "top": null,
            "visibility": null,
            "width": "100%"
          }
        },
        "64193763b2084315ad553f7137853b2b": {
          "model_module": "@jupyter-widgets/base",
          "model_name": "LayoutModel",
          "model_module_version": "1.2.0",
          "state": {
            "_model_module": "@jupyter-widgets/base",
            "_model_module_version": "1.2.0",
            "_model_name": "LayoutModel",
            "_view_count": null,
            "_view_module": "@jupyter-widgets/base",
            "_view_module_version": "1.2.0",
            "_view_name": "LayoutView",
            "align_content": null,
            "align_items": null,
            "align_self": null,
            "border": null,
            "bottom": null,
            "display": null,
            "flex": null,
            "flex_flow": null,
            "grid_area": null,
            "grid_auto_columns": null,
            "grid_auto_flow": null,
            "grid_auto_rows": null,
            "grid_column": null,
            "grid_gap": null,
            "grid_row": null,
            "grid_template_areas": null,
            "grid_template_columns": null,
            "grid_template_rows": null,
            "height": null,
            "justify_content": null,
            "justify_items": null,
            "left": null,
            "margin": null,
            "max_height": null,
            "max_width": null,
            "min_height": null,
            "min_width": null,
            "object_fit": null,
            "object_position": null,
            "order": null,
            "overflow": null,
            "overflow_x": null,
            "overflow_y": null,
            "padding": null,
            "right": null,
            "top": null,
            "visibility": null,
            "width": null
          }
        },
        "1303a10046f9487e94de5c488009ce79": {
          "model_module": "@jupyter-widgets/controls",
          "model_name": "DescriptionStyleModel",
          "model_module_version": "1.5.0",
          "state": {
            "_model_module": "@jupyter-widgets/controls",
            "_model_module_version": "1.5.0",
            "_model_name": "DescriptionStyleModel",
            "_view_count": null,
            "_view_module": "@jupyter-widgets/base",
            "_view_module_version": "1.2.0",
            "_view_name": "StyleView",
            "description_width": ""
          }
        },
        "c0214d14aa14430c823fd184349b215a": {
          "model_module": "@jupyter-widgets/base",
          "model_name": "LayoutModel",
          "model_module_version": "1.2.0",
          "state": {
            "_model_module": "@jupyter-widgets/base",
            "_model_module_version": "1.2.0",
            "_model_name": "LayoutModel",
            "_view_count": null,
            "_view_module": "@jupyter-widgets/base",
            "_view_module_version": "1.2.0",
            "_view_name": "LayoutView",
            "align_content": null,
            "align_items": null,
            "align_self": null,
            "border": null,
            "bottom": null,
            "display": null,
            "flex": "2",
            "flex_flow": null,
            "grid_area": null,
            "grid_auto_columns": null,
            "grid_auto_flow": null,
            "grid_auto_rows": null,
            "grid_column": null,
            "grid_gap": null,
            "grid_row": null,
            "grid_template_areas": null,
            "grid_template_columns": null,
            "grid_template_rows": null,
            "height": null,
            "justify_content": null,
            "justify_items": null,
            "left": null,
            "margin": null,
            "max_height": null,
            "max_width": null,
            "min_height": null,
            "min_width": null,
            "object_fit": null,
            "object_position": null,
            "order": null,
            "overflow": null,
            "overflow_x": null,
            "overflow_y": null,
            "padding": null,
            "right": null,
            "top": null,
            "visibility": null,
            "width": null
          }
        },
        "5ca7505fe88040fab68a6052aa9a824b": {
          "model_module": "@jupyter-widgets/controls",
          "model_name": "ProgressStyleModel",
          "model_module_version": "1.5.0",
          "state": {
            "_model_module": "@jupyter-widgets/controls",
            "_model_module_version": "1.5.0",
            "_model_name": "ProgressStyleModel",
            "_view_count": null,
            "_view_module": "@jupyter-widgets/base",
            "_view_module_version": "1.2.0",
            "_view_name": "StyleView",
            "bar_color": null,
            "description_width": ""
          }
        },
        "646eb861bc254cafad473ffc9a8d5ee9": {
          "model_module": "@jupyter-widgets/base",
          "model_name": "LayoutModel",
          "model_module_version": "1.2.0",
          "state": {
            "_model_module": "@jupyter-widgets/base",
            "_model_module_version": "1.2.0",
            "_model_name": "LayoutModel",
            "_view_count": null,
            "_view_module": "@jupyter-widgets/base",
            "_view_module_version": "1.2.0",
            "_view_name": "LayoutView",
            "align_content": null,
            "align_items": null,
            "align_self": null,
            "border": null,
            "bottom": null,
            "display": null,
            "flex": null,
            "flex_flow": null,
            "grid_area": null,
            "grid_auto_columns": null,
            "grid_auto_flow": null,
            "grid_auto_rows": null,
            "grid_column": null,
            "grid_gap": null,
            "grid_row": null,
            "grid_template_areas": null,
            "grid_template_columns": null,
            "grid_template_rows": null,
            "height": null,
            "justify_content": null,
            "justify_items": null,
            "left": null,
            "margin": null,
            "max_height": null,
            "max_width": null,
            "min_height": null,
            "min_width": null,
            "object_fit": null,
            "object_position": null,
            "order": null,
            "overflow": null,
            "overflow_x": null,
            "overflow_y": null,
            "padding": null,
            "right": null,
            "top": null,
            "visibility": null,
            "width": null
          }
        },
        "f975c13ca8524bca9e078b3879dd1b2e": {
          "model_module": "@jupyter-widgets/controls",
          "model_name": "DescriptionStyleModel",
          "model_module_version": "1.5.0",
          "state": {
            "_model_module": "@jupyter-widgets/controls",
            "_model_module_version": "1.5.0",
            "_model_name": "DescriptionStyleModel",
            "_view_count": null,
            "_view_module": "@jupyter-widgets/base",
            "_view_module_version": "1.2.0",
            "_view_name": "StyleView",
            "description_width": ""
          }
        },
        "a19d657e6a8e480c92847810ba94308b": {
          "model_module": "@jupyter-widgets/controls",
          "model_name": "HBoxModel",
          "model_module_version": "1.5.0",
          "state": {
            "_dom_classes": [],
            "_model_module": "@jupyter-widgets/controls",
            "_model_module_version": "1.5.0",
            "_model_name": "HBoxModel",
            "_view_count": null,
            "_view_module": "@jupyter-widgets/controls",
            "_view_module_version": "1.5.0",
            "_view_name": "HBoxView",
            "box_style": "",
            "children": [
              "IPY_MODEL_9f9d326795f745a1a8c46bbfbbe1e3b1",
              "IPY_MODEL_c4680b3ede0f49298e081c1293ab952a",
              "IPY_MODEL_73fc53eb84434c86ae10603e5734bf7f"
            ],
            "layout": "IPY_MODEL_c964ddc4e46846b0930f68333c8d031f"
          }
        },
        "9f9d326795f745a1a8c46bbfbbe1e3b1": {
          "model_module": "@jupyter-widgets/controls",
          "model_name": "HTMLModel",
          "model_module_version": "1.5.0",
          "state": {
            "_dom_classes": [],
            "_model_module": "@jupyter-widgets/controls",
            "_model_module_version": "1.5.0",
            "_model_name": "HTMLModel",
            "_view_count": null,
            "_view_module": "@jupyter-widgets/controls",
            "_view_module_version": "1.5.0",
            "_view_name": "HTMLView",
            "description": "",
            "description_tooltip": null,
            "layout": "IPY_MODEL_7b7b24e7dc7a47a3b8c2a267229ebaf3",
            "placeholder": "​",
            "style": "IPY_MODEL_cbf09a7519ae40f1a9b6ddcf510449bf",
            "value": "Predicting DataLoader 0: 100%"
          }
        },
        "c4680b3ede0f49298e081c1293ab952a": {
          "model_module": "@jupyter-widgets/controls",
          "model_name": "FloatProgressModel",
          "model_module_version": "1.5.0",
          "state": {
            "_dom_classes": [],
            "_model_module": "@jupyter-widgets/controls",
            "_model_module_version": "1.5.0",
            "_model_name": "FloatProgressModel",
            "_view_count": null,
            "_view_module": "@jupyter-widgets/controls",
            "_view_module_version": "1.5.0",
            "_view_name": "ProgressView",
            "bar_style": "success",
            "description": "",
            "description_tooltip": null,
            "layout": "IPY_MODEL_9b47f79add3440e39823e92b86cc2684",
            "max": 1,
            "min": 0,
            "orientation": "horizontal",
            "style": "IPY_MODEL_a3b37af6f3674125aa955d177267098b",
            "value": 1
          }
        },
        "73fc53eb84434c86ae10603e5734bf7f": {
          "model_module": "@jupyter-widgets/controls",
          "model_name": "HTMLModel",
          "model_module_version": "1.5.0",
          "state": {
            "_dom_classes": [],
            "_model_module": "@jupyter-widgets/controls",
            "_model_module_version": "1.5.0",
            "_model_name": "HTMLModel",
            "_view_count": null,
            "_view_module": "@jupyter-widgets/controls",
            "_view_module_version": "1.5.0",
            "_view_name": "HTMLView",
            "description": "",
            "description_tooltip": null,
            "layout": "IPY_MODEL_670a6d76f7034c8d82a2b68e1a852470",
            "placeholder": "​",
            "style": "IPY_MODEL_954c0b25c19041568738781a2f4a18cb",
            "value": " 1/1 [00:00&lt;00:00, 32.98it/s]"
          }
        },
        "c964ddc4e46846b0930f68333c8d031f": {
          "model_module": "@jupyter-widgets/base",
          "model_name": "LayoutModel",
          "model_module_version": "1.2.0",
          "state": {
            "_model_module": "@jupyter-widgets/base",
            "_model_module_version": "1.2.0",
            "_model_name": "LayoutModel",
            "_view_count": null,
            "_view_module": "@jupyter-widgets/base",
            "_view_module_version": "1.2.0",
            "_view_name": "LayoutView",
            "align_content": null,
            "align_items": null,
            "align_self": null,
            "border": null,
            "bottom": null,
            "display": "inline-flex",
            "flex": null,
            "flex_flow": "row wrap",
            "grid_area": null,
            "grid_auto_columns": null,
            "grid_auto_flow": null,
            "grid_auto_rows": null,
            "grid_column": null,
            "grid_gap": null,
            "grid_row": null,
            "grid_template_areas": null,
            "grid_template_columns": null,
            "grid_template_rows": null,
            "height": null,
            "justify_content": null,
            "justify_items": null,
            "left": null,
            "margin": null,
            "max_height": null,
            "max_width": null,
            "min_height": null,
            "min_width": null,
            "object_fit": null,
            "object_position": null,
            "order": null,
            "overflow": null,
            "overflow_x": null,
            "overflow_y": null,
            "padding": null,
            "right": null,
            "top": null,
            "visibility": null,
            "width": "100%"
          }
        },
        "7b7b24e7dc7a47a3b8c2a267229ebaf3": {
          "model_module": "@jupyter-widgets/base",
          "model_name": "LayoutModel",
          "model_module_version": "1.2.0",
          "state": {
            "_model_module": "@jupyter-widgets/base",
            "_model_module_version": "1.2.0",
            "_model_name": "LayoutModel",
            "_view_count": null,
            "_view_module": "@jupyter-widgets/base",
            "_view_module_version": "1.2.0",
            "_view_name": "LayoutView",
            "align_content": null,
            "align_items": null,
            "align_self": null,
            "border": null,
            "bottom": null,
            "display": null,
            "flex": null,
            "flex_flow": null,
            "grid_area": null,
            "grid_auto_columns": null,
            "grid_auto_flow": null,
            "grid_auto_rows": null,
            "grid_column": null,
            "grid_gap": null,
            "grid_row": null,
            "grid_template_areas": null,
            "grid_template_columns": null,
            "grid_template_rows": null,
            "height": null,
            "justify_content": null,
            "justify_items": null,
            "left": null,
            "margin": null,
            "max_height": null,
            "max_width": null,
            "min_height": null,
            "min_width": null,
            "object_fit": null,
            "object_position": null,
            "order": null,
            "overflow": null,
            "overflow_x": null,
            "overflow_y": null,
            "padding": null,
            "right": null,
            "top": null,
            "visibility": null,
            "width": null
          }
        },
        "cbf09a7519ae40f1a9b6ddcf510449bf": {
          "model_module": "@jupyter-widgets/controls",
          "model_name": "DescriptionStyleModel",
          "model_module_version": "1.5.0",
          "state": {
            "_model_module": "@jupyter-widgets/controls",
            "_model_module_version": "1.5.0",
            "_model_name": "DescriptionStyleModel",
            "_view_count": null,
            "_view_module": "@jupyter-widgets/base",
            "_view_module_version": "1.2.0",
            "_view_name": "StyleView",
            "description_width": ""
          }
        },
        "9b47f79add3440e39823e92b86cc2684": {
          "model_module": "@jupyter-widgets/base",
          "model_name": "LayoutModel",
          "model_module_version": "1.2.0",
          "state": {
            "_model_module": "@jupyter-widgets/base",
            "_model_module_version": "1.2.0",
            "_model_name": "LayoutModel",
            "_view_count": null,
            "_view_module": "@jupyter-widgets/base",
            "_view_module_version": "1.2.0",
            "_view_name": "LayoutView",
            "align_content": null,
            "align_items": null,
            "align_self": null,
            "border": null,
            "bottom": null,
            "display": null,
            "flex": "2",
            "flex_flow": null,
            "grid_area": null,
            "grid_auto_columns": null,
            "grid_auto_flow": null,
            "grid_auto_rows": null,
            "grid_column": null,
            "grid_gap": null,
            "grid_row": null,
            "grid_template_areas": null,
            "grid_template_columns": null,
            "grid_template_rows": null,
            "height": null,
            "justify_content": null,
            "justify_items": null,
            "left": null,
            "margin": null,
            "max_height": null,
            "max_width": null,
            "min_height": null,
            "min_width": null,
            "object_fit": null,
            "object_position": null,
            "order": null,
            "overflow": null,
            "overflow_x": null,
            "overflow_y": null,
            "padding": null,
            "right": null,
            "top": null,
            "visibility": null,
            "width": null
          }
        },
        "a3b37af6f3674125aa955d177267098b": {
          "model_module": "@jupyter-widgets/controls",
          "model_name": "ProgressStyleModel",
          "model_module_version": "1.5.0",
          "state": {
            "_model_module": "@jupyter-widgets/controls",
            "_model_module_version": "1.5.0",
            "_model_name": "ProgressStyleModel",
            "_view_count": null,
            "_view_module": "@jupyter-widgets/base",
            "_view_module_version": "1.2.0",
            "_view_name": "StyleView",
            "bar_color": null,
            "description_width": ""
          }
        },
        "670a6d76f7034c8d82a2b68e1a852470": {
          "model_module": "@jupyter-widgets/base",
          "model_name": "LayoutModel",
          "model_module_version": "1.2.0",
          "state": {
            "_model_module": "@jupyter-widgets/base",
            "_model_module_version": "1.2.0",
            "_model_name": "LayoutModel",
            "_view_count": null,
            "_view_module": "@jupyter-widgets/base",
            "_view_module_version": "1.2.0",
            "_view_name": "LayoutView",
            "align_content": null,
            "align_items": null,
            "align_self": null,
            "border": null,
            "bottom": null,
            "display": null,
            "flex": null,
            "flex_flow": null,
            "grid_area": null,
            "grid_auto_columns": null,
            "grid_auto_flow": null,
            "grid_auto_rows": null,
            "grid_column": null,
            "grid_gap": null,
            "grid_row": null,
            "grid_template_areas": null,
            "grid_template_columns": null,
            "grid_template_rows": null,
            "height": null,
            "justify_content": null,
            "justify_items": null,
            "left": null,
            "margin": null,
            "max_height": null,
            "max_width": null,
            "min_height": null,
            "min_width": null,
            "object_fit": null,
            "object_position": null,
            "order": null,
            "overflow": null,
            "overflow_x": null,
            "overflow_y": null,
            "padding": null,
            "right": null,
            "top": null,
            "visibility": null,
            "width": null
          }
        },
        "954c0b25c19041568738781a2f4a18cb": {
          "model_module": "@jupyter-widgets/controls",
          "model_name": "DescriptionStyleModel",
          "model_module_version": "1.5.0",
          "state": {
            "_model_module": "@jupyter-widgets/controls",
            "_model_module_version": "1.5.0",
            "_model_name": "DescriptionStyleModel",
            "_view_count": null,
            "_view_module": "@jupyter-widgets/base",
            "_view_module_version": "1.2.0",
            "_view_name": "StyleView",
            "description_width": ""
          }
        }
      }
    }
  },
  "cells": [
    {
      "cell_type": "code",
      "execution_count": null,
      "metadata": {
        "id": "ab0FyeoSbtZm"
      },
      "outputs": [],
      "source": [
        "!pip install darts"
      ]
    },
    {
      "cell_type": "code",
      "source": [
        "train_for = 735"
      ],
      "metadata": {
        "id": "_ZYC3TiWIGp4"
      },
      "execution_count": null,
      "outputs": []
    },
    {
      "cell_type": "code",
      "source": [
        "from google.colab import drive\n",
        "import pandas as pd\n",
        "drive.mount('/content/drive')\n",
        "df = pd.read_csv('/content/drive/MyDrive/covid-final-all.csv')\n",
        "df['state_residence'] = df.apply(lambda row: row['state_residence'].lower(), axis=1)\n",
        "print(df.columns)\n",
        "print(df.state_residence.unique())\n",
        "df=df.groupby(['Date']).agg({'F_pos': 'sum', 'M_pos': 'sum', 'T_pos':'sum', 'NIA_pos':'sum', 'new_case': 'sum'}).reset_index()\n",
        "df.head()\n",
        "\n",
        "\n",
        "date = df.iloc[train_for + 1]['Date']"
      ],
      "metadata": {
        "id": "lk6mGoRpAUMN",
        "colab": {
          "base_uri": "https://localhost:8080/"
        },
        "outputId": "687e6c3c-b0d9-4e0d-d6a4-6aa0a6bd37f8"
      },
      "execution_count": null,
      "outputs": [
        {
          "output_type": "stream",
          "name": "stdout",
          "text": [
            "Drive already mounted at /content/drive; to attempt to forcibly remount, call drive.mount(\"/content/drive\", force_remount=True).\n",
            "Index(['Unnamed: 0', 'state_residence', 'district_residence', 'Date', '<15',\n",
            "       '15-24', '25-34', '35-44', '45-59', '60-80', '>80', '<15_pos',\n",
            "       '15-24_pos', '25-34_pos', '35-44_pos', '45-59_pos', '60-80_pos',\n",
            "       '>80_pos', 'M_pos', '2', 'F_pos', 'T', 'F', 'M', 'NIA', 'T_pos',\n",
            "       'NIA_pos', 'O', 'O_pos', 'N', 'G', ',', 'D', 'new_case',\n",
            "       'negative_case', 'Failed_test', 'Total_test',\n",
            "       'negative_egene_screening', 'positive_egene_screening',\n",
            "       'Failed_test_egene_screening', '<20_ct_value_screening',\n",
            "       '20-30_ct_value_screening', '31-35_ct_value_screening',\n",
            "       '>35_ct_value_screening', '<20_posct_value_screening',\n",
            "       '20-30_posct_value_screening', '31-35_posct_value_screening',\n",
            "       '>35_posct_value_screening', 'negative_rdrp_confirmatory',\n",
            "       'positive_rdrp_confirmatory', 'Failed_test_rdrp_confirmatory',\n",
            "       '<20_ct_value_rdrp', '20-30_ct_value_rdrp', '31-35_ct_value_rdrp',\n",
            "       '>35_ct_value_rdrp', '<20_posct_value_rdrp', '20-30_posct_value_rdrp',\n",
            "       '31-35_posct_value_rdrp', '>35_posct_value_rdrp',\n",
            "       'negative_orf1b_confirmatory', 'positive_orf1b_confirmatory',\n",
            "       'Failed_test_orf1b_confirmatory', '<20_ct_value_orf1b',\n",
            "       '20-30_ct_value_orf1b', '31-35_ct_value_orf1b', '>35_ct_value_orf1b',\n",
            "       '<20_posct_value_orf1b', '20-30_posct_value_orf1b',\n",
            "       '31-35_posct_value_orf1b', '>35_posct_value_orf1b', '3', 'D_pos', 'K',\n",
            "       'R', 'P', 'H', '5', '7', '8', 'S', '\\', 'V', '1', '4', '6', '9', '.',\n",
            "       'B', '-', '`', 'Q'],\n",
            "      dtype='object')\n",
            "['kerala' 'uttar pradesh' 'andhra pradesh' 'bihar' 'jammu and kashmir'\n",
            " 'telangana' 'maharashtra' 'delhi' 'karnataka' 'jharkhand' 'punjab'\n",
            " 'tamil nadu' 'haryana' 'rajasthan' 'madhya pradesh' 'west bengal' 'goa'\n",
            " 'gujarat' 'india' 'chhattisgarh' 'odisha' 'uttarakhand' 'assam' 'manipur'\n",
            " 'chandigarh' 'puducherry' 'ladakh' 'mizoram' 'himachal pradesh'\n",
            " 'daman and diu' 'andaman and nicobar islands' 'tripura' 'meghalaya'\n",
            " 'sikkim' 'arunachal pradesh' 'dadra and nagar haveli' 'nagaland'\n",
            " 'lakshadweep']\n"
          ]
        }
      ]
    },
    {
      "cell_type": "code",
      "source": [
        "from darts.models import TCNModel\n",
        "from darts import TimeSeries\n",
        "from darts.dataprocessing.transformers import Scaler\n",
        "import pandas as pd"
      ],
      "metadata": {
        "id": "7d0hckAb91Dq"
      },
      "execution_count": null,
      "outputs": []
    },
    {
      "cell_type": "code",
      "source": [
        "def smoothen(df, period):\n",
        "    df_ma = df.copy()\n",
        "    for i in range(period, len(df)):\n",
        "        ma = 0\n",
        "        for j in range(i - period + 1, i + 1):\n",
        "            ma += df[j]\n",
        "        df_ma[i] = ma / period\n",
        "    return df_ma"
      ],
      "metadata": {
        "id": "eQnz-OQvu7NL"
      },
      "execution_count": null,
      "outputs": []
    },
    {
      "cell_type": "code",
      "source": [
        "df_f = df['F_pos'].values\n",
        "df_m = df['M_pos'].values\n",
        "df_t = df['T_pos'].values\n",
        "df_nia = df['NIA_pos'].values\n",
        "\n",
        "df_f = smoothen(df_f, 3)\n",
        "df_m = smoothen(df_m, 3)\n",
        "df_t = smoothen(df_t, 3)\n",
        "df_nia = smoothen(df_nia, 3)\n",
        "\n",
        "df = df_f + df_m + df_t + df_nia\n",
        "\n",
        "\n",
        "# n = 70  # the larger n is, the smoother curve will be\n",
        "# b = [1.0 / n] * n\n",
        "# a = 1\n",
        "# df_total = lfilter(b, a, df_total)\n",
        "# df = smoothen(df, 3)\n",
        "\n",
        "\n",
        "series = TimeSeries.from_values(df)"
      ],
      "metadata": {
        "id": "0aKcd6UE8Wfi"
      },
      "execution_count": null,
      "outputs": []
    },
    {
      "cell_type": "code",
      "source": [
        "predict_for = 14\n",
        "window_size= 50\n",
        "train, test = series[:train_for], series[train_for:train_for+predict_for]"
      ],
      "metadata": {
        "id": "WNo9RiHTjXgq"
      },
      "execution_count": null,
      "outputs": []
    },
    {
      "cell_type": "code",
      "source": [
        "from pytorch_lightning.callbacks.early_stopping import EarlyStopping\n",
        "\n",
        "# stop training when validation loss does not decrease more than 0.05 (`min_delta`) over\n",
        "# a period of 5 epochs (`patience`)\n",
        "my_stopper = EarlyStopping(\n",
        "    monitor=\"train_loss\",\n",
        "    patience=5,\n",
        "    min_delta=0.0000000001,\n",
        "    mode='min',\n",
        ")\n",
        "\n",
        "pl_trainer_kwargs={\"callbacks\": [my_stopper]}"
      ],
      "metadata": {
        "id": "MR3DakMUsiPF"
      },
      "execution_count": null,
      "outputs": []
    },
    {
      "cell_type": "code",
      "source": [
        "model = TCNModel(\n",
        "    input_chunk_length = window_size,\n",
        "    output_chunk_length = 1,\n",
        "    pl_trainer_kwargs = pl_trainer_kwargs,\n",
        "    kernel_size = 3,\n",
        "    dropout=0.15\n",
        ")"
      ],
      "metadata": {
        "id": "svwnr169jaXo"
      },
      "execution_count": null,
      "outputs": []
    },
    {
      "cell_type": "code",
      "source": [
        "train_scaler = Scaler()\n",
        "scaled_train = train_scaler.fit_transform(train)"
      ],
      "metadata": {
        "id": "a6tWOdMsrmM5"
      },
      "execution_count": null,
      "outputs": []
    },
    {
      "cell_type": "code",
      "source": [
        "model.fit(\n",
        "    scaled_train,\n",
        "    epochs = 100\n",
        ")"
      ],
      "metadata": {
        "colab": {
          "base_uri": "https://localhost:8080/",
          "height": 381,
          "referenced_widgets": [
            "9c787c5fe62f4b13a681ba17c4fc0078",
            "06c0bcd2cd9747f99dc74d344664d999",
            "9b72ce13b1c243fca7287dec2f14dd47",
            "86d5672b19994d748788734d576d2bd4",
            "9cd4ef89e25844e186de7f3d7f2f2402",
            "64193763b2084315ad553f7137853b2b",
            "1303a10046f9487e94de5c488009ce79",
            "c0214d14aa14430c823fd184349b215a",
            "5ca7505fe88040fab68a6052aa9a824b",
            "646eb861bc254cafad473ffc9a8d5ee9",
            "f975c13ca8524bca9e078b3879dd1b2e"
          ]
        },
        "id": "4oJnm2Z-rjE5",
        "outputId": "c510e008-8b94-48df-e15f-0d75ded27793"
      },
      "execution_count": null,
      "outputs": [
        {
          "output_type": "stream",
          "name": "stderr",
          "text": [
            "INFO:pytorch_lightning.utilities.rank_zero:GPU available: False, used: False\n",
            "INFO:pytorch_lightning.utilities.rank_zero:TPU available: False, using: 0 TPU cores\n",
            "INFO:pytorch_lightning.utilities.rank_zero:IPU available: False, using: 0 IPUs\n",
            "INFO:pytorch_lightning.utilities.rank_zero:HPU available: False, using: 0 HPUs\n",
            "INFO:pytorch_lightning.callbacks.model_summary:\n",
            "  | Name          | Type              | Params\n",
            "----------------------------------------------------\n",
            "0 | criterion     | MSELoss           | 0     \n",
            "1 | train_metrics | MetricCollection  | 0     \n",
            "2 | val_metrics   | MetricCollection  | 0     \n",
            "3 | dropout       | MonteCarloDropout | 0     \n",
            "4 | res_blocks    | ModuleList        | 212   \n",
            "----------------------------------------------------\n",
            "212       Trainable params\n",
            "0         Non-trainable params\n",
            "212       Total params\n",
            "0.001     Total estimated model params size (MB)\n"
          ]
        },
        {
          "output_type": "display_data",
          "data": {
            "text/plain": [
              "Training: 0it [00:00, ?it/s]"
            ],
            "application/vnd.jupyter.widget-view+json": {
              "version_major": 2,
              "version_minor": 0,
              "model_id": "9c787c5fe62f4b13a681ba17c4fc0078"
            }
          },
          "metadata": {}
        },
        {
          "output_type": "execute_result",
          "data": {
            "text/plain": [
              "<darts.models.forecasting.tcn_model.TCNModel at 0x7f90a82cde50>"
            ]
          },
          "metadata": {},
          "execution_count": 317
        }
      ]
    },
    {
      "cell_type": "code",
      "source": [
        "scaled_pred_TCN = model.predict(n=predict_for)\n",
        "\n",
        "pred_TCN = train_scaler.inverse_transform(scaled_pred_TCN)"
      ],
      "metadata": {
        "colab": {
          "base_uri": "https://localhost:8080/",
          "height": 138,
          "referenced_widgets": [
            "a19d657e6a8e480c92847810ba94308b",
            "9f9d326795f745a1a8c46bbfbbe1e3b1",
            "c4680b3ede0f49298e081c1293ab952a",
            "73fc53eb84434c86ae10603e5734bf7f",
            "c964ddc4e46846b0930f68333c8d031f",
            "7b7b24e7dc7a47a3b8c2a267229ebaf3",
            "cbf09a7519ae40f1a9b6ddcf510449bf",
            "9b47f79add3440e39823e92b86cc2684",
            "a3b37af6f3674125aa955d177267098b",
            "670a6d76f7034c8d82a2b68e1a852470",
            "954c0b25c19041568738781a2f4a18cb"
          ]
        },
        "id": "rOp2MosErqbE",
        "outputId": "2aa74d6e-4d18-45d0-d915-063e4c42188a"
      },
      "execution_count": null,
      "outputs": [
        {
          "output_type": "stream",
          "name": "stderr",
          "text": [
            "INFO:pytorch_lightning.utilities.rank_zero:GPU available: False, used: False\n",
            "INFO:pytorch_lightning.utilities.rank_zero:TPU available: False, using: 0 TPU cores\n",
            "INFO:pytorch_lightning.utilities.rank_zero:IPU available: False, using: 0 IPUs\n",
            "INFO:pytorch_lightning.utilities.rank_zero:HPU available: False, using: 0 HPUs\n"
          ]
        },
        {
          "output_type": "display_data",
          "data": {
            "text/plain": [
              "Predicting: 0it [00:00, ?it/s]"
            ],
            "application/vnd.jupyter.widget-view+json": {
              "version_major": 2,
              "version_minor": 0,
              "model_id": "a19d657e6a8e480c92847810ba94308b"
            }
          },
          "metadata": {}
        }
      ]
    },
    {
      "cell_type": "code",
      "source": [
        "def mape_(p, a):\n",
        "  m = 0.0\n",
        "  for i in range(len(p)):\n",
        "    m += abs(p[i] - a[i]) / a[i]\n",
        "  return( m / len(p)) * 100"
      ],
      "metadata": {
        "id": "YRz3tBBZ8JwX"
      },
      "execution_count": null,
      "outputs": []
    },
    {
      "cell_type": "code",
      "source": [
        "mape_TCN = mape_(pred_TCN, test)\n",
        "\n",
        "print(mape_TCN)"
      ],
      "metadata": {
        "colab": {
          "base_uri": "https://localhost:8080/"
        },
        "id": "RClUoZZNrsrX",
        "outputId": "900d05d2-19be-4beb-b03c-84e5eea4272c"
      },
      "execution_count": null,
      "outputs": [
        {
          "output_type": "stream",
          "name": "stdout",
          "text": [
            "<TimeSeries (DataArray) (time: 1, component: 1, sample: 1)>\n",
            "array([[[33.50883866]]])\n",
            "Coordinates:\n",
            "  * time       (time) int64 0\n",
            "  * component  (component) object '0'\n",
            "Dimensions without coordinates: sample\n",
            "Attributes:\n",
            "    static_covariates:  None\n",
            "    hierarchy:          None\n"
          ]
        }
      ]
    },
    {
      "cell_type": "code",
      "source": [
        "model.save(\"model_\" + date + \".pt\")"
      ],
      "metadata": {
        "id": "Tu82t7HNL6TE"
      },
      "execution_count": null,
      "outputs": []
    },
    {
      "cell_type": "code",
      "source": [
        "import matplotlib.pyplot as plt\n",
        "def append(a, b):\n",
        "  c = []\n",
        "  for ai in a:\n",
        "    c.append(ai)\n",
        "  for bi in b:\n",
        "    c.append(bi)\n",
        "  return c"
      ],
      "metadata": {
        "id": "rI4ajDIqLYaX"
      },
      "execution_count": null,
      "outputs": []
    },
    {
      "cell_type": "code",
      "source": [
        "window = 100\n",
        "plt.figure()\n",
        "plt.title(\"Predictions vs Actual results(N-hits)\")\n",
        "plt.plot(append(df[train_for - window:train_for], pred_TCN.pd_dataframe().values), label=\"Predictions\")\n",
        "plt.plot(append(df[train_for - window:train_for], test.pd_dataframe().values), label=\"Actual\")\n",
        "plt.xlabel(\"Time axis (Predictions for 14 days from \" + date)\n",
        "plt.ylabel(\"Number of covid cases\")\n",
        "plt.axvline(window, color = 'red', label = \"predictions on right of this line\")\n",
        "plt.legend()\n",
        "plt.show()"
      ],
      "metadata": {
        "colab": {
          "base_uri": "https://localhost:8080/",
          "height": 526
        },
        "id": "_7dQ2WwNLZw6",
        "outputId": "b34e14e4-d704-4ec0-e6a2-3c3bc0fb6214"
      },
      "execution_count": null,
      "outputs": [
        {
          "output_type": "stream",
          "name": "stderr",
          "text": [
            "/usr/local/lib/python3.9/dist-packages/numpy/core/shape_base.py:65: VisibleDeprecationWarning: Creating an ndarray from ragged nested sequences (which is a list-or-tuple of lists-or-tuples-or ndarrays with different lengths or shapes) is deprecated. If you meant to do this, you must specify 'dtype=object' when creating the ndarray.\n",
            "  ary = asanyarray(ary)\n"
          ]
        },
        {
          "output_type": "display_data",
          "data": {
            "text/plain": [
              "<Figure size 640x480 with 1 Axes>"
            ],
            "image/png": "[encoded data removed]"
          },
          "metadata": {}
        }
      ]
    },
    {
      "cell_type": "code",
      "source": [
        "print(test.pd_dataframe().values.reshape(-1))"
      ],
      "metadata": {
        "colab": {
          "base_uri": "https://localhost:8080/"
        },
        "id": "AMSGoaeTrxXf",
        "outputId": "e881b727-e6f3-4ed5-9227-743b5ad92b34"
      },
      "execution_count": null,
      "outputs": [
        {
          "output_type": "stream",
          "name": "stdout",
          "text": [
            "[205228.         191578.66666667 219443.33333333 247295.66666667\n",
            " 297296.         298543.         290942.33333333 284577.\n",
            " 248668.33333333 290140.         322144.33333333 384948.33333333\n",
            " 375075.66666667 367394.33333333]\n"
          ]
        }
      ]
    },
    {
      "cell_type": "code",
      "source": [
        "print(pred_TCN.pd_dataframe().values.reshape(-1))"
      ],
      "metadata": {
        "colab": {
          "base_uri": "https://localhost:8080/"
        },
        "id": "p-r88rGsr1Xt",
        "outputId": "a0bcf4bc-e944-4492-a35e-d40e01cff53d"
      },
      "execution_count": null,
      "outputs": [
        {
          "output_type": "stream",
          "name": "stdout",
          "text": [
            "[175766.76226876 170074.88943095 171742.02826974 175566.84323282\n",
            " 180959.45212418 182857.59560041 183455.18347215 184261.65348337\n",
            " 185765.98193155 188653.38504146 191960.12968491 194872.36344165\n",
            " 197738.35309395 200666.86591797]\n"
          ]
        }
      ]
    },
    {
      "cell_type": "code",
      "source": [],
      "metadata": {
        "id": "90krR85Lr3s7"
      },
      "execution_count": null,
      "outputs": []
    }
  ]
}