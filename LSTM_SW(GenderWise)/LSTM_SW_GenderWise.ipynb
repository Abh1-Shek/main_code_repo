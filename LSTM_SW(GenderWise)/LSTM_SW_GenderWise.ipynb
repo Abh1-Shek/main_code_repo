{
  "nbformat": 4,
  "nbformat_minor": 0,
  "metadata": {
    "colab": {
      "provenance": []
    },
    "kernelspec": {
      "name": "python3",
      "display_name": "Python 3"
    },
    "language_info": {
      "name": "python"
    },
    "accelerator": "GPU",
    "gpuClass": "standard"
  },
  "cells": [
    {
      "cell_type": "code",
      "execution_count": null,
      "metadata": {
        "id": "zPR_cAYxYRA6"
      },
      "outputs": [],
      "source": [
        "from tensorflow.keras.models import Sequential\n",
        "from tensorflow.keras.layers import Dense, Dropout, LSTM\n",
        "from sklearn.preprocessing import MinMaxScaler\n",
        "import numpy as np\n",
        "import matplotlib.pyplot as plt\n",
        "import pandas as pd\n",
        "from sklearn.model_selection import train_test_split\n",
        "import tensorflow as tf\n",
        "from tensorflow import keras\n",
        "from sklearn.metrics import mean_squared_error"
      ]
    },
    {
      "cell_type": "code",
      "source": [
        "train_for = 735\n",
        "predict_for = 14"
      ],
      "metadata": {
        "id": "Yy4WFZFNYX3K"
      },
      "execution_count": null,
      "outputs": []
    },
    {
      "cell_type": "code",
      "source": [
        "look_back = 50\n",
        "\n",
        "def prepare_data(df):\n",
        "    X = []\n",
        "    y = []\n",
        "    for i in range(look_back, len(df)):\n",
        "        y.append(df[i])\n",
        "        X.append(df[i - look_back:i])\n",
        "    return np.array(X), np.array(y)"
      ],
      "metadata": {
        "id": "LrgP2tQ2YaWT"
      },
      "execution_count": null,
      "outputs": []
    },
    {
      "cell_type": "code",
      "source": [
        "def scale(df, scaler):\n",
        "  simple_array = np.array(df).reshape(-1, 1)\n",
        "  ssimple_array = scaler.fit_transform(simple_array)\n",
        "  return np.array(ssimple_array).reshape((-1, ))\n",
        "\n",
        "def descaled(df, scaler):\n",
        "  simple_array = np.array(df).reshape(-1, 1)\n",
        "  ssimple_array = scaler.inverse_transform(simple_array)\n",
        "  return np.array(ssimple_array).reshape((-1, ))"
      ],
      "metadata": {
        "id": "gDr9xRaoWMBr"
      },
      "execution_count": null,
      "outputs": []
    },
    {
      "cell_type": "code",
      "source": [
        "class Model:\n",
        "  def __init__(self, df):\n",
        "    self.scaler = MinMaxScaler()\n",
        "    self.df = scale(df, self.scaler)\n",
        "    self.dfw, self.dfy = prepare_data(self.df)\n",
        "\n",
        "    self.model_strong = Sequential()\n",
        "    self.model_strong.add(LSTM(units = 32, return_sequences=True, input_shape = (self.dfw.shape[1], 1)))\n",
        "    self.model_strong.add(LSTM(units = 32, return_sequences=True))\n",
        "    self.model_strong.add(LSTM(units = 32))\n",
        "    self.model_strong.add(Dense(units = 1))  #our predictions\n",
        "    # self.model_strong.compile(optimizer = 'adam', loss = tf.keras.losses.CosineSimilarity(axis=1))\n",
        "    self.model_strong.compile(optimizer = 'adam', loss = \"mean_squared_error\")\n",
        "\n",
        "\n",
        "\n",
        "\n",
        "    self.model_weak = Sequential()\n",
        "\n",
        "    self.model_weak.add(LSTM(units = 32, return_sequences=True, input_shape = (self.dfw.shape[1], 1)))\n",
        "    self.model_weak.add(Dropout(0.2))\n",
        "    self.model_weak.add(LSTM(units = 32, return_sequences=True))\n",
        "    self.model_weak.add(Dropout(0.2))\n",
        "    self.model_weak.add(LSTM(units = 32))\n",
        "    self.model_weak.add(Dropout(0.2))\n",
        "    self.model_weak.add(Dense(units = 1))  #our predictions\n",
        "    self.model_weak.compile(optimizer = 'adam', loss = \"mean_squared_error\")\n",
        "\n",
        "  def fit(self):\n",
        "    # when giving 25% importance to strong model and 75% importance to weak model\n",
        "    y_train_strong = self.dfy * (3/4)\n",
        "    y_train_weak = self.dfy / 4\n",
        "    # training the strong model for more epochs\n",
        "    self.model_strong.fit(self.dfw, y_train_strong, epochs = 20)\n",
        "    # training the weak model for less epochs\n",
        "    self.model_weak.fit(self.dfw, y_train_weak, epochs = 10)\n",
        "  \n",
        "  def predict(self, predict_for):\n",
        "    df_full = self.dfw[-1]\n",
        "\n",
        "    X_p_strong = [df_full]\n",
        "    X_p_weak = [df_full]\n",
        "    y_p_strong = []\n",
        "    y_p_weak = []\n",
        "\n",
        "    for i in range(predict_for):\n",
        "        yi_strong = self.model_strong.predict(np.array(X_p_strong))\n",
        "        y_p_strong.append(yi_strong[0][0])\n",
        "        yi_weak = self.model_weak.predict(np.array(X_p_weak))\n",
        "        y_p_weak.append(yi_weak[0][0])\n",
        "        X_p_strong = [np.append(X_p_strong[0][1:], yi_strong)]\n",
        "        X_p_weak = [np.append(X_p_weak[0][1:], yi_weak)]\n",
        "    y_p = [0 for y_p_i in range(len(y_p_strong))]\n",
        "    for j in range(len(y_p)):\n",
        "        y_p[j] = y_p_strong[j] + y_p_weak[j]\n",
        "    return descaled(y_p, self.scaler)"
      ],
      "metadata": {
        "id": "5kyj0ED5YcJi"
      },
      "execution_count": null,
      "outputs": []
    },
    {
      "cell_type": "code",
      "source": [
        "from google.colab import drive\n",
        "drive.mount('/content/drive')"
      ],
      "metadata": {
        "colab": {
          "base_uri": "https://localhost:8080/"
        },
        "id": "GGCuWTegYfhR",
        "outputId": "97a16f35-12c7-4caf-b45e-9326666f7392"
      },
      "execution_count": null,
      "outputs": [
        {
          "output_type": "stream",
          "name": "stdout",
          "text": [
            "Drive already mounted at /content/drive; to attempt to forcibly remount, call drive.mount(\"/content/drive\", force_remount=True).\n"
          ]
        }
      ]
    },
    {
      "cell_type": "code",
      "source": [
        "def smoothen(df, period):\n",
        "    df_ma = df.copy()\n",
        "    for i in range(period, len(df)):\n",
        "        ma = 0\n",
        "        for j in range(i - period + 1, i + 1):\n",
        "            ma += df[j]\n",
        "        df_ma[i] = ma / period\n",
        "    return df_ma"
      ],
      "metadata": {
        "id": "IcfacD_6Yg78"
      },
      "execution_count": null,
      "outputs": []
    },
    {
      "cell_type": "code",
      "source": [
        "df = pd.read_csv('/content/drive/MyDrive/covid-final-all.csv')\n",
        "df['state_residence'] = df.apply(lambda row: row['state_residence'].lower(), axis=1)\n",
        "df=df.groupby(['Date']).agg({'F_pos': 'sum', 'M_pos': 'sum', 'T_pos':'sum', 'NIA_pos':'sum', 'new_case': 'sum'}).reset_index()\n",
        "\n",
        "date = df.iloc[train_for + 1]['Date']\n",
        "\n",
        "\n",
        "df_f = df['F_pos'].values\n",
        "df_m = df['M_pos'].values\n",
        "df_t = df['T_pos'].values\n",
        "df_nia = df['NIA_pos'].values\n",
        "\n",
        "# df_f = smoothen(df_f, 3)\n",
        "# df_m = smoothen(df_m, 3)\n",
        "# df_t = smoothen(df_t, 3)\n",
        "# df_nia = smoothen(df_nia, 5)\n",
        "\n",
        "df_total = df_f + df_m + df_t + df_nia"
      ],
      "metadata": {
        "id": "K--xdIlZYiZH"
      },
      "execution_count": null,
      "outputs": []
    },
    {
      "cell_type": "code",
      "source": [
        "df_total.shape"
      ],
      "metadata": {
        "colab": {
          "base_uri": "https://localhost:8080/"
        },
        "id": "HvKPS9qRVPzO",
        "outputId": "2d177940-dd5a-4926-965c-5b6339d93a55"
      },
      "execution_count": null,
      "outputs": [
        {
          "output_type": "execute_result",
          "data": {
            "text/plain": [
              "(1093,)"
            ]
          },
          "metadata": {},
          "execution_count": 130
        }
      ]
    },
    {
      "cell_type": "code",
      "source": [
        "df_train = df_total[:train_for]\n",
        "df_test = df_total[train_for:train_for+predict_for]"
      ],
      "metadata": {
        "id": "Dyf47XdOYmjd"
      },
      "execution_count": null,
      "outputs": []
    },
    {
      "cell_type": "code",
      "source": [
        "model_f = Model(df_f[:train_for])\n",
        "model_m = Model(df_m[:train_for])\n",
        "model_t = Model(df_t[:train_for])\n",
        "model_nia = Model(df_nia[:train_for])\n",
        "\n",
        "model_f.fit()\n",
        "model_m.fit()\n",
        "model_t.fit()\n",
        "model_nia.fit()"
      ],
      "metadata": {
        "colab": {
          "base_uri": "https://localhost:8080/"
        },
        "id": "RP-2U0eXbD5u",
        "outputId": "d6005c0d-cc15-45de-805c-059bbba60e2a"
      },
      "execution_count": null,
      "outputs": [
        {
          "output_type": "stream",
          "name": "stdout",
          "text": [
            "Epoch 1/20\n",
            "22/22 [==============================] - 6s 15ms/step - loss: 0.0111\n",
            "Epoch 2/20\n",
            "22/22 [==============================] - 0s 14ms/step - loss: 0.0044\n",
            "Epoch 3/20\n",
            "22/22 [==============================] - 0s 15ms/step - loss: 0.0026\n",
            "Epoch 4/20\n",
            "22/22 [==============================] - 0s 12ms/step - loss: 0.0022\n",
            "Epoch 5/20\n",
            "22/22 [==============================] - 0s 10ms/step - loss: 0.0021\n",
            "Epoch 6/20\n",
            "22/22 [==============================] - 0s 10ms/step - loss: 0.0017\n",
            "Epoch 7/20\n",
            "22/22 [==============================] - 0s 10ms/step - loss: 0.0016\n",
            "Epoch 8/20\n",
            "22/22 [==============================] - 0s 11ms/step - loss: 0.0016\n",
            "Epoch 9/20\n",
            "22/22 [==============================] - 0s 11ms/step - loss: 0.0015\n",
            "Epoch 10/20\n",
            "22/22 [==============================] - 0s 10ms/step - loss: 0.0017\n",
            "Epoch 11/20\n",
            "22/22 [==============================] - 0s 11ms/step - loss: 0.0016\n",
            "Epoch 12/20\n",
            "22/22 [==============================] - 0s 10ms/step - loss: 0.0015\n",
            "Epoch 13/20\n",
            "22/22 [==============================] - 0s 10ms/step - loss: 0.0015\n",
            "Epoch 14/20\n",
            "22/22 [==============================] - 0s 10ms/step - loss: 0.0015\n",
            "Epoch 15/20\n",
            "22/22 [==============================] - 0s 10ms/step - loss: 0.0017\n",
            "Epoch 16/20\n",
            "22/22 [==============================] - 0s 10ms/step - loss: 0.0014\n",
            "Epoch 17/20\n",
            "22/22 [==============================] - 0s 10ms/step - loss: 0.0015\n",
            "Epoch 18/20\n",
            "22/22 [==============================] - 0s 11ms/step - loss: 0.0017\n",
            "Epoch 19/20\n",
            "22/22 [==============================] - 0s 10ms/step - loss: 0.0016\n",
            "Epoch 20/20\n",
            "22/22 [==============================] - 0s 10ms/step - loss: 0.0015\n",
            "Epoch 1/10\n",
            "22/22 [==============================] - 7s 13ms/step - loss: 8.6777e-04\n",
            "Epoch 2/10\n",
            "22/22 [==============================] - 0s 10ms/step - loss: 3.9317e-04\n",
            "Epoch 3/10\n",
            "22/22 [==============================] - 0s 10ms/step - loss: 3.1730e-04\n",
            "Epoch 4/10\n",
            "22/22 [==============================] - 0s 10ms/step - loss: 3.5009e-04\n",
            "Epoch 5/10\n",
            "22/22 [==============================] - 0s 11ms/step - loss: 2.8438e-04\n",
            "Epoch 6/10\n",
            "22/22 [==============================] - 0s 10ms/step - loss: 2.7932e-04\n",
            "Epoch 7/10\n",
            "22/22 [==============================] - 0s 10ms/step - loss: 2.3582e-04\n",
            "Epoch 8/10\n",
            "22/22 [==============================] - 0s 11ms/step - loss: 2.6525e-04\n",
            "Epoch 9/10\n",
            "22/22 [==============================] - 0s 11ms/step - loss: 2.4279e-04\n",
            "Epoch 10/10\n",
            "22/22 [==============================] - 0s 10ms/step - loss: 2.6412e-04\n",
            "Epoch 1/20\n",
            "22/22 [==============================] - 5s 11ms/step - loss: 0.0099\n",
            "Epoch 2/20\n",
            "22/22 [==============================] - 0s 11ms/step - loss: 0.0035\n",
            "Epoch 3/20\n",
            "22/22 [==============================] - 0s 10ms/step - loss: 0.0022\n",
            "Epoch 4/20\n",
            "22/22 [==============================] - 0s 10ms/step - loss: 0.0019\n",
            "Epoch 5/20\n",
            "22/22 [==============================] - 0s 10ms/step - loss: 0.0019\n",
            "Epoch 6/20\n",
            "22/22 [==============================] - 0s 10ms/step - loss: 0.0017\n",
            "Epoch 7/20\n",
            "22/22 [==============================] - 0s 11ms/step - loss: 0.0019\n",
            "Epoch 8/20\n",
            "22/22 [==============================] - 0s 10ms/step - loss: 0.0021\n",
            "Epoch 9/20\n",
            "22/22 [==============================] - 0s 10ms/step - loss: 0.0018\n",
            "Epoch 10/20\n",
            "22/22 [==============================] - 0s 10ms/step - loss: 0.0020\n",
            "Epoch 11/20\n",
            "22/22 [==============================] - 0s 11ms/step - loss: 0.0016\n",
            "Epoch 12/20\n",
            "22/22 [==============================] - 0s 14ms/step - loss: 0.0018\n",
            "Epoch 13/20\n",
            "22/22 [==============================] - 0s 14ms/step - loss: 0.0016\n",
            "Epoch 14/20\n",
            "22/22 [==============================] - 0s 14ms/step - loss: 0.0015\n",
            "Epoch 15/20\n",
            "22/22 [==============================] - 0s 15ms/step - loss: 0.0015\n",
            "Epoch 16/20\n",
            "22/22 [==============================] - 0s 14ms/step - loss: 0.0018\n",
            "Epoch 17/20\n",
            "22/22 [==============================] - 0s 14ms/step - loss: 0.0016\n",
            "Epoch 18/20\n",
            "22/22 [==============================] - 0s 14ms/step - loss: 0.0016\n",
            "Epoch 19/20\n",
            "22/22 [==============================] - 0s 14ms/step - loss: 0.0017\n",
            "Epoch 20/20\n",
            "22/22 [==============================] - 0s 15ms/step - loss: 0.0015\n",
            "Epoch 1/10\n",
            "22/22 [==============================] - 8s 11ms/step - loss: 7.0481e-04\n",
            "Epoch 2/10\n",
            "22/22 [==============================] - 0s 11ms/step - loss: 4.3838e-04\n",
            "Epoch 3/10\n",
            "22/22 [==============================] - 0s 11ms/step - loss: 3.7810e-04\n",
            "Epoch 4/10\n",
            "22/22 [==============================] - 0s 11ms/step - loss: 3.1740e-04\n",
            "Epoch 5/10\n",
            "22/22 [==============================] - 0s 11ms/step - loss: 2.6073e-04\n",
            "Epoch 6/10\n",
            "22/22 [==============================] - 0s 10ms/step - loss: 3.1094e-04\n",
            "Epoch 7/10\n",
            "22/22 [==============================] - 0s 12ms/step - loss: 2.7626e-04\n",
            "Epoch 8/10\n",
            "22/22 [==============================] - 0s 11ms/step - loss: 3.3371e-04\n",
            "Epoch 9/10\n",
            "22/22 [==============================] - 0s 11ms/step - loss: 2.1601e-04\n",
            "Epoch 10/10\n",
            "22/22 [==============================] - 0s 11ms/step - loss: 1.7426e-04\n",
            "Epoch 1/20\n",
            "22/22 [==============================] - 6s 11ms/step - loss: 0.0079\n",
            "Epoch 2/20\n",
            "22/22 [==============================] - 0s 10ms/step - loss: 0.0032\n",
            "Epoch 3/20\n",
            "22/22 [==============================] - 0s 10ms/step - loss: 0.0018\n",
            "Epoch 4/20\n",
            "22/22 [==============================] - 0s 10ms/step - loss: 0.0019\n",
            "Epoch 5/20\n",
            "22/22 [==============================] - 0s 10ms/step - loss: 0.0015\n",
            "Epoch 6/20\n",
            "22/22 [==============================] - 0s 11ms/step - loss: 0.0015\n",
            "Epoch 7/20\n",
            "22/22 [==============================] - 0s 10ms/step - loss: 0.0016\n",
            "Epoch 8/20\n",
            "22/22 [==============================] - 0s 10ms/step - loss: 0.0016\n",
            "Epoch 9/20\n",
            "22/22 [==============================] - 0s 10ms/step - loss: 0.0014\n",
            "Epoch 10/20\n",
            "22/22 [==============================] - 0s 10ms/step - loss: 0.0014\n",
            "Epoch 11/20\n",
            "22/22 [==============================] - 0s 11ms/step - loss: 0.0022\n",
            "Epoch 12/20\n",
            "22/22 [==============================] - 0s 10ms/step - loss: 0.0015\n",
            "Epoch 13/20\n",
            "22/22 [==============================] - 0s 11ms/step - loss: 0.0014\n",
            "Epoch 14/20\n",
            "22/22 [==============================] - 0s 10ms/step - loss: 0.0013\n",
            "Epoch 15/20\n",
            "22/22 [==============================] - 0s 12ms/step - loss: 0.0013\n",
            "Epoch 16/20\n",
            "22/22 [==============================] - 0s 11ms/step - loss: 0.0014\n",
            "Epoch 17/20\n",
            "22/22 [==============================] - 0s 10ms/step - loss: 0.0014\n",
            "Epoch 18/20\n",
            "22/22 [==============================] - 0s 10ms/step - loss: 0.0015\n",
            "Epoch 19/20\n",
            "22/22 [==============================] - 0s 11ms/step - loss: 0.0013\n",
            "Epoch 20/20\n",
            "22/22 [==============================] - 0s 10ms/step - loss: 0.0016\n",
            "Epoch 1/10\n",
            "22/22 [==============================] - 7s 19ms/step - loss: 6.1625e-04\n",
            "Epoch 2/10\n",
            "22/22 [==============================] - 0s 20ms/step - loss: 4.1851e-04\n",
            "Epoch 3/10\n",
            "22/22 [==============================] - 0s 16ms/step - loss: 3.5440e-04\n",
            "Epoch 4/10\n",
            "22/22 [==============================] - 0s 19ms/step - loss: 2.6616e-04\n",
            "Epoch 5/10\n",
            "22/22 [==============================] - 0s 19ms/step - loss: 2.3150e-04\n",
            "Epoch 6/10\n",
            "22/22 [==============================] - 0s 20ms/step - loss: 2.5160e-04\n",
            "Epoch 7/10\n",
            "22/22 [==============================] - 0s 18ms/step - loss: 2.2624e-04\n",
            "Epoch 8/10\n",
            "22/22 [==============================] - 0s 20ms/step - loss: 2.0920e-04\n",
            "Epoch 9/10\n",
            "22/22 [==============================] - 0s 18ms/step - loss: 1.9931e-04\n",
            "Epoch 10/10\n",
            "22/22 [==============================] - 0s 15ms/step - loss: 1.9806e-04\n",
            "Epoch 1/20\n",
            "22/22 [==============================] - 5s 11ms/step - loss: 0.0056\n",
            "Epoch 2/20\n",
            "22/22 [==============================] - 0s 11ms/step - loss: 0.0028\n",
            "Epoch 3/20\n",
            "22/22 [==============================] - 0s 14ms/step - loss: 0.0019\n",
            "Epoch 4/20\n",
            "22/22 [==============================] - 0s 14ms/step - loss: 0.0012\n",
            "Epoch 5/20\n",
            "22/22 [==============================] - 0s 15ms/step - loss: 0.0014\n",
            "Epoch 6/20\n",
            "22/22 [==============================] - 0s 15ms/step - loss: 0.0011\n",
            "Epoch 7/20\n",
            "22/22 [==============================] - 0s 14ms/step - loss: 0.0011\n",
            "Epoch 8/20\n",
            "22/22 [==============================] - 0s 15ms/step - loss: 0.0013\n",
            "Epoch 9/20\n",
            "22/22 [==============================] - 0s 15ms/step - loss: 9.0023e-04\n",
            "Epoch 10/20\n",
            "22/22 [==============================] - 0s 15ms/step - loss: 0.0012\n",
            "Epoch 11/20\n",
            "22/22 [==============================] - 0s 14ms/step - loss: 0.0010\n",
            "Epoch 12/20\n",
            "22/22 [==============================] - 0s 15ms/step - loss: 8.5899e-04\n",
            "Epoch 13/20\n",
            "22/22 [==============================] - 0s 15ms/step - loss: 8.9746e-04\n",
            "Epoch 14/20\n",
            "22/22 [==============================] - 0s 15ms/step - loss: 9.8308e-04\n",
            "Epoch 15/20\n",
            "22/22 [==============================] - 0s 13ms/step - loss: 9.2659e-04\n",
            "Epoch 16/20\n",
            "22/22 [==============================] - 0s 10ms/step - loss: 9.3565e-04\n",
            "Epoch 17/20\n",
            "22/22 [==============================] - 0s 11ms/step - loss: 9.5388e-04\n",
            "Epoch 18/20\n",
            "22/22 [==============================] - 0s 11ms/step - loss: 8.7591e-04\n",
            "Epoch 19/20\n",
            "22/22 [==============================] - 0s 11ms/step - loss: 8.6191e-04\n",
            "Epoch 20/20\n",
            "22/22 [==============================] - 0s 10ms/step - loss: 8.4808e-04\n",
            "Epoch 1/10\n",
            "22/22 [==============================] - 8s 15ms/step - loss: 0.0010\n",
            "Epoch 2/10\n",
            "22/22 [==============================] - 0s 15ms/step - loss: 3.5191e-04\n",
            "Epoch 3/10\n",
            "22/22 [==============================] - 0s 16ms/step - loss: 2.1654e-04\n",
            "Epoch 4/10\n",
            "22/22 [==============================] - 0s 17ms/step - loss: 2.1321e-04\n",
            "Epoch 5/10\n",
            "22/22 [==============================] - 0s 14ms/step - loss: 2.0584e-04\n",
            "Epoch 6/10\n",
            "22/22 [==============================] - 0s 11ms/step - loss: 1.5426e-04\n",
            "Epoch 7/10\n",
            "22/22 [==============================] - 0s 11ms/step - loss: 1.5151e-04\n",
            "Epoch 8/10\n",
            "22/22 [==============================] - 0s 11ms/step - loss: 1.4718e-04\n",
            "Epoch 9/10\n",
            "22/22 [==============================] - 0s 11ms/step - loss: 1.9398e-04\n",
            "Epoch 10/10\n",
            "22/22 [==============================] - 0s 10ms/step - loss: 1.6141e-04\n"
          ]
        }
      ]
    },
    {
      "cell_type": "code",
      "source": [
        "def mape_(p, a):\n",
        "  m = 0.0\n",
        "  for i in range(len(p)):\n",
        "    m += abs(p[i] - a[i]) / a[i]\n",
        "  return( m / len(p)) * 100"
      ],
      "metadata": {
        "id": "JmdiB72bbD25"
      },
      "execution_count": null,
      "outputs": []
    },
    {
      "cell_type": "code",
      "source": [
        "predictions = model_f.predict(predict_for) + model_m.predict(predict_for) + model_t.predict(predict_for) + model_nia.predict(predict_for)\n",
        "\n",
        "for i in range(len(predictions)):\n",
        "  predictions[i] = max(0, predictions[i])\n",
        "\n",
        "actual = df_test\n",
        "\n",
        "MAPE = mape_(predictions, actual)\n",
        "print(\"MAPE:\", MAPE)"
      ],
      "metadata": {
        "colab": {
          "base_uri": "https://localhost:8080/"
        },
        "id": "UR_Z4qp2bDz0",
        "outputId": "94528958-b856-4e80-864b-a7d34b54d122"
      },
      "execution_count": null,
      "outputs": [
        {
          "output_type": "stream",
          "name": "stdout",
          "text": [
            "1/1 [==============================] - 1s 962ms/step\n",
            "1/1 [==============================] - 1s 986ms/step\n",
            "1/1 [==============================] - 0s 25ms/step\n",
            "1/1 [==============================] - 0s 26ms/step\n",
            "1/1 [==============================] - 0s 25ms/step\n",
            "1/1 [==============================] - 0s 25ms/step\n",
            "1/1 [==============================] - 0s 25ms/step\n",
            "1/1 [==============================] - 0s 25ms/step\n",
            "1/1 [==============================] - 0s 22ms/step\n",
            "1/1 [==============================] - 0s 23ms/step\n",
            "1/1 [==============================] - 0s 27ms/step\n",
            "1/1 [==============================] - 0s 22ms/step\n",
            "1/1 [==============================] - 0s 25ms/step\n",
            "1/1 [==============================] - 0s 23ms/step\n",
            "1/1 [==============================] - 0s 23ms/step\n",
            "1/1 [==============================] - 0s 28ms/step\n",
            "1/1 [==============================] - 0s 26ms/step\n",
            "1/1 [==============================] - 0s 24ms/step\n",
            "1/1 [==============================] - 0s 22ms/step\n",
            "1/1 [==============================] - 0s 31ms/step\n",
            "1/1 [==============================] - 0s 23ms/step\n",
            "1/1 [==============================] - 0s 24ms/step\n",
            "1/1 [==============================] - 0s 22ms/step\n",
            "1/1 [==============================] - 0s 22ms/step\n",
            "1/1 [==============================] - 0s 21ms/step\n",
            "1/1 [==============================] - 0s 22ms/step\n",
            "1/1 [==============================] - 0s 22ms/step\n",
            "1/1 [==============================] - 0s 24ms/step\n",
            "1/1 [==============================] - 1s 982ms/step\n",
            "1/1 [==============================] - 1s 960ms/step\n",
            "1/1 [==============================] - 0s 23ms/step\n",
            "1/1 [==============================] - 0s 22ms/step\n",
            "1/1 [==============================] - 0s 20ms/step\n",
            "1/1 [==============================] - 0s 22ms/step\n",
            "1/1 [==============================] - 0s 23ms/step\n",
            "1/1 [==============================] - 0s 22ms/step\n",
            "1/1 [==============================] - 0s 25ms/step\n",
            "1/1 [==============================] - 0s 24ms/step\n",
            "1/1 [==============================] - 0s 32ms/step\n",
            "1/1 [==============================] - 0s 25ms/step\n",
            "1/1 [==============================] - 0s 24ms/step\n",
            "1/1 [==============================] - 0s 21ms/step\n",
            "1/1 [==============================] - 0s 21ms/step\n",
            "1/1 [==============================] - 0s 22ms/step\n",
            "1/1 [==============================] - 0s 23ms/step\n",
            "1/1 [==============================] - 0s 23ms/step\n",
            "1/1 [==============================] - 0s 27ms/step\n",
            "1/1 [==============================] - 0s 23ms/step\n",
            "1/1 [==============================] - 0s 23ms/step\n",
            "1/1 [==============================] - 0s 22ms/step\n",
            "1/1 [==============================] - 0s 27ms/step\n",
            "1/1 [==============================] - 0s 27ms/step\n",
            "1/1 [==============================] - 0s 22ms/step\n",
            "1/1 [==============================] - 0s 24ms/step\n",
            "1/1 [==============================] - 0s 34ms/step\n",
            "1/1 [==============================] - 0s 27ms/step\n",
            "1/1 [==============================] - 1s 960ms/step\n",
            "1/1 [==============================] - 1s 1s/step\n",
            "1/1 [==============================] - 0s 35ms/step\n",
            "1/1 [==============================] - 0s 33ms/step\n",
            "1/1 [==============================] - 0s 33ms/step\n",
            "1/1 [==============================] - 0s 47ms/step\n",
            "1/1 [==============================] - 0s 42ms/step\n",
            "1/1 [==============================] - 0s 41ms/step\n",
            "1/1 [==============================] - 0s 32ms/step\n",
            "1/1 [==============================] - 0s 36ms/step\n",
            "1/1 [==============================] - 0s 29ms/step\n",
            "1/1 [==============================] - 0s 32ms/step\n",
            "1/1 [==============================] - 0s 31ms/step\n",
            "1/1 [==============================] - 0s 36ms/step\n",
            "1/1 [==============================] - 0s 35ms/step\n",
            "1/1 [==============================] - 0s 36ms/step\n",
            "1/1 [==============================] - 0s 41ms/step\n",
            "1/1 [==============================] - 0s 33ms/step\n",
            "1/1 [==============================] - 0s 37ms/step\n",
            "1/1 [==============================] - 0s 34ms/step\n",
            "1/1 [==============================] - 0s 35ms/step\n",
            "1/1 [==============================] - 0s 30ms/step\n",
            "1/1 [==============================] - 0s 31ms/step\n",
            "1/1 [==============================] - 0s 30ms/step\n",
            "1/1 [==============================] - 0s 35ms/step\n",
            "1/1 [==============================] - 0s 36ms/step\n",
            "1/1 [==============================] - 0s 33ms/step\n",
            "1/1 [==============================] - 0s 35ms/step\n",
            "1/1 [==============================] - 1s 1s/step\n",
            "1/1 [==============================] - 1s 963ms/step\n",
            "1/1 [==============================] - 0s 25ms/step\n",
            "1/1 [==============================] - 0s 24ms/step\n",
            "1/1 [==============================] - 0s 22ms/step\n",
            "1/1 [==============================] - 0s 24ms/step\n",
            "1/1 [==============================] - 0s 24ms/step\n",
            "1/1 [==============================] - 0s 19ms/step\n",
            "1/1 [==============================] - 0s 24ms/step\n",
            "1/1 [==============================] - 0s 24ms/step\n",
            "1/1 [==============================] - 0s 25ms/step\n",
            "1/1 [==============================] - 0s 26ms/step\n",
            "1/1 [==============================] - 0s 26ms/step\n",
            "1/1 [==============================] - 0s 23ms/step\n",
            "1/1 [==============================] - 0s 23ms/step\n",
            "1/1 [==============================] - 0s 27ms/step\n",
            "1/1 [==============================] - 0s 26ms/step\n",
            "1/1 [==============================] - 0s 27ms/step\n",
            "1/1 [==============================] - 0s 23ms/step\n",
            "1/1 [==============================] - 0s 27ms/step\n",
            "1/1 [==============================] - 0s 32ms/step\n",
            "1/1 [==============================] - 0s 25ms/step\n",
            "1/1 [==============================] - 0s 21ms/step\n",
            "1/1 [==============================] - 0s 24ms/step\n",
            "1/1 [==============================] - 0s 24ms/step\n",
            "1/1 [==============================] - 0s 25ms/step\n",
            "1/1 [==============================] - 0s 23ms/step\n",
            "1/1 [==============================] - 0s 25ms/step\n",
            "MAPE: 48.21295000136043\n"
          ]
        }
      ]
    },
    {
      "cell_type": "code",
      "source": [
        "print(MAPE)"
      ],
      "metadata": {
        "colab": {
          "base_uri": "https://localhost:8080/"
        },
        "id": "18qOmcuZvDdF",
        "outputId": "ba35f426-a675-4358-b7a2-24089be4eb34"
      },
      "execution_count": null,
      "outputs": [
        {
          "output_type": "stream",
          "name": "stdout",
          "text": [
            "48.21295000136043\n"
          ]
        }
      ]
    },
    {
      "cell_type": "code",
      "source": [
        "print(predictions)"
      ],
      "metadata": {
        "colab": {
          "base_uri": "https://localhost:8080/"
        },
        "id": "UEPor8uY0p2A",
        "outputId": "cae6171e-ad67-48c6-9ffc-aec81559dfa6"
      },
      "execution_count": null,
      "outputs": [
        {
          "output_type": "stream",
          "name": "stdout",
          "text": [
            "[ 91898.03 115277.74 134422.7  148275.77 157085.42 161729.27 163266.05\n",
            " 162677.17 160751.1  158056.88 154966.67 151698.86 148364.34 145005.73]\n"
          ]
        }
      ]
    },
    {
      "cell_type": "code",
      "source": [
        "print(actual)"
      ],
      "metadata": {
        "colab": {
          "base_uri": "https://localhost:8080/"
        },
        "id": "HKZI6g771G2o",
        "outputId": "9dac65c6-f4ba-466e-f73b-5f7481d71e4b"
      },
      "execution_count": null,
      "outputs": [
        {
          "output_type": "stream",
          "name": "stdout",
          "text": [
            "[210776. 151380. 296174. 294333. 301381. 299915. 271531. 282285. 192189.\n",
            " 395946. 378298. 380601. 366328. 355254.]\n"
          ]
        }
      ]
    },
    {
      "cell_type": "code",
      "source": [
        "import matplotlib.pyplot as plt\n",
        "def append(a, b):\n",
        "  c = []\n",
        "  for ai in a:\n",
        "    c.append(ai)\n",
        "  for bi in b:\n",
        "    c.append(bi)\n",
        "  return c"
      ],
      "metadata": {
        "id": "SDSLIHAGsfZg"
      },
      "execution_count": null,
      "outputs": []
    },
    {
      "cell_type": "code",
      "source": [
        "window = 100\n",
        "plt.figure()\n",
        "plt.title(\"Predictions vs Actual results\")\n",
        "plt.plot(append(df_total[train_for - window:train_for], predictions), label=\"Predictions\")\n",
        "plt.plot(append(df_total[train_for - window:train_for], actual), label=\"Actual\")\n",
        "plt.xlabel(\"Time axis (Predictions for 14 days from \" + date)\n",
        "plt.ylabel(\"Number of covid cases\")\n",
        "plt.axvline(window, color = 'red', label = \"predictions on right of this line\")\n",
        "plt.legend()\n",
        "plt.show()"
      ],
      "metadata": {
        "colab": {
          "base_uri": "https://localhost:8080/",
          "height": 472
        },
        "id": "98ym7AmLYq-a",
        "outputId": "0b84aed6-18c1-44fe-b446-f6f1ad4363b2"
      },
      "execution_count": null,
      "outputs": [
        {
          "output_type": "display_data",
          "data": {
            "text/plain": [
              "<Figure size 640x480 with 1 Axes>"
            ],
            "image/png": "[encoded data removed]"
          },
          "metadata": {}
        }
      ]
    },
    {
      "cell_type": "code",
      "source": [
        "model_f.model_strong.save(\"/content/drive/MyDrive/saved_models/model_strong_f\" + date + \".h5\")\n",
        "model_m.model_strong.save(\"/content/drive/MyDrive/saved_models/model_strong_m\" + date + \".h5\")\n",
        "model_t.model_strong.save(\"/content/drive/MyDrive/saved_models/model_strong_t\" + date + \".h5\")\n",
        "model_nia.model_strong.save(\"/content/drive/MyDrive/saved_models/model_strong_nia\" + date + \".h5\")"
      ],
      "metadata": {
        "id": "dDGOY6eGbhpR"
      },
      "execution_count": null,
      "outputs": []
    },
    {
      "cell_type": "code",
      "source": [
        "model_f.model_weak.save(\"/content/drive/MyDrive/saved_models/model_weak_f\" + date + \".h5\")\n",
        "model_m.model_weak.save(\"/content/drive/MyDrive/saved_models/model_weak_m\" + date + \".h5\")\n",
        "model_t.model_weak.save(\"/content/drive/MyDrive/saved_models/model_weak_t\" + date + \".h5\")\n",
        "model_nia.model_weak.save(\"/content/drive/MyDrive/saved_models/model_weak_nia\" + date + \".h5\")"
      ],
      "metadata": {
        "id": "edu033FObvA7"
      },
      "execution_count": null,
      "outputs": []
    },
    {
      "cell_type": "code",
      "source": [],
      "metadata": {
        "id": "X-gZ6xK0ca8U"
      },
      "execution_count": null,
      "outputs": []
    }
  ]
}