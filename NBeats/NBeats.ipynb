{
  "cells": [
    {
      "cell_type": "code",
      "execution_count": null,
      "metadata": {
        "colab": {
          "background_save": true,
          "base_uri": "https://localhost:8080/"
        },
        "id": "hYvQq0ejN8dg",
        "outputId": "0f85bd02-21f5-46ec-c63b-3d52696a5320"
      },
      "outputs": [
        {
          "name": "stdout",
          "output_type": "stream",
          "text": [
            "Looking in indexes: https://pypi.org/simple, https://us-python.pkg.dev/colab-wheels/public/simple/\n",
            "Requirement already satisfied: darts in /usr/local/lib/python3.9/dist-packages (0.23.1)\n",
            "Requirement already satisfied: nfoursid>=1.0.0 in /usr/local/lib/python3.9/dist-packages (from darts) (1.0.1)\n",
            "Requirement already satisfied: shap>=0.40.0 in /usr/local/lib/python3.9/dist-packages (from darts) (0.41.0)\n",
            "Requirement already satisfied: pmdarima>=1.8.0 in /usr/local/lib/python3.9/dist-packages (from darts) (2.0.3)\n",
            "Requirement already satisfied: tbats>=1.1.0 in /usr/local/lib/python3.9/dist-packages (from darts) (1.1.2)\n",
            "Requirement already satisfied: pandas>=1.0.5 in /usr/local/lib/python3.9/dist-packages (from darts) (1.4.4)\n",
            "Requirement already satisfied: prophet>=1.1.1 in /usr/local/lib/python3.9/dist-packages (from darts) (1.1.2)\n",
            "Requirement already satisfied: matplotlib>=3.3.0 in /usr/local/lib/python3.9/dist-packages (from darts) (3.7.1)\n",
            "Requirement already satisfied: tqdm>=4.60.0 in /usr/local/lib/python3.9/dist-packages (from darts) (4.65.0)\n",
            "Requirement already satisfied: statsmodels>=0.13.0 in /usr/local/lib/python3.9/dist-packages (from darts) (0.13.5)\n",
            "Requirement already satisfied: scipy>=1.3.2 in /usr/local/lib/python3.9/dist-packages (from darts) (1.10.1)\n",
            "Requirement already satisfied: pyod>=0.9.5 in /usr/local/lib/python3.9/dist-packages (from darts) (1.0.9)\n",
            "Requirement already satisfied: xgboost>=1.6.0 in /usr/local/lib/python3.9/dist-packages (from darts) (1.7.5)\n",
            "Requirement already satisfied: statsforecast>=1.0.0 in /usr/local/lib/python3.9/dist-packages (from darts) (1.5.0)\n",
            "Requirement already satisfied: xarray>=0.17.0 in /usr/local/lib/python3.9/dist-packages (from darts) (2022.12.0)\n",
            "Requirement already satisfied: pytorch-lightning>=1.5.0 in /usr/local/lib/python3.9/dist-packages (from darts) (2.0.1)\n",
            "Requirement already satisfied: lightgbm>=3.2.0 in /usr/local/lib/python3.9/dist-packages (from darts) (3.3.5)\n",
            "Requirement already satisfied: holidays>=0.11.1 in /usr/local/lib/python3.9/dist-packages (from darts) (0.22)\n",
            "Requirement already satisfied: numpy>=1.19.0 in /usr/local/lib/python3.9/dist-packages (from darts) (1.22.4)\n",
            "Requirement already satisfied: scikit-learn>=1.0.1 in /usr/local/lib/python3.9/dist-packages (from darts) (1.2.2)\n",
            "Requirement already satisfied: torch>=1.8.0 in /usr/local/lib/python3.9/dist-packages (from darts) (2.0.0+cu118)\n",
            "Requirement already satisfied: requests>=2.22.0 in /usr/local/lib/python3.9/dist-packages (from darts) (2.27.1)\n",
            "Requirement already satisfied: catboost>=1.0.6 in /usr/local/lib/python3.9/dist-packages (from darts) (1.1.1)\n",
            "Requirement already satisfied: joblib>=0.16.0 in /usr/local/lib/python3.9/dist-packages (from darts) (1.1.1)\n",
            "Requirement already satisfied: plotly in /usr/local/lib/python3.9/dist-packages (from catboost>=1.0.6->darts) (5.13.1)\n",
            "Requirement already satisfied: six in /usr/local/lib/python3.9/dist-packages (from catboost>=1.0.6->darts) (1.16.0)\n",
            "Requirement already satisfied: graphviz in /usr/local/lib/python3.9/dist-packages (from catboost>=1.0.6->darts) (0.20.1)\n",
            "Requirement already satisfied: python-dateutil in /usr/local/lib/python3.9/dist-packages (from holidays>=0.11.1->darts) (2.8.2)\n",
            "Requirement already satisfied: PyMeeus in /usr/local/lib/python3.9/dist-packages (from holidays>=0.11.1->darts) (0.5.12)\n",
            "Requirement already satisfied: hijri-converter in /usr/local/lib/python3.9/dist-packages (from holidays>=0.11.1->darts) (2.2.4)\n",
            "Requirement already satisfied: korean-lunar-calendar in /usr/local/lib/python3.9/dist-packages (from holidays>=0.11.1->darts) (0.3.1)\n",
            "Requirement already satisfied: convertdate>=2.3.0 in /usr/local/lib/python3.9/dist-packages (from holidays>=0.11.1->darts) (2.4.0)\n",
            "Requirement already satisfied: wheel in /usr/local/lib/python3.9/dist-packages (from lightgbm>=3.2.0->darts) (0.40.0)\n",
            "Requirement already satisfied: pillow>=6.2.0 in /usr/local/lib/python3.9/dist-packages (from matplotlib>=3.3.0->darts) (8.4.0)\n",
            "Requirement already satisfied: contourpy>=1.0.1 in /usr/local/lib/python3.9/dist-packages (from matplotlib>=3.3.0->darts) (1.0.7)\n",
            "Requirement already satisfied: fonttools>=4.22.0 in /usr/local/lib/python3.9/dist-packages (from matplotlib>=3.3.0->darts) (4.39.3)\n",
            "Requirement already satisfied: packaging>=20.0 in /usr/local/lib/python3.9/dist-packages (from matplotlib>=3.3.0->darts) (23.0)\n",
            "Requirement already satisfied: importlib-resources>=3.2.0 in /usr/local/lib/python3.9/dist-packages (from matplotlib>=3.3.0->darts) (5.12.0)\n",
            "Requirement already satisfied: kiwisolver>=1.0.1 in /usr/local/lib/python3.9/dist-packages (from matplotlib>=3.3.0->darts) (1.4.4)\n",
            "Requirement already satisfied: pyparsing>=2.3.1 in /usr/local/lib/python3.9/dist-packages (from matplotlib>=3.3.0->darts) (3.0.9)\n",
            "Requirement already satisfied: cycler>=0.10 in /usr/local/lib/python3.9/dist-packages (from matplotlib>=3.3.0->darts) (0.11.0)\n",
            "Requirement already satisfied: pytz>=2020.1 in /usr/local/lib/python3.9/dist-packages (from pandas>=1.0.5->darts) (2022.7.1)\n",
            "Requirement already satisfied: Cython!=0.29.18,!=0.29.31,>=0.29 in /usr/local/lib/python3.9/dist-packages (from pmdarima>=1.8.0->darts) (0.29.34)\n",
            "Requirement already satisfied: urllib3 in /usr/local/lib/python3.9/dist-packages (from pmdarima>=1.8.0->darts) (1.26.15)\n",
            "Requirement already satisfied: setuptools!=50.0.0,>=38.6.0 in /usr/local/lib/python3.9/dist-packages (from pmdarima>=1.8.0->darts) (67.6.1)\n",
            "Requirement already satisfied: cmdstanpy>=1.0.4 in /usr/local/lib/python3.9/dist-packages (from prophet>=1.1.1->darts) (1.1.0)\n",
            "Requirement already satisfied: LunarCalendar>=0.0.9 in /usr/local/lib/python3.9/dist-packages (from prophet>=1.1.1->darts) (0.0.9)\n",
            "Requirement already satisfied: numba>=0.51 in /usr/local/lib/python3.9/dist-packages (from pyod>=0.9.5->darts) (0.56.4)\n",
            "Requirement already satisfied: PyYAML>=5.4 in /usr/local/lib/python3.9/dist-packages (from pytorch-lightning>=1.5.0->darts) (6.0)\n",
            "Requirement already satisfied: typing-extensions>=4.0.0 in /usr/local/lib/python3.9/dist-packages (from pytorch-lightning>=1.5.0->darts) (4.5.0)\n",
            "Requirement already satisfied: torchmetrics>=0.7.0 in /usr/local/lib/python3.9/dist-packages (from pytorch-lightning>=1.5.0->darts) (0.11.4)\n",
            "Requirement already satisfied: lightning-utilities>=0.7.0 in /usr/local/lib/python3.9/dist-packages (from pytorch-lightning>=1.5.0->darts) (0.8.0)\n",
            "Requirement already satisfied: fsspec[http]>2021.06.0 in /usr/local/lib/python3.9/dist-packages (from pytorch-lightning>=1.5.0->darts) (2023.3.0)\n",
            "Requirement already satisfied: idna<4,>=2.5 in /usr/local/lib/python3.9/dist-packages (from requests>=2.22.0->darts) (3.4)\n",
            "Requirement already satisfied: certifi>=2017.4.17 in /usr/local/lib/python3.9/dist-packages (from requests>=2.22.0->darts) (2022.12.7)\n",
            "Requirement already satisfied: charset-normalizer~=2.0.0 in /usr/local/lib/python3.9/dist-packages (from requests>=2.22.0->darts) (2.0.12)\n",
            "Requirement already satisfied: threadpoolctl>=2.0.0 in /usr/local/lib/python3.9/dist-packages (from scikit-learn>=1.0.1->darts) (3.1.0)\n",
            "Requirement already satisfied: cloudpickle in /usr/local/lib/python3.9/dist-packages (from shap>=0.40.0->darts) (2.2.1)\n",
            "Requirement already satisfied: slicer==0.0.7 in /usr/local/lib/python3.9/dist-packages (from shap>=0.40.0->darts) (0.0.7)\n",
            "Requirement already satisfied: plotly-resampler in /usr/local/lib/python3.9/dist-packages (from statsforecast>=1.0.0->darts) (0.8.3.2)\n",
            "Requirement already satisfied: fugue>=0.8.1 in /usr/local/lib/python3.9/dist-packages (from statsforecast>=1.0.0->darts) (0.8.3)\n",
            "Requirement already satisfied: patsy>=0.5.2 in /usr/local/lib/python3.9/dist-packages (from statsmodels>=0.13.0->darts) (0.5.3)\n",
            "Requirement already satisfied: networkx in /usr/local/lib/python3.9/dist-packages (from torch>=1.8.0->darts) (3.0)\n",
            "Requirement already satisfied: jinja2 in /usr/local/lib/python3.9/dist-packages (from torch>=1.8.0->darts) (3.1.2)\n",
            "Requirement already satisfied: sympy in /usr/local/lib/python3.9/dist-packages (from torch>=1.8.0->darts) (1.11.1)\n",
            "Requirement already satisfied: triton==2.0.0 in /usr/local/lib/python3.9/dist-packages (from torch>=1.8.0->darts) (2.0.0)\n",
            "Requirement already satisfied: filelock in /usr/local/lib/python3.9/dist-packages (from torch>=1.8.0->darts) (3.10.7)\n",
            "Requirement already satisfied: cmake in /usr/local/lib/python3.9/dist-packages (from triton==2.0.0->torch>=1.8.0->darts) (3.25.2)\n",
            "Requirement already satisfied: lit in /usr/local/lib/python3.9/dist-packages (from triton==2.0.0->torch>=1.8.0->darts) (16.0.0)\n",
            "Requirement already satisfied: aiohttp!=4.0.0a0,!=4.0.0a1 in /usr/local/lib/python3.9/dist-packages (from fsspec[http]>2021.06.0->pytorch-lightning>=1.5.0->darts) (3.8.4)\n",
            "Requirement already satisfied: triad>=0.8.4 in /usr/local/lib/python3.9/dist-packages (from fugue>=0.8.1->statsforecast>=1.0.0->darts) (0.8.4)\n",
            "Requirement already satisfied: adagio>=0.2.4 in /usr/local/lib/python3.9/dist-packages (from fugue>=0.8.1->statsforecast>=1.0.0->darts) (0.2.4)\n",
            "Requirement already satisfied: pyarrow>=0.15.1 in /usr/local/lib/python3.9/dist-packages (from fugue>=0.8.1->statsforecast>=1.0.0->darts) (9.0.0)\n",
            "Requirement already satisfied: qpd>=0.4.0 in /usr/local/lib/python3.9/dist-packages (from fugue>=0.8.1->statsforecast>=1.0.0->darts) (0.4.0)\n",
            "Requirement already satisfied: fugue-sql-antlr>=0.1.6 in /usr/local/lib/python3.9/dist-packages (from fugue>=0.8.1->statsforecast>=1.0.0->darts) (0.1.6)\n",
            "Requirement already satisfied: sqlglot in /usr/local/lib/python3.9/dist-packages (from fugue>=0.8.1->statsforecast>=1.0.0->darts) (11.5.2)\n",
            "Requirement already satisfied: zipp>=3.1.0 in /usr/local/lib/python3.9/dist-packages (from importlib-resources>=3.2.0->matplotlib>=3.3.0->darts) (3.15.0)\n",
            "Requirement already satisfied: ephem>=3.7.5.3 in /usr/local/lib/python3.9/dist-packages (from LunarCalendar>=0.0.9->prophet>=1.1.1->darts) (4.1.4)\n",
            "Requirement already satisfied: llvmlite<0.40,>=0.39.0dev0 in /usr/local/lib/python3.9/dist-packages (from numba>=0.51->pyod>=0.9.5->darts) (0.39.1)\n",
            "Requirement already satisfied: MarkupSafe>=2.0 in /usr/local/lib/python3.9/dist-packages (from jinja2->torch>=1.8.0->darts) (2.1.2)\n",
            "Requirement already satisfied: tenacity>=6.2.0 in /usr/local/lib/python3.9/dist-packages (from plotly->catboost>=1.0.6->darts) (8.2.2)\n",
            "Requirement already satisfied: orjson<4.0.0,>=3.8.0 in /usr/local/lib/python3.9/dist-packages (from plotly-resampler->statsforecast>=1.0.0->darts) (3.8.10)\n",
            "Requirement already satisfied: trace-updater>=0.0.8 in /usr/local/lib/python3.9/dist-packages (from plotly-resampler->statsforecast>=1.0.0->darts) (0.0.9.1)\n",
            "Requirement already satisfied: dash<3.0.0,>=2.2.0 in /usr/local/lib/python3.9/dist-packages (from plotly-resampler->statsforecast>=1.0.0->darts) (2.9.2)\n",
            "Requirement already satisfied: jupyter-dash>=0.4.2 in /usr/local/lib/python3.9/dist-packages (from plotly-resampler->statsforecast>=1.0.0->darts) (0.4.2)\n",
            "Requirement already satisfied: mpmath>=0.19 in /usr/local/lib/python3.9/dist-packages (from sympy->torch>=1.8.0->darts) (1.3.0)\n",
            "Requirement already satisfied: async-timeout<5.0,>=4.0.0a3 in /usr/local/lib/python3.9/dist-packages (from aiohttp!=4.0.0a0,!=4.0.0a1->fsspec[http]>2021.06.0->pytorch-lightning>=1.5.0->darts) (4.0.2)\n",
            "Requirement already satisfied: aiosignal>=1.1.2 in /usr/local/lib/python3.9/dist-packages (from aiohttp!=4.0.0a0,!=4.0.0a1->fsspec[http]>2021.06.0->pytorch-lightning>=1.5.0->darts) (1.3.1)\n",
            "Requirement already satisfied: multidict<7.0,>=4.5 in /usr/local/lib/python3.9/dist-packages (from aiohttp!=4.0.0a0,!=4.0.0a1->fsspec[http]>2021.06.0->pytorch-lightning>=1.5.0->darts) (6.0.4)\n",
            "Requirement already satisfied: yarl<2.0,>=1.0 in /usr/local/lib/python3.9/dist-packages (from aiohttp!=4.0.0a0,!=4.0.0a1->fsspec[http]>2021.06.0->pytorch-lightning>=1.5.0->darts) (1.8.2)\n",
            "Requirement already satisfied: attrs>=17.3.0 in /usr/local/lib/python3.9/dist-packages (from aiohttp!=4.0.0a0,!=4.0.0a1->fsspec[http]>2021.06.0->pytorch-lightning>=1.5.0->darts) (22.2.0)\n",
            "Requirement already satisfied: frozenlist>=1.1.1 in /usr/local/lib/python3.9/dist-packages (from aiohttp!=4.0.0a0,!=4.0.0a1->fsspec[http]>2021.06.0->pytorch-lightning>=1.5.0->darts) (1.3.3)\n",
            "Requirement already satisfied: dash-core-components==2.0.0 in /usr/local/lib/python3.9/dist-packages (from dash<3.0.0,>=2.2.0->plotly-resampler->statsforecast>=1.0.0->darts) (2.0.0)\n",
            "Requirement already satisfied: dash-table==5.0.0 in /usr/local/lib/python3.9/dist-packages (from dash<3.0.0,>=2.2.0->plotly-resampler->statsforecast>=1.0.0->darts) (5.0.0)\n",
            "Requirement already satisfied: dash-html-components==2.0.0 in /usr/local/lib/python3.9/dist-packages (from dash<3.0.0,>=2.2.0->plotly-resampler->statsforecast>=1.0.0->darts) (2.0.0)\n",
            "Requirement already satisfied: Flask>=1.0.4 in /usr/local/lib/python3.9/dist-packages (from dash<3.0.0,>=2.2.0->plotly-resampler->statsforecast>=1.0.0->darts) (2.2.3)\n",
            "Requirement already satisfied: antlr4-python3-runtime<4.12,>=4.11.1 in /usr/local/lib/python3.9/dist-packages (from fugue-sql-antlr>=0.1.6->fugue>=0.8.1->statsforecast>=1.0.0->darts) (4.11.1)\n",
            "Requirement already satisfied: nest-asyncio in /usr/local/lib/python3.9/dist-packages (from jupyter-dash>=0.4.2->plotly-resampler->statsforecast>=1.0.0->darts) (1.5.6)\n",
            "Requirement already satisfied: ipykernel in /usr/local/lib/python3.9/dist-packages (from jupyter-dash>=0.4.2->plotly-resampler->statsforecast>=1.0.0->darts) (5.5.6)\n",
            "Requirement already satisfied: ansi2html in /usr/local/lib/python3.9/dist-packages (from jupyter-dash>=0.4.2->plotly-resampler->statsforecast>=1.0.0->darts) (1.8.0)\n",
            "Requirement already satisfied: ipython in /usr/local/lib/python3.9/dist-packages (from jupyter-dash>=0.4.2->plotly-resampler->statsforecast>=1.0.0->darts) (7.34.0)\n",
            "Requirement already satisfied: retrying in /usr/local/lib/python3.9/dist-packages (from jupyter-dash>=0.4.2->plotly-resampler->statsforecast>=1.0.0->darts) (1.3.4)\n",
            "Requirement already satisfied: fs in /usr/local/lib/python3.9/dist-packages (from triad>=0.8.4->fugue>=0.8.1->statsforecast>=1.0.0->darts) (2.4.16)\n",
            "Requirement already satisfied: click>=8.0 in /usr/local/lib/python3.9/dist-packages (from Flask>=1.0.4->dash<3.0.0,>=2.2.0->plotly-resampler->statsforecast>=1.0.0->darts) (8.1.3)\n",
            "Requirement already satisfied: Werkzeug>=2.2.2 in /usr/local/lib/python3.9/dist-packages (from Flask>=1.0.4->dash<3.0.0,>=2.2.0->plotly-resampler->statsforecast>=1.0.0->darts) (2.2.3)\n",
            "Requirement already satisfied: itsdangerous>=2.0 in /usr/local/lib/python3.9/dist-packages (from Flask>=1.0.4->dash<3.0.0,>=2.2.0->plotly-resampler->statsforecast>=1.0.0->darts) (2.1.2)\n",
            "Requirement already satisfied: importlib-metadata>=3.6.0 in /usr/local/lib/python3.9/dist-packages (from Flask>=1.0.4->dash<3.0.0,>=2.2.0->plotly-resampler->statsforecast>=1.0.0->darts) (6.1.0)\n",
            "Requirement already satisfied: appdirs~=1.4.3 in /usr/local/lib/python3.9/dist-packages (from fs->triad>=0.8.4->fugue>=0.8.1->statsforecast>=1.0.0->darts) (1.4.4)\n",
            "Requirement already satisfied: ipython-genutils in /usr/local/lib/python3.9/dist-packages (from ipykernel->jupyter-dash>=0.4.2->plotly-resampler->statsforecast>=1.0.0->darts) (0.2.0)\n",
            "Requirement already satisfied: jupyter-client in /usr/local/lib/python3.9/dist-packages (from ipykernel->jupyter-dash>=0.4.2->plotly-resampler->statsforecast>=1.0.0->darts) (6.1.12)\n",
            "Requirement already satisfied: tornado>=4.2 in /usr/local/lib/python3.9/dist-packages (from ipykernel->jupyter-dash>=0.4.2->plotly-resampler->statsforecast>=1.0.0->darts) (6.2)\n",
            "Requirement already satisfied: traitlets>=4.1.0 in /usr/local/lib/python3.9/dist-packages (from ipykernel->jupyter-dash>=0.4.2->plotly-resampler->statsforecast>=1.0.0->darts) (5.7.1)\n",
            "Requirement already satisfied: pygments in /usr/local/lib/python3.9/dist-packages (from ipython->jupyter-dash>=0.4.2->plotly-resampler->statsforecast>=1.0.0->darts) (2.14.0)\n",
            "Requirement already satisfied: prompt-toolkit!=3.0.0,!=3.0.1,<3.1.0,>=2.0.0 in /usr/local/lib/python3.9/dist-packages (from ipython->jupyter-dash>=0.4.2->plotly-resampler->statsforecast>=1.0.0->darts) (3.0.38)\n",
            "Requirement already satisfied: pickleshare in /usr/local/lib/python3.9/dist-packages (from ipython->jupyter-dash>=0.4.2->plotly-resampler->statsforecast>=1.0.0->darts) (0.7.5)\n",
            "Requirement already satisfied: backcall in /usr/local/lib/python3.9/dist-packages (from ipython->jupyter-dash>=0.4.2->plotly-resampler->statsforecast>=1.0.0->darts) (0.2.0)\n",
            "Requirement already satisfied: matplotlib-inline in /usr/local/lib/python3.9/dist-packages (from ipython->jupyter-dash>=0.4.2->plotly-resampler->statsforecast>=1.0.0->darts) (0.1.6)\n",
            "Requirement already satisfied: jedi>=0.16 in /usr/local/lib/python3.9/dist-packages (from ipython->jupyter-dash>=0.4.2->plotly-resampler->statsforecast>=1.0.0->darts) (0.18.2)\n",
            "Requirement already satisfied: pexpect>4.3 in /usr/local/lib/python3.9/dist-packages (from ipython->jupyter-dash>=0.4.2->plotly-resampler->statsforecast>=1.0.0->darts) (4.8.0)\n",
            "Requirement already satisfied: decorator in /usr/local/lib/python3.9/dist-packages (from ipython->jupyter-dash>=0.4.2->plotly-resampler->statsforecast>=1.0.0->darts) (4.4.2)\n",
            "Requirement already satisfied: parso<0.9.0,>=0.8.0 in /usr/local/lib/python3.9/dist-packages (from jedi>=0.16->ipython->jupyter-dash>=0.4.2->plotly-resampler->statsforecast>=1.0.0->darts) (0.8.3)\n",
            "Requirement already satisfied: ptyprocess>=0.5 in /usr/local/lib/python3.9/dist-packages (from pexpect>4.3->ipython->jupyter-dash>=0.4.2->plotly-resampler->statsforecast>=1.0.0->darts) (0.7.0)\n",
            "Requirement already satisfied: wcwidth in /usr/local/lib/python3.9/dist-packages (from prompt-toolkit!=3.0.0,!=3.0.1,<3.1.0,>=2.0.0->ipython->jupyter-dash>=0.4.2->plotly-resampler->statsforecast>=1.0.0->darts) (0.2.6)\n",
            "Requirement already satisfied: jupyter-core>=4.6.0 in /usr/local/lib/python3.9/dist-packages (from jupyter-client->ipykernel->jupyter-dash>=0.4.2->plotly-resampler->statsforecast>=1.0.0->darts) (5.3.0)\n",
            "Requirement already satisfied: pyzmq>=13 in /usr/local/lib/python3.9/dist-packages (from jupyter-client->ipykernel->jupyter-dash>=0.4.2->plotly-resampler->statsforecast>=1.0.0->darts) (23.2.1)\n",
            "Requirement already satisfied: platformdirs>=2.5 in /usr/local/lib/python3.9/dist-packages (from jupyter-core>=4.6.0->jupyter-client->ipykernel->jupyter-dash>=0.4.2->plotly-resampler->statsforecast>=1.0.0->darts) (3.2.0)\n"
          ]
        }
      ],
      "source": [
        "!pip install darts"
      ]
    },
    {
      "cell_type": "code",
      "execution_count": null,
      "metadata": {
        "colab": {
          "background_save": true
        },
        "id": "wfyz6pjjOxcj"
      },
      "outputs": [],
      "source": [
        "from darts.models import NBEATSModel\n",
        "from darts.dataprocessing.transformers import Scaler\n",
        "from darts import TimeSeries\n",
        "from darts.metrics import mape\n",
        "from pytorch_lightning.callbacks.early_stopping import EarlyStopping"
      ]
    },
    {
      "cell_type": "code",
      "execution_count": null,
      "metadata": {
        "colab": {
          "background_save": true
        },
        "id": "Wc1sWsoFdJEU"
      },
      "outputs": [],
      "source": [
        "train_for = 500\n",
        "predict_for = 14"
      ]
    },
    {
      "cell_type": "code",
      "execution_count": null,
      "metadata": {
        "id": "PETgKHGi6DuT"
      },
      "outputs": [],
      "source": [
        "from google.colab import drive\n",
        "drive.mount('/content/drive')"
      ]
    },
    {
      "cell_type": "code",
      "execution_count": null,
      "metadata": {
        "id": "zuRWpAfIPHKs"
      },
      "outputs": [],
      "source": [
        "import pandas as pd"
      ]
    },
    {
      "cell_type": "code",
      "execution_count": null,
      "metadata": {
        "id": "zSJ8oji8Fw1E"
      },
      "outputs": [],
      "source": [
        "def smoothen(df, period):\n",
        "    df_ma = df.copy()\n",
        "    for i in range(period, len(df)):\n",
        "        ma = 0\n",
        "        for j in range(i - period + 1, i + 1):\n",
        "            ma += df[j]\n",
        "        df_ma[i] = ma / period\n",
        "    return df_ma"
      ]
    },
    {
      "cell_type": "code",
      "execution_count": null,
      "metadata": {
        "colab": {
          "background_save": true
        },
        "id": "lXrnWck5POPL",
        "outputId": "dfc573fc-4d75-407e-90ae-ae7907f0cab6"
      },
      "outputs": [
        {
          "name": "stdout",
          "output_type": "stream",
          "text": [
            "Index(['Unnamed: 0', 'state_residence', 'district_residence', 'Date', '<15',\n",
            "       '15-24', '25-34', '35-44', '45-59', '60-80', '>80', '<15_pos',\n",
            "       '15-24_pos', '25-34_pos', '35-44_pos', '45-59_pos', '60-80_pos',\n",
            "       '>80_pos', 'M_pos', '2', 'F_pos', 'T', 'F', 'M', 'NIA', 'T_pos',\n",
            "       'NIA_pos', 'O', 'O_pos', 'N', 'G', ',', 'D', 'new_case',\n",
            "       'negative_case', 'Failed_test', 'Total_test',\n",
            "       'negative_egene_screening', 'positive_egene_screening',\n",
            "       'Failed_test_egene_screening', '<20_ct_value_screening',\n",
            "       '20-30_ct_value_screening', '31-35_ct_value_screening',\n",
            "       '>35_ct_value_screening', '<20_posct_value_screening',\n",
            "       '20-30_posct_value_screening', '31-35_posct_value_screening',\n",
            "       '>35_posct_value_screening', 'negative_rdrp_confirmatory',\n",
            "       'positive_rdrp_confirmatory', 'Failed_test_rdrp_confirmatory',\n",
            "       '<20_ct_value_rdrp', '20-30_ct_value_rdrp', '31-35_ct_value_rdrp',\n",
            "       '>35_ct_value_rdrp', '<20_posct_value_rdrp', '20-30_posct_value_rdrp',\n",
            "       '31-35_posct_value_rdrp', '>35_posct_value_rdrp',\n",
            "       'negative_orf1b_confirmatory', 'positive_orf1b_confirmatory',\n",
            "       'Failed_test_orf1b_confirmatory', '<20_ct_value_orf1b',\n",
            "       '20-30_ct_value_orf1b', '31-35_ct_value_orf1b', '>35_ct_value_orf1b',\n",
            "       '<20_posct_value_orf1b', '20-30_posct_value_orf1b',\n",
            "       '31-35_posct_value_orf1b', '>35_posct_value_orf1b', '3', 'D_pos', 'K',\n",
            "       'R', 'P', 'H', '5', '7', '8', 'S', '\\', 'V', '1', '4', '6', '9', '.',\n",
            "       'B', '-', '`', 'Q'],\n",
            "      dtype='object')\n",
            "['kerala' 'uttar pradesh' 'andhra pradesh' 'bihar' 'jammu and kashmir'\n",
            " 'telangana' 'maharashtra' 'delhi' 'karnataka' 'jharkhand' 'punjab'\n",
            " 'tamil nadu' 'haryana' 'rajasthan' 'madhya pradesh' 'west bengal' 'goa'\n",
            " 'gujarat' 'india' 'chhattisgarh' 'odisha' 'uttarakhand' 'assam' 'manipur'\n",
            " 'chandigarh' 'puducherry' 'ladakh' 'mizoram' 'himachal pradesh'\n",
            " 'daman and diu' 'andaman and nicobar islands' 'tripura' 'meghalaya'\n",
            " 'sikkim' 'arunachal pradesh' 'dadra and nagar haveli' 'nagaland'\n",
            " 'lakshadweep']\n"
          ]
        }
      ],
      "source": [
        "df = pd.read_csv('/content/drive/MyDrive/covid-final-all.csv')\n",
        "df['state_residence'] = df.apply(lambda row: row['state_residence'].lower(), axis=1)\n",
        "print(df.columns)\n",
        "print(df.state_residence.unique())\n",
        "df=df.groupby(['Date']).agg({'F_pos': 'sum', 'M_pos': 'sum', 'T_pos':'sum', 'NIA_pos':'sum', 'new_case': 'sum'}).reset_index()\n",
        "df.head()\n",
        "\n",
        "date = df.iloc[train_for + 1]['Date']\n",
        "\n",
        "df = df['new_case'].values"
      ]
    },
    {
      "cell_type": "code",
      "execution_count": null,
      "metadata": {
        "colab": {
          "background_save": true
        },
        "id": "o-KmITSaTG-K"
      },
      "outputs": [],
      "source": [
        "# df = smoothen(df, 5)"
      ]
    },
    {
      "cell_type": "code",
      "execution_count": null,
      "metadata": {
        "colab": {
          "background_save": true
        },
        "id": "jrIs8eYvPQAQ"
      },
      "outputs": [],
      "source": [
        "series = TimeSeries.from_values(df)"
      ]
    },
    {
      "cell_type": "code",
      "execution_count": null,
      "metadata": {
        "colab": {
          "background_save": true
        },
        "id": "ofrqeBv5Pi6Y"
      },
      "outputs": [],
      "source": [
        "window_size= 1\n",
        "train, test = series[:train_for], series[train_for:train_for+predict_for]"
      ]
    },
    {
      "cell_type": "code",
      "execution_count": null,
      "metadata": {
        "colab": {
          "background_save": true
        },
        "id": "WNMfNY6NQB6M"
      },
      "outputs": [],
      "source": [
        "my_stopper = EarlyStopping(\n",
        "        monitor=\"train_loss\",\n",
        "        patience=7,\n",
        "        min_delta=0.000000001,\n",
        "        mode='min',\n",
        "    )\n",
        "\n",
        "pl_trainer_kwargs={\"callbacks\": [my_stopper]}\n",
        "\n",
        "nbeats = NBEATSModel(\n",
        "  input_chunk_length=window_size, \n",
        "  output_chunk_length=1,\n",
        "  generic_architecture=True,\n",
        "  pl_trainer_kwargs=pl_trainer_kwargs\n",
        ")"
      ]
    },
    {
      "cell_type": "code",
      "execution_count": null,
      "metadata": {
        "colab": {
          "background_save": true
        },
        "id": "nHdh64cFUbxJ"
      },
      "outputs": [],
      "source": [
        "train_scaler = Scaler()\n",
        "scaled_train = train_scaler.fit_transform(train)"
      ]
    },
    {
      "cell_type": "code",
      "execution_count": null,
      "metadata": {
        "id": "blNzP2XSUo9r"
      },
      "outputs": [],
      "source": [
        "nbeats.fit(\n",
        "    scaled_train,\n",
        "    epochs=100\n",
        ")"
      ]
    },
    {
      "cell_type": "code",
      "execution_count": null,
      "metadata": {
        "id": "_Z_83ME8UruE"
      },
      "outputs": [],
      "source": [
        "scaled_pred_nbeats = nbeats.predict(n=predict_for)\n",
        "\n",
        "pred_nbeats = train_scaler.inverse_transform(scaled_pred_nbeats)"
      ]
    },
    {
      "cell_type": "code",
      "execution_count": null,
      "metadata": {
        "id": "mm7AbEUuU0AH"
      },
      "outputs": [],
      "source": [
        "from darts.metrics import mape\n",
        "\n",
        "mape_nbeats = mape(test, pred_nbeats)\n",
        "\n",
        "print(mape_nbeats)"
      ]
    },
    {
      "cell_type": "code",
      "execution_count": null,
      "metadata": {
        "id": "uPu0vaY8rfEz"
      },
      "outputs": [],
      "source": [
        "predictions = pred_nbeats.pd_dataframe().values\n",
        "actual = test.pd_dataframe().values"
      ]
    },
    {
      "cell_type": "code",
      "execution_count": null,
      "metadata": {
        "id": "QJsSrFbvdfD0"
      },
      "outputs": [],
      "source": [
        "import matplotlib.pyplot as plt\n",
        "\n",
        "def append(a, b):\n",
        "  c = []\n",
        "  for ai in a:\n",
        "    c.append(ai)\n",
        "  for bi in b:\n",
        "    c.append(bi)\n",
        "  return c"
      ]
    },
    {
      "cell_type": "code",
      "execution_count": null,
      "metadata": {
        "id": "KuYx1gCNdhrx"
      },
      "outputs": [],
      "source": [
        "window = 100\n",
        "plt.figure()\n",
        "plt.title(\"Predictions vs Actual results(N-hits)\")\n",
        "plt.plot(append(df[train_for - window:train_for], predictions), label=\"Predictions\")\n",
        "plt.plot(append(df[train_for - window:train_for], actual), label=\"Actual\")\n",
        "plt.xlabel(\"Time axis (Predictions for 14 days from \" + date)\n",
        "plt.ylabel(\"Number of covid cases\")\n",
        "plt.axvline(window, color = 'red', label = \"predictions on right of this line\")\n",
        "plt.legend()\n",
        "plt.show()"
      ]
    },
    {
      "cell_type": "code",
      "execution_count": null,
      "metadata": {
        "id": "KVrutd5mezfM"
      },
      "outputs": [],
      "source": [
        "nbeats.save(\"model_\" + date + \".pt\")"
      ]
    },
    {
      "cell_type": "code",
      "execution_count": null,
      "metadata": {
        "id": "vYI2DEroe_jM"
      },
      "outputs": [],
      "source": [
        "print(actual.reshape(-1))"
      ]
    },
    {
      "cell_type": "code",
      "execution_count": null,
      "metadata": {
        "id": "tBzIeV1yfilF"
      },
      "outputs": [],
      "source": [
        "print(predictions.reshape(-1))"
      ]
    },
    {
      "cell_type": "code",
      "execution_count": null,
      "metadata": {
        "id": "LbWD9A0Wfml6"
      },
      "outputs": [],
      "source": []
    }
  ],
  "metadata": {
    "colab": {
      "provenance": []
    },
    "kernelspec": {
      "display_name": "Python 3",
      "name": "python3"
    },
    "language_info": {
      "name": "python"
    }
  },
  "nbformat": 4,
  "nbformat_minor": 0
}