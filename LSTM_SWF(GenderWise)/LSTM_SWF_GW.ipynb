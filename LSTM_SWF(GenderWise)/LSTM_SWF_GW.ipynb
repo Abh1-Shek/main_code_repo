{
  "cells": [
    {
      "cell_type": "code",
      "execution_count": null,
      "metadata": {
        "id": "BqLVFOAO9_fk"
      },
      "outputs": [],
      "source": [
        "from tensorflow.keras.models import Sequential\n",
        "from tensorflow.keras.layers import Dense, Dropout, LSTM\n",
        "from sklearn.preprocessing import MinMaxScaler\n",
        "import numpy as np\n",
        "import matplotlib.pyplot as plt\n",
        "import pandas as pd\n",
        "from sklearn.model_selection import train_test_split\n",
        "import tensorflow as tf\n",
        "from tensorflow import keras\n",
        "from sklearn.metrics import mean_squared_error"
      ]
    },
    {
      "cell_type": "code",
      "source": [
        "train_for = 500\n",
        "predict_for = 14"
      ],
      "metadata": {
        "id": "i_4-hMZxP9B9"
      },
      "execution_count": null,
      "outputs": []
    },
    {
      "cell_type": "code",
      "execution_count": null,
      "metadata": {
        "id": "9G1oY6eG-Zre"
      },
      "outputs": [],
      "source": [
        "def smoothen_freq(df):\n",
        "  x = df\n",
        "  nan_indices = np.isnan(x)\n",
        "\n",
        "  # # Remove the NaN values from the array\n",
        "  x = x[np.logical_not(nan_indices)]\n",
        "\n",
        "  # Generate a noisy signal\n",
        "  signal = x\n",
        "\n",
        "  # Apply Fourier transform to the signal\n",
        "  f_signal = np.fft.fft(signal)\n",
        "\n",
        "  # Calculate the power spectrum\n",
        "  power = np.abs(f_signal)**2\n",
        "\n",
        "  # Set a threshold to remove the noise\n",
        "  threshold = 0.005 * max(power)\n",
        "  f_signal[power < threshold] = 0\n",
        "\n",
        "  # Apply inverse Fourier transform to the filtered signal\n",
        "  filtered_signal = np.fft.ifft(f_signal)\n",
        "\n",
        "  return filtered_signal\n"
      ]
    },
    {
      "cell_type": "code",
      "execution_count": null,
      "metadata": {
        "id": "uSgjW9_C-cIG"
      },
      "outputs": [],
      "source": [
        "look_back = 50\n",
        "\n",
        "def prepare_data(df):\n",
        "    X = []\n",
        "    y = []\n",
        "    for i in range(look_back, len(df)):\n",
        "        y.append(df[i])\n",
        "        X.append(df[i - look_back:i])\n",
        "    return np.array(X), np.array(y)"
      ]
    },
    {
      "cell_type": "code",
      "execution_count": null,
      "metadata": {
        "id": "t6__FJ9z-dba"
      },
      "outputs": [],
      "source": [
        "def scale(df, scaler):\n",
        "  simple_array = np.array(df).reshape(-1, 1)\n",
        "  ssimple_array = scaler.fit_transform(simple_array)\n",
        "  return np.array(ssimple_array).reshape((-1, ))\n",
        "\n",
        "def descaled(df, scaler):\n",
        "  simple_array = np.array(df).reshape(-1, 1)\n",
        "  ssimple_array = scaler.inverse_transform(simple_array)\n",
        "  return np.array(ssimple_array).reshape((-1, ))"
      ]
    },
    {
      "cell_type": "code",
      "execution_count": null,
      "metadata": {
        "id": "VC4B4SQz-eq0"
      },
      "outputs": [],
      "source": [
        "class Model:\n",
        "  def __init__(self, df):\n",
        "    self.model=None\n",
        "    self.scaler = MinMaxScaler()\n",
        "    # self.df = smoothen_freq(df)\n",
        "    self.df = scale(df, self.scaler)\n",
        "    self.dfw, self.dfy = prepare_data(self.df)\n",
        "\n",
        "    model_strong = tf.keras.Sequential([\n",
        "        LSTM(units = 32, return_sequences=True, input_shape = (self.dfw.shape[1], 1)),\n",
        "        LSTM(units = 32, return_sequences=True),\n",
        "        LSTM(units = 32),\n",
        "        Dense(units = 32)\n",
        "    ])\n",
        "    \n",
        "    model_weak=tf.keras.Sequential([\n",
        "        LSTM(units = 32, return_sequences=True, input_shape = (self.dfw.shape[1], 1)),\n",
        "        Dropout(0.2),\n",
        "        LSTM(units = 32, return_sequences=True),\n",
        "        Dropout(0.2),\n",
        "        LSTM(units = 32),\n",
        "        Dropout(0.2),\n",
        "        Dense(units = 32)\n",
        "    ])\n",
        "\n",
        "    concatenated=tf.keras.layers.Concatenate()([model_strong.output, model_weak.output])\n",
        "    l1=tf.keras.layers.Dense(64)(concatenated)\n",
        "    l2=tf.keras.layers.Dense(32)(l1)\n",
        "    l3=tf.keras.layers.Dense(16)(l2)\n",
        "    l4=tf.keras.layers.Dense(1)(l3)\n",
        "\n",
        "\n",
        "    \n",
        "\n",
        "    self.model=tf.keras.Model(inputs=[model_strong.input, model_weak.input], outputs=l4)\n",
        "    self.model.compile(optimizer = 'adam', loss = \"mean_squared_error\")\n",
        "\n",
        "    \n",
        "\n",
        "  def fit(self):\n",
        "    y_train = self.dfy \n",
        "    callback = tf.keras.callbacks.EarlyStopping(monitor='loss', patience=5)\n",
        "\n",
        "    self.model.fit([self.dfw, self.dfw], y_train, epochs = 100, callbacks=[callback])\n",
        "  \n",
        "  def predict(self, predict_for):\n",
        "    df_full = self.dfw[-1]\n",
        "\n",
        "    X_p = [df_full]\n",
        "    y_p = []\n",
        "\n",
        "    for i in range(predict_for):\n",
        "        yi = self.model.predict([np.array(X_p), np.array(X_p)])\n",
        "        y_p.append(yi[0][0])\n",
        "        \n",
        "        X_p = [np.append(X_p[0][1:], yi)]\n",
        "\n",
        "    return descaled(y_p, self.scaler)"
      ]
    },
    {
      "cell_type": "code",
      "execution_count": null,
      "metadata": {
        "colab": {
          "base_uri": "https://localhost:8080/"
        },
        "id": "Zwgb9smh-f9D",
        "outputId": "9b6caa06-877d-4807-a6dc-424c2d73108a"
      },
      "outputs": [
        {
          "output_type": "stream",
          "name": "stdout",
          "text": [
            "Drive already mounted at /content/drive; to attempt to forcibly remount, call drive.mount(\"/content/drive\", force_remount=True).\n"
          ]
        }
      ],
      "source": [
        "from google.colab import drive\n",
        "drive.mount('/content/drive')"
      ]
    },
    {
      "cell_type": "code",
      "execution_count": null,
      "metadata": {
        "id": "cyFuXSBM-hKn"
      },
      "outputs": [],
      "source": [
        "def smoothen(df, period):\n",
        "    df_ma = df.copy()\n",
        "    for i in range(period, len(df)):\n",
        "        ma = 0\n",
        "        for j in range(i - period + 1, i + 1):\n",
        "            ma += df[j]\n",
        "        df_ma[i] = ma / period\n",
        "    return df_ma"
      ]
    },
    {
      "cell_type": "code",
      "execution_count": null,
      "metadata": {
        "colab": {
          "base_uri": "https://localhost:8080/"
        },
        "id": "Sb8njo6k-oW5",
        "outputId": "97a9ee5c-c9d1-4198-b3fa-2f5763e63b32"
      },
      "outputs": [
        {
          "output_type": "stream",
          "name": "stdout",
          "text": [
            "Index(['Unnamed: 0', 'state_residence', 'district_residence', 'Date', '<15',\n",
            "       '15-24', '25-34', '35-44', '45-59', '60-80', '>80', '<15_pos',\n",
            "       '15-24_pos', '25-34_pos', '35-44_pos', '45-59_pos', '60-80_pos',\n",
            "       '>80_pos', 'M_pos', '2', 'F_pos', 'T', 'F', 'M', 'NIA', 'T_pos',\n",
            "       'NIA_pos', 'O', 'O_pos', 'N', 'G', ',', 'D', 'new_case',\n",
            "       'negative_case', 'Failed_test', 'Total_test',\n",
            "       'negative_egene_screening', 'positive_egene_screening',\n",
            "       'Failed_test_egene_screening', '<20_ct_value_screening',\n",
            "       '20-30_ct_value_screening', '31-35_ct_value_screening',\n",
            "       '>35_ct_value_screening', '<20_posct_value_screening',\n",
            "       '20-30_posct_value_screening', '31-35_posct_value_screening',\n",
            "       '>35_posct_value_screening', 'negative_rdrp_confirmatory',\n",
            "       'positive_rdrp_confirmatory', 'Failed_test_rdrp_confirmatory',\n",
            "       '<20_ct_value_rdrp', '20-30_ct_value_rdrp', '31-35_ct_value_rdrp',\n",
            "       '>35_ct_value_rdrp', '<20_posct_value_rdrp', '20-30_posct_value_rdrp',\n",
            "       '31-35_posct_value_rdrp', '>35_posct_value_rdrp',\n",
            "       'negative_orf1b_confirmatory', 'positive_orf1b_confirmatory',\n",
            "       'Failed_test_orf1b_confirmatory', '<20_ct_value_orf1b',\n",
            "       '20-30_ct_value_orf1b', '31-35_ct_value_orf1b', '>35_ct_value_orf1b',\n",
            "       '<20_posct_value_orf1b', '20-30_posct_value_orf1b',\n",
            "       '31-35_posct_value_orf1b', '>35_posct_value_orf1b', '3', 'D_pos', 'K',\n",
            "       'R', 'P', 'H', '5', '7', '8', 'S', '\\', 'V', '1', '4', '6', '9', '.',\n",
            "       'B', '-', '`', 'Q'],\n",
            "      dtype='object')\n",
            "['kerala' 'uttar pradesh' 'andhra pradesh' 'bihar' 'jammu and kashmir'\n",
            " 'telangana' 'maharashtra' 'delhi' 'karnataka' 'jharkhand' 'punjab'\n",
            " 'tamil nadu' 'haryana' 'rajasthan' 'madhya pradesh' 'west bengal' 'goa'\n",
            " 'gujarat' 'india' 'chhattisgarh' 'odisha' 'uttarakhand' 'assam' 'manipur'\n",
            " 'chandigarh' 'puducherry' 'ladakh' 'mizoram' 'himachal pradesh'\n",
            " 'daman and diu' 'andaman and nicobar islands' 'tripura' 'meghalaya'\n",
            " 'sikkim' 'arunachal pradesh' 'dadra and nagar haveli' 'nagaland'\n",
            " 'lakshadweep']\n"
          ]
        }
      ],
      "source": [
        "df = pd.read_csv('/content/drive/MyDrive/covid-final-all.csv')\n",
        "df['state_residence'] = df.apply(lambda row: row['state_residence'].lower(), axis=1)\n",
        "print(df.columns)\n",
        "print(df.state_residence.unique())\n",
        "\n",
        "df=df.groupby(['Date']).agg({'F_pos': 'sum', 'M_pos': 'sum', 'T_pos':'sum', 'NIA_pos':'sum', 'new_case': 'sum'}).reset_index()\n",
        "\n",
        "date = df.iloc[train_for + 1]['Date']\n",
        "\n",
        "df_f = df['F_pos'].values\n",
        "df_m = df['M_pos'].values\n",
        "df_t = df['T_pos'].values\n",
        "df_nia = df['NIA_pos'].values\n",
        "\n",
        "df_total = df_f + df_m + df_t + df_nia\n",
        "\n",
        "# df_total = df['new_case']\n",
        "\n",
        "# n = 70  # the larger n is, the smoother curve will be\n",
        "# b = [1.0 / n] * n\n",
        "# a = 1\n",
        "# df_total = lfilter(b, a, df_total)\n",
        "# df_total = smoothen(df_total, 10)"
      ]
    },
    {
      "cell_type": "code",
      "execution_count": null,
      "metadata": {
        "colab": {
          "base_uri": "https://localhost:8080/"
        },
        "id": "4cfoUYh5-17j",
        "outputId": "12b595b9-8e01-4c6d-d8fe-57f04a9d8f0b"
      },
      "outputs": [
        {
          "output_type": "stream",
          "name": "stdout",
          "text": [
            "Epoch 1/100\n",
            "15/15 [==============================] - 16s 119ms/step - loss: 0.0183\n",
            "Epoch 2/100\n",
            "15/15 [==============================] - 2s 115ms/step - loss: 0.0076\n",
            "Epoch 3/100\n",
            "15/15 [==============================] - 2s 116ms/step - loss: 0.0155\n",
            "Epoch 4/100\n",
            "15/15 [==============================] - 2s 162ms/step - loss: 0.0087\n",
            "Epoch 5/100\n",
            "15/15 [==============================] - 3s 220ms/step - loss: 0.0058\n",
            "Epoch 6/100\n",
            "15/15 [==============================] - 2s 121ms/step - loss: 0.0053\n",
            "Epoch 7/100\n",
            "15/15 [==============================] - 2s 122ms/step - loss: 0.0056\n",
            "Epoch 8/100\n",
            "15/15 [==============================] - 2s 120ms/step - loss: 0.0042\n",
            "Epoch 9/100\n",
            "15/15 [==============================] - 2s 122ms/step - loss: 0.0035\n",
            "Epoch 10/100\n",
            "15/15 [==============================] - 2s 121ms/step - loss: 0.0032\n",
            "Epoch 11/100\n",
            "15/15 [==============================] - 3s 185ms/step - loss: 0.0033\n",
            "Epoch 12/100\n",
            "15/15 [==============================] - 3s 210ms/step - loss: 0.0029\n",
            "Epoch 13/100\n",
            "15/15 [==============================] - 2s 119ms/step - loss: 0.0027\n",
            "Epoch 14/100\n",
            "15/15 [==============================] - 2s 119ms/step - loss: 0.0031\n",
            "Epoch 15/100\n",
            "15/15 [==============================] - 2s 124ms/step - loss: 0.0050\n",
            "Epoch 16/100\n",
            "15/15 [==============================] - 2s 120ms/step - loss: 0.0045\n",
            "Epoch 17/100\n",
            "15/15 [==============================] - 2s 122ms/step - loss: 0.0042\n",
            "Epoch 18/100\n",
            "15/15 [==============================] - 3s 180ms/step - loss: 0.0029\n",
            "Epoch 1/100\n",
            "15/15 [==============================] - 21s 150ms/step - loss: 0.0237\n",
            "Epoch 2/100\n",
            "15/15 [==============================] - 2s 149ms/step - loss: 0.0127\n",
            "Epoch 3/100\n",
            "15/15 [==============================] - 4s 267ms/step - loss: 0.0073\n",
            "Epoch 4/100\n",
            "15/15 [==============================] - 3s 160ms/step - loss: 0.0077\n",
            "Epoch 5/100\n",
            "15/15 [==============================] - 2s 149ms/step - loss: 0.0051\n",
            "Epoch 6/100\n",
            "15/15 [==============================] - 2s 149ms/step - loss: 0.0047\n",
            "Epoch 7/100\n",
            "15/15 [==============================] - 2s 148ms/step - loss: 0.0034\n",
            "Epoch 8/100\n",
            "15/15 [==============================] - 3s 203ms/step - loss: 0.0036\n",
            "Epoch 9/100\n",
            "15/15 [==============================] - 4s 231ms/step - loss: 0.0033\n",
            "Epoch 10/100\n",
            "15/15 [==============================] - 2s 153ms/step - loss: 0.0087\n",
            "Epoch 11/100\n",
            "15/15 [==============================] - 2s 149ms/step - loss: 0.0044\n",
            "Epoch 12/100\n",
            "15/15 [==============================] - 2s 148ms/step - loss: 0.0047\n",
            "Epoch 13/100\n",
            "15/15 [==============================] - 2s 152ms/step - loss: 0.0043\n",
            "Epoch 14/100\n",
            "15/15 [==============================] - 4s 255ms/step - loss: 0.0036\n",
            "Epoch 1/100\n",
            "15/15 [==============================] - 18s 145ms/step - loss: 0.0137\n",
            "Epoch 2/100\n",
            "15/15 [==============================] - 2s 146ms/step - loss: 0.0066\n",
            "Epoch 3/100\n",
            "15/15 [==============================] - 2s 142ms/step - loss: 0.0048\n",
            "Epoch 4/100\n",
            "15/15 [==============================] - 2s 144ms/step - loss: 0.0043\n",
            "Epoch 5/100\n",
            "15/15 [==============================] - 3s 221ms/step - loss: 0.0034\n",
            "Epoch 6/100\n",
            "15/15 [==============================] - 3s 201ms/step - loss: 0.0038\n",
            "Epoch 7/100\n",
            "15/15 [==============================] - 2s 143ms/step - loss: 0.0042\n",
            "Epoch 8/100\n",
            "15/15 [==============================] - 2s 143ms/step - loss: 0.0033\n",
            "Epoch 9/100\n",
            "15/15 [==============================] - 2s 144ms/step - loss: 0.0042\n",
            "Epoch 10/100\n",
            "15/15 [==============================] - 2s 141ms/step - loss: 0.0036\n",
            "Epoch 11/100\n",
            "15/15 [==============================] - 4s 242ms/step - loss: 0.0046\n",
            "Epoch 12/100\n",
            "15/15 [==============================] - 3s 181ms/step - loss: 0.0034\n",
            "Epoch 13/100\n",
            "15/15 [==============================] - 2s 145ms/step - loss: 0.0045\n",
            "Epoch 1/100\n",
            "15/15 [==============================] - 19s 142ms/step - loss: 0.0164\n",
            "Epoch 2/100\n",
            "15/15 [==============================] - 2s 164ms/step - loss: 0.0070\n",
            "Epoch 3/100\n",
            "15/15 [==============================] - 4s 248ms/step - loss: 0.0045\n",
            "Epoch 4/100\n",
            "15/15 [==============================] - 2s 140ms/step - loss: 0.0038\n",
            "Epoch 5/100\n",
            "15/15 [==============================] - 2s 142ms/step - loss: 0.0035\n",
            "Epoch 6/100\n",
            "15/15 [==============================] - 2s 144ms/step - loss: 0.0038\n",
            "Epoch 7/100\n",
            "15/15 [==============================] - 2s 142ms/step - loss: 0.0027\n",
            "Epoch 8/100\n",
            "15/15 [==============================] - 3s 178ms/step - loss: 0.0026\n",
            "Epoch 9/100\n",
            "15/15 [==============================] - 4s 240ms/step - loss: 0.0035\n",
            "Epoch 10/100\n",
            "15/15 [==============================] - 2s 141ms/step - loss: 0.0043\n",
            "Epoch 11/100\n",
            "15/15 [==============================] - 2s 139ms/step - loss: 0.0028\n",
            "Epoch 12/100\n",
            "15/15 [==============================] - 2s 140ms/step - loss: 0.0031\n",
            "Epoch 13/100\n",
            "15/15 [==============================] - 2s 145ms/step - loss: 0.0021\n",
            "Epoch 14/100\n",
            "15/15 [==============================] - 3s 191ms/step - loss: 0.0047\n",
            "Epoch 15/100\n",
            "15/15 [==============================] - 3s 225ms/step - loss: 0.0040\n",
            "Epoch 16/100\n",
            "15/15 [==============================] - 2s 148ms/step - loss: 0.0043\n",
            "Epoch 17/100\n",
            "15/15 [==============================] - 2s 141ms/step - loss: 0.0041\n",
            "Epoch 18/100\n",
            "15/15 [==============================] - 2s 142ms/step - loss: 0.0029\n"
          ]
        }
      ],
      "source": [
        "model_f = Model(df_f[:train_for])\n",
        "model_m = Model(df_m[:train_for])\n",
        "model_t = Model(df_t[:train_for])\n",
        "model_nia = Model(df_nia[:train_for])\n",
        "\n",
        "model_f.fit()\n",
        "model_m.fit()\n",
        "model_t.fit()\n",
        "model_nia.fit()"
      ]
    },
    {
      "cell_type": "code",
      "execution_count": null,
      "metadata": {
        "id": "vGI6tVEi-4Cv"
      },
      "outputs": [],
      "source": [
        "def mape_(p, a):\n",
        "  print(len(p))\n",
        "  print(len(a))\n",
        "  m = 0.0\n",
        "  for i in range(len(p)):\n",
        "    m += abs(p[i] - a[i]) / a[i]\n",
        "  return( m / len(p)) * 100"
      ]
    },
    {
      "cell_type": "code",
      "execution_count": null,
      "metadata": {
        "colab": {
          "base_uri": "https://localhost:8080/"
        },
        "id": "TCI-c9Us-6N7",
        "outputId": "eb01f3a7-9e1f-4595-c347-73c3646867a7"
      },
      "outputs": [
        {
          "output_type": "stream",
          "name": "stdout",
          "text": [
            "1/1 [==============================] - 3s 3s/step\n",
            "1/1 [==============================] - 0s 41ms/step\n",
            "1/1 [==============================] - 0s 39ms/step\n",
            "1/1 [==============================] - 0s 36ms/step\n",
            "1/1 [==============================] - 0s 39ms/step\n",
            "1/1 [==============================] - 0s 42ms/step\n",
            "1/1 [==============================] - 0s 39ms/step\n",
            "1/1 [==============================] - 0s 39ms/step\n",
            "1/1 [==============================] - 0s 37ms/step\n",
            "1/1 [==============================] - 0s 37ms/step\n",
            "1/1 [==============================] - 0s 38ms/step\n",
            "1/1 [==============================] - 0s 40ms/step\n",
            "1/1 [==============================] - 0s 41ms/step\n",
            "1/1 [==============================] - 0s 38ms/step\n",
            "1/1 [==============================] - 4s 4s/step\n",
            "1/1 [==============================] - 0s 64ms/step\n",
            "1/1 [==============================] - 0s 60ms/step\n",
            "1/1 [==============================] - 0s 64ms/step\n",
            "1/1 [==============================] - 0s 61ms/step\n",
            "1/1 [==============================] - 0s 38ms/step\n",
            "1/1 [==============================] - 0s 39ms/step\n",
            "1/1 [==============================] - 0s 41ms/step\n",
            "1/1 [==============================] - 0s 37ms/step\n",
            "1/1 [==============================] - 0s 39ms/step\n",
            "1/1 [==============================] - 0s 37ms/step\n",
            "1/1 [==============================] - 0s 39ms/step\n",
            "1/1 [==============================] - 0s 37ms/step\n",
            "1/1 [==============================] - 0s 37ms/step\n",
            "1/1 [==============================] - 3s 3s/step\n",
            "1/1 [==============================] - 0s 39ms/step\n",
            "1/1 [==============================] - 0s 38ms/step\n",
            "1/1 [==============================] - 0s 37ms/step\n",
            "1/1 [==============================] - 0s 38ms/step\n",
            "1/1 [==============================] - 0s 37ms/step\n",
            "1/1 [==============================] - 0s 39ms/step\n",
            "1/1 [==============================] - 0s 38ms/step\n",
            "1/1 [==============================] - 0s 40ms/step\n",
            "1/1 [==============================] - 0s 37ms/step\n",
            "1/1 [==============================] - 0s 40ms/step\n",
            "1/1 [==============================] - 0s 37ms/step\n",
            "1/1 [==============================] - 0s 39ms/step\n",
            "1/1 [==============================] - 0s 38ms/step\n",
            "1/1 [==============================] - 2s 2s/step\n",
            "1/1 [==============================] - 0s 39ms/step\n",
            "1/1 [==============================] - 0s 38ms/step\n",
            "1/1 [==============================] - 0s 42ms/step\n",
            "1/1 [==============================] - 0s 38ms/step\n",
            "1/1 [==============================] - 0s 40ms/step\n",
            "1/1 [==============================] - 0s 37ms/step\n",
            "1/1 [==============================] - 0s 37ms/step\n",
            "1/1 [==============================] - 0s 50ms/step\n",
            "1/1 [==============================] - 0s 43ms/step\n",
            "1/1 [==============================] - 0s 38ms/step\n",
            "1/1 [==============================] - 0s 38ms/step\n",
            "1/1 [==============================] - 0s 39ms/step\n",
            "1/1 [==============================] - 0s 38ms/step\n",
            "14\n",
            "14\n",
            "MAPE: 19.56017623264679\n"
          ]
        }
      ],
      "source": [
        "predictions = model_f.predict(predict_for) + model_m.predict(predict_for) + model_t.predict(predict_for) + model_nia.predict(predict_for)\n",
        "\n",
        "actual = df_total[train_for:train_for+predict_for]\n",
        "\n",
        "MAPE = mape_(predictions, actual)\n",
        "print(\"MAPE:\", MAPE)"
      ]
    },
    {
      "cell_type": "code",
      "source": [
        "import matplotlib.pyplot as plt\n",
        "def append(a, b):\n",
        "  c = []\n",
        "  for ai in a:\n",
        "    c.append(ai)\n",
        "  for bi in b:\n",
        "    c.append(bi)\n",
        "  return c"
      ],
      "metadata": {
        "id": "zZuTpU1kQIxm"
      },
      "execution_count": null,
      "outputs": []
    },
    {
      "cell_type": "code",
      "source": [
        "window = 100\n",
        "plt.figure()\n",
        "plt.title(\"Predictions vs Actual results\")\n",
        "plt.plot(append(df_total[train_for - window:train_for], predictions), label=\"Predictions\")\n",
        "plt.plot(append(df_total[train_for - window:train_for], actual), label=\"Actual\")\n",
        "plt.xlabel(\"Time axis (Predictions for 14 days from \" + date)\n",
        "plt.ylabel(\"Number of covid cases\")\n",
        "plt.axvline(window, color = 'red', label = \"predictions on right of this line\")\n",
        "plt.legend()\n",
        "plt.show()"
      ],
      "metadata": {
        "colab": {
          "base_uri": "https://localhost:8080/",
          "height": 472
        },
        "id": "aoDeB_7AQK-g",
        "outputId": "04a54550-4379-44b6-a07b-d24f4415d9a1"
      },
      "execution_count": null,
      "outputs": [
        {
          "output_type": "display_data",
          "data": {
            "text/plain": [
              "<Figure size 640x480 with 1 Axes>"
            ],
            "image/png": "[encoded data removed]"
          },
          "metadata": {}
        }
      ]
    },
    {
      "cell_type": "code",
      "source": [
        "print(predictions)"
      ],
      "metadata": {
        "colab": {
          "base_uri": "https://localhost:8080/"
        },
        "id": "MxI1wbd8QMhO",
        "outputId": "f0357537-fa99-44b4-f93d-86e324173a3f"
      },
      "execution_count": null,
      "outputs": [
        {
          "output_type": "stream",
          "name": "stdout",
          "text": [
            "[269745.7  251135.55 233075.69 216104.83 200308.44 185550.28 171622.19\n",
            " 158302.25 145428.4  132848.95 120498.89 108327.62  96308.9   84431.62]\n"
          ]
        }
      ]
    },
    {
      "cell_type": "code",
      "source": [
        "print(actual)"
      ],
      "metadata": {
        "colab": {
          "base_uri": "https://localhost:8080/"
        },
        "id": "OOO-0jXrUdgY",
        "outputId": "2f603854-cf9b-471d-d153-2dd86dceb7f6"
      },
      "execution_count": null,
      "outputs": [
        {
          "output_type": "stream",
          "name": "stdout",
          "text": [
            "[268203. 244480. 235431. 228071. 213692. 118887. 221694. 188326. 151772.\n",
            " 156407. 150949. 124081.  47962.  94359.]\n"
          ]
        }
      ]
    },
    {
      "cell_type": "code",
      "source": [
        "model_f.model.save(\"model_f\" + date + \".h5\")\n",
        "model_m.model.save(\"model_m\" + date + \".h5\")\n",
        "model_t.model.save(\"model_t\" + date + \".h5\")\n",
        "model_nia.model.save(\"model_nia\" + date + \".h5\")"
      ],
      "metadata": {
        "id": "6TewDh9wUeYy"
      },
      "execution_count": null,
      "outputs": []
    },
    {
      "cell_type": "code",
      "source": [],
      "metadata": {
        "id": "A-_1tMSmVCN4"
      },
      "execution_count": null,
      "outputs": []
    }
  ],
  "metadata": {
    "colab": {
      "provenance": []
    },
    "kernelspec": {
      "display_name": "Python 3",
      "name": "python3"
    },
    "language_info": {
      "name": "python"
    }
  },
  "nbformat": 4,
  "nbformat_minor": 0
}