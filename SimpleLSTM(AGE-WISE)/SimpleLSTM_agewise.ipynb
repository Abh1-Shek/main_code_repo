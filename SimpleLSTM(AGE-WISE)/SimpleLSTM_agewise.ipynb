{
  "nbformat": 4,
  "nbformat_minor": 0,
  "metadata": {
    "colab": {
      "provenance": []
    },
    "kernelspec": {
      "name": "python3",
      "display_name": "Python 3"
    },
    "language_info": {
      "name": "python"
    }
  },
  "cells": [
    {
      "cell_type": "code",
      "execution_count": null,
      "metadata": {
        "id": "ioa39nBAWnJu"
      },
      "outputs": [],
      "source": [
        "from tensorflow.keras.models import Sequential\n",
        "from tensorflow.keras.layers import Dense, Dropout, LSTM\n",
        "from sklearn.preprocessing import MinMaxScaler\n",
        "import numpy as np\n",
        "import matplotlib.pyplot as plt\n",
        "import pandas as pd\n",
        "from sklearn.model_selection import train_test_split\n",
        "import tensorflow as tf\n",
        "from tensorflow import keras\n",
        "from sklearn.metrics import mean_squared_error"
      ]
    },
    {
      "cell_type": "code",
      "source": [
        "train_for = 735\n",
        "predict_for = 14"
      ],
      "metadata": {
        "id": "ywsrgpSLUFce"
      },
      "execution_count": null,
      "outputs": []
    },
    {
      "cell_type": "code",
      "source": [
        "look_back = 50\n",
        "\n",
        "def prepare_data(df):\n",
        "    X = []\n",
        "    y = []\n",
        "    for i in range(look_back, len(df)):\n",
        "        y.append(df[i])\n",
        "        X.append(df[i - look_back:i])\n",
        "    return np.array(X), np.array(y)"
      ],
      "metadata": {
        "id": "83h1v-0JWvHC"
      },
      "execution_count": null,
      "outputs": []
    },
    {
      "cell_type": "code",
      "source": [
        "def scale(df, scaler):\n",
        "  simple_array = np.array(df).reshape(-1, 1)\n",
        "  ssimple_array = scaler.fit_transform(simple_array)\n",
        "  return np.array(ssimple_array).reshape((-1, ))\n",
        "\n",
        "def descaled(df, scaler):\n",
        "  simple_array = np.array(df).reshape(-1, 1)\n",
        "  ssimple_array = scaler.inverse_transform(simple_array)\n",
        "  return np.array(ssimple_array).reshape((-1, ))\n",
        "\n",
        "def smoothen(df, period):\n",
        "    df_ma = df.copy()\n",
        "    for i in range(period, len(df)):\n",
        "        ma = 0\n",
        "        for j in range(i - period + 1, i + 1):\n",
        "            ma += df[j]\n",
        "        df_ma[i] = ma / period\n",
        "    return df_ma"
      ],
      "metadata": {
        "id": "ASLXjn7GWze8"
      },
      "execution_count": null,
      "outputs": []
    },
    {
      "cell_type": "code",
      "source": [
        "class Model:\n",
        "  def __init__(self, df, epochs = 100):\n",
        "    self.scaler = MinMaxScaler()\n",
        "    self.df = scale(df, self.scaler)\n",
        "    self.dfw, self.dfy = prepare_data(self.df)\n",
        "    self.epochs = epochs\n",
        "\n",
        "    self.model = Sequential()\n",
        "\n",
        "    self.model.add(LSTM(units = 32, return_sequences=True, input_shape = (self.dfw.shape[1], 1)))\n",
        "    self.model.add(Dropout(0.2))\n",
        "    self.model.add(LSTM(units = 32, return_sequences=True))\n",
        "    self.model.add(Dropout(0.2))\n",
        "    self.model.add(LSTM(units = 32))\n",
        "    self.model.add(Dropout(0.2))\n",
        "    self.model.add(Dense(units = 1))  #our predictions\n",
        "    self.model.compile(optimizer = 'adam', loss = 'mean_squared_error')\n",
        "\n",
        "  def fit(self):\n",
        "    y = self.dfy\n",
        "    callback = tf.keras.callbacks.EarlyStopping(monitor='loss', patience=4)\n",
        "    self.model.fit(self.dfw, y, epochs = 100, callbacks=[callback])\n",
        "  \n",
        "  def predict(self, predict_for):\n",
        "    df_full = self.dfw[-1]\n",
        "\n",
        "    X_p = [df_full]\n",
        "    y_p = []\n",
        "\n",
        "    for i in range(predict_for):\n",
        "        yi = self.model.predict(np.array(X_p))\n",
        "        y_p.append(yi[0][0])\n",
        "        \n",
        "        X_p = [np.append(X_p[0][1:], yi)]\n",
        "\n",
        "    return descaled(y_p, self.scaler)"
      ],
      "metadata": {
        "id": "JLvtGFUnW18n"
      },
      "execution_count": null,
      "outputs": []
    },
    {
      "cell_type": "code",
      "source": [
        "from google.colab import drive\n",
        "drive.mount('/content/drive')"
      ],
      "metadata": {
        "colab": {
          "base_uri": "https://localhost:8080/"
        },
        "id": "RS8iHLP5XA0-",
        "outputId": "d4303871-2d86-490f-c0c3-72b917a947c0"
      },
      "execution_count": null,
      "outputs": [
        {
          "output_type": "stream",
          "name": "stdout",
          "text": [
            "Drive already mounted at /content/drive; to attempt to forcibly remount, call drive.mount(\"/content/drive\", force_remount=True).\n"
          ]
        }
      ]
    },
    {
      "cell_type": "code",
      "source": [
        "df = pd.read_csv('/content/drive/MyDrive/covid-final-all.csv')\n",
        "df['state_residence'] = df.apply(lambda row: row['state_residence'].lower(), axis=1)\n",
        "print(df.columns)\n",
        "print(df.state_residence.unique())\n",
        "df=df.groupby(['Date']).agg({'<15_pos': 'sum', '15-24_pos': 'sum', '25-34_pos':'sum', '35-44_pos':'sum', '45-59_pos':'sum', '60-80_pos':'sum', '>80_pos':'sum', 'new_case': 'sum'}).reset_index()\n",
        "df.head()\n",
        "\n",
        "date = df.iloc[train_for + 1]['Date']"
      ],
      "metadata": {
        "colab": {
          "base_uri": "https://localhost:8080/"
        },
        "id": "6B7PB1wGXDIn",
        "outputId": "669e6c19-c709-4821-cf12-330ab35f19bc"
      },
      "execution_count": null,
      "outputs": [
        {
          "output_type": "stream",
          "name": "stdout",
          "text": [
            "Index(['Unnamed: 0', 'state_residence', 'district_residence', 'Date', '<15',\n",
            "       '15-24', '25-34', '35-44', '45-59', '60-80', '>80', '<15_pos',\n",
            "       '15-24_pos', '25-34_pos', '35-44_pos', '45-59_pos', '60-80_pos',\n",
            "       '>80_pos', 'M_pos', '2', 'F_pos', 'T', 'F', 'M', 'NIA', 'T_pos',\n",
            "       'NIA_pos', 'O', 'O_pos', 'N', 'G', ',', 'D', 'new_case',\n",
            "       'negative_case', 'Failed_test', 'Total_test',\n",
            "       'negative_egene_screening', 'positive_egene_screening',\n",
            "       'Failed_test_egene_screening', '<20_ct_value_screening',\n",
            "       '20-30_ct_value_screening', '31-35_ct_value_screening',\n",
            "       '>35_ct_value_screening', '<20_posct_value_screening',\n",
            "       '20-30_posct_value_screening', '31-35_posct_value_screening',\n",
            "       '>35_posct_value_screening', 'negative_rdrp_confirmatory',\n",
            "       'positive_rdrp_confirmatory', 'Failed_test_rdrp_confirmatory',\n",
            "       '<20_ct_value_rdrp', '20-30_ct_value_rdrp', '31-35_ct_value_rdrp',\n",
            "       '>35_ct_value_rdrp', '<20_posct_value_rdrp', '20-30_posct_value_rdrp',\n",
            "       '31-35_posct_value_rdrp', '>35_posct_value_rdrp',\n",
            "       'negative_orf1b_confirmatory', 'positive_orf1b_confirmatory',\n",
            "       'Failed_test_orf1b_confirmatory', '<20_ct_value_orf1b',\n",
            "       '20-30_ct_value_orf1b', '31-35_ct_value_orf1b', '>35_ct_value_orf1b',\n",
            "       '<20_posct_value_orf1b', '20-30_posct_value_orf1b',\n",
            "       '31-35_posct_value_orf1b', '>35_posct_value_orf1b', '3', 'D_pos', 'K',\n",
            "       'R', 'P', 'H', '5', '7', '8', 'S', '\\', 'V', '1', '4', '6', '9', '.',\n",
            "       'B', '-', '`', 'Q'],\n",
            "      dtype='object')\n",
            "['kerala' 'uttar pradesh' 'andhra pradesh' 'bihar' 'jammu and kashmir'\n",
            " 'telangana' 'maharashtra' 'delhi' 'karnataka' 'jharkhand' 'punjab'\n",
            " 'tamil nadu' 'haryana' 'rajasthan' 'madhya pradesh' 'west bengal' 'goa'\n",
            " 'gujarat' 'india' 'chhattisgarh' 'odisha' 'uttarakhand' 'assam' 'manipur'\n",
            " 'chandigarh' 'puducherry' 'ladakh' 'mizoram' 'himachal pradesh'\n",
            " 'daman and diu' 'andaman and nicobar islands' 'tripura' 'meghalaya'\n",
            " 'sikkim' 'arunachal pradesh' 'dadra and nagar haveli' 'nagaland'\n",
            " 'lakshadweep']\n"
          ]
        }
      ]
    },
    {
      "cell_type": "code",
      "source": [
        "age_groups = ['<15_pos', '15-24_pos', '25-34_pos', '35-44_pos', '45-59_pos', '60-80_pos', '>80_pos']\n",
        "\n",
        "df_age_wise = {}\n",
        "\n",
        "for age_group in age_groups:\n",
        "  df_age_wise[age_group] = df[age_group].values\n",
        "\n",
        "df_total = df['new_case'].values"
      ],
      "metadata": {
        "id": "RlLhcFnVXHdi"
      },
      "execution_count": null,
      "outputs": []
    },
    {
      "cell_type": "code",
      "source": [
        "models = {}\n",
        "for age_group in age_groups:\n",
        "  models[age_group] = Model(df_age_wise[age_group][:train_for])"
      ],
      "metadata": {
        "id": "_BQnOLN1XJwo"
      },
      "execution_count": null,
      "outputs": []
    },
    {
      "cell_type": "code",
      "source": [
        "for age_group in age_groups:\n",
        "  models[age_group].fit()"
      ],
      "metadata": {
        "colab": {
          "base_uri": "https://localhost:8080/"
        },
        "id": "OU823dhwXLGX",
        "outputId": "93a107cc-03eb-40e8-d376-22cb86208179"
      },
      "execution_count": null,
      "outputs": [
        {
          "output_type": "stream",
          "name": "stdout",
          "text": [
            "Epoch 1/100\n",
            "22/22 [==============================] - 9s 119ms/step - loss: 0.0157\n",
            "Epoch 2/100\n",
            "22/22 [==============================] - 2s 73ms/step - loss: 0.0075\n",
            "Epoch 3/100\n",
            "22/22 [==============================] - 2s 73ms/step - loss: 0.0055\n",
            "Epoch 4/100\n",
            "22/22 [==============================] - 2s 72ms/step - loss: 0.0059\n",
            "Epoch 5/100\n",
            "22/22 [==============================] - 2s 75ms/step - loss: 0.0050\n",
            "Epoch 6/100\n",
            "22/22 [==============================] - 2s 74ms/step - loss: 0.0059\n",
            "Epoch 7/100\n",
            "22/22 [==============================] - 2s 73ms/step - loss: 0.0041\n",
            "Epoch 8/100\n",
            "22/22 [==============================] - 3s 120ms/step - loss: 0.0044\n",
            "Epoch 9/100\n",
            "22/22 [==============================] - 2s 107ms/step - loss: 0.0042\n",
            "Epoch 10/100\n",
            "22/22 [==============================] - 2s 74ms/step - loss: 0.0044\n",
            "Epoch 11/100\n",
            "22/22 [==============================] - 2s 76ms/step - loss: 0.0047\n",
            "Epoch 1/100\n",
            "22/22 [==============================] - 12s 86ms/step - loss: 0.0000e+00\n",
            "Epoch 2/100\n",
            "22/22 [==============================] - 2s 106ms/step - loss: 0.0000e+00\n",
            "Epoch 3/100\n",
            "22/22 [==============================] - 3s 135ms/step - loss: 0.0000e+00\n",
            "Epoch 4/100\n",
            "22/22 [==============================] - 2s 87ms/step - loss: 0.0000e+00\n",
            "Epoch 5/100\n",
            "22/22 [==============================] - 2s 88ms/step - loss: 0.0000e+00\n",
            "Epoch 1/100\n",
            "22/22 [==============================] - 9s 134ms/step - loss: 0.0225\n",
            "Epoch 2/100\n",
            "22/22 [==============================] - 2s 103ms/step - loss: 0.0097\n",
            "Epoch 3/100\n",
            "22/22 [==============================] - 2s 87ms/step - loss: 0.0073\n",
            "Epoch 4/100\n",
            "22/22 [==============================] - 2s 87ms/step - loss: 0.0053\n",
            "Epoch 5/100\n",
            "22/22 [==============================] - 2s 85ms/step - loss: 0.0054\n",
            "Epoch 6/100\n",
            "22/22 [==============================] - 2s 86ms/step - loss: 0.0045\n",
            "Epoch 7/100\n",
            "22/22 [==============================] - 2s 105ms/step - loss: 0.0042\n",
            "Epoch 8/100\n",
            "22/22 [==============================] - 3s 134ms/step - loss: 0.0045\n",
            "Epoch 9/100\n",
            "22/22 [==============================] - 2s 88ms/step - loss: 0.0041\n",
            "Epoch 10/100\n",
            "22/22 [==============================] - 2s 86ms/step - loss: 0.0036\n",
            "Epoch 11/100\n",
            "22/22 [==============================] - 2s 86ms/step - loss: 0.0034\n",
            "Epoch 12/100\n",
            "22/22 [==============================] - 2s 86ms/step - loss: 0.0039\n",
            "Epoch 13/100\n",
            "22/22 [==============================] - 2s 86ms/step - loss: 0.0039\n",
            "Epoch 14/100\n",
            "22/22 [==============================] - 3s 123ms/step - loss: 0.0037\n",
            "Epoch 15/100\n",
            "22/22 [==============================] - 3s 125ms/step - loss: 0.0039\n",
            "Epoch 1/100\n",
            "22/22 [==============================] - 8s 82ms/step - loss: 0.0174\n",
            "Epoch 2/100\n",
            "22/22 [==============================] - 2s 93ms/step - loss: 0.0081\n",
            "Epoch 3/100\n",
            "22/22 [==============================] - 3s 135ms/step - loss: 0.0049\n",
            "Epoch 4/100\n",
            "22/22 [==============================] - 2s 95ms/step - loss: 0.0048\n",
            "Epoch 5/100\n",
            "22/22 [==============================] - 2s 85ms/step - loss: 0.0054\n",
            "Epoch 6/100\n",
            "22/22 [==============================] - 2s 85ms/step - loss: 0.0038\n",
            "Epoch 7/100\n",
            "22/22 [==============================] - 2s 84ms/step - loss: 0.0035\n",
            "Epoch 8/100\n",
            "22/22 [==============================] - 2s 85ms/step - loss: 0.0034\n",
            "Epoch 9/100\n",
            "22/22 [==============================] - 2s 101ms/step - loss: 0.0037\n",
            "Epoch 10/100\n",
            "22/22 [==============================] - 3s 131ms/step - loss: 0.0037\n",
            "Epoch 11/100\n",
            "22/22 [==============================] - 2s 89ms/step - loss: 0.0033\n",
            "Epoch 12/100\n",
            "22/22 [==============================] - 2s 84ms/step - loss: 0.0034\n",
            "Epoch 13/100\n",
            "22/22 [==============================] - 2s 83ms/step - loss: 0.0033\n",
            "Epoch 14/100\n",
            "22/22 [==============================] - 2s 85ms/step - loss: 0.0034\n",
            "Epoch 15/100\n",
            "22/22 [==============================] - 2s 83ms/step - loss: 0.0042\n",
            "Epoch 16/100\n",
            "22/22 [==============================] - 2s 107ms/step - loss: 0.0026\n",
            "Epoch 17/100\n",
            "22/22 [==============================] - 3s 138ms/step - loss: 0.0032\n",
            "Epoch 18/100\n",
            "22/22 [==============================] - 2s 82ms/step - loss: 0.0032\n",
            "Epoch 19/100\n",
            "22/22 [==============================] - 2s 83ms/step - loss: 0.0030\n",
            "Epoch 20/100\n",
            "22/22 [==============================] - 2s 86ms/step - loss: 0.0030\n",
            "Epoch 1/100\n",
            "22/22 [==============================] - 9s 91ms/step - loss: 0.0244\n",
            "Epoch 2/100\n",
            "22/22 [==============================] - 2s 75ms/step - loss: 0.0089\n",
            "Epoch 3/100\n",
            "22/22 [==============================] - 2s 73ms/step - loss: 0.0065\n",
            "Epoch 4/100\n",
            "22/22 [==============================] - 2s 75ms/step - loss: 0.0043\n",
            "Epoch 5/100\n",
            "22/22 [==============================] - 2s 72ms/step - loss: 0.0037\n",
            "Epoch 6/100\n",
            "22/22 [==============================] - 2s 73ms/step - loss: 0.0038\n",
            "Epoch 7/100\n",
            "22/22 [==============================] - 2s 98ms/step - loss: 0.0045\n",
            "Epoch 8/100\n",
            "22/22 [==============================] - 3s 122ms/step - loss: 0.0039\n",
            "Epoch 9/100\n",
            "22/22 [==============================] - 2s 79ms/step - loss: 0.0042\n",
            "Epoch 1/100\n",
            "22/22 [==============================] - 10s 117ms/step - loss: 0.0204\n",
            "Epoch 2/100\n",
            "22/22 [==============================] - 3s 125ms/step - loss: 0.0078\n",
            "Epoch 3/100\n",
            "22/22 [==============================] - 2s 87ms/step - loss: 0.0060\n",
            "Epoch 4/100\n",
            "22/22 [==============================] - 2s 84ms/step - loss: 0.0046\n",
            "Epoch 5/100\n",
            "22/22 [==============================] - 2s 83ms/step - loss: 0.0043\n",
            "Epoch 6/100\n",
            "22/22 [==============================] - 2s 86ms/step - loss: 0.0042\n",
            "Epoch 7/100\n",
            "22/22 [==============================] - 2s 85ms/step - loss: 0.0039\n",
            "Epoch 8/100\n",
            "22/22 [==============================] - 3s 123ms/step - loss: 0.0039\n",
            "Epoch 9/100\n",
            "22/22 [==============================] - 3s 118ms/step - loss: 0.0040\n",
            "Epoch 10/100\n",
            "22/22 [==============================] - 2s 82ms/step - loss: 0.0032\n",
            "Epoch 11/100\n",
            "22/22 [==============================] - 2s 84ms/step - loss: 0.0036\n",
            "Epoch 12/100\n",
            "22/22 [==============================] - 2s 83ms/step - loss: 0.0036\n",
            "Epoch 13/100\n",
            "22/22 [==============================] - 2s 83ms/step - loss: 0.0039\n",
            "Epoch 14/100\n",
            "22/22 [==============================] - 2s 83ms/step - loss: 0.0040\n",
            "Epoch 1/100\n",
            "22/22 [==============================] - 9s 75ms/step - loss: 0.0179\n",
            "Epoch 2/100\n",
            "22/22 [==============================] - 2s 77ms/step - loss: 0.0079\n",
            "Epoch 3/100\n",
            "22/22 [==============================] - 2s 76ms/step - loss: 0.0054\n",
            "Epoch 4/100\n",
            "22/22 [==============================] - 5s 242ms/step - loss: 0.0044\n",
            "Epoch 5/100\n",
            "22/22 [==============================] - 3s 153ms/step - loss: 0.0051\n",
            "Epoch 6/100\n",
            "22/22 [==============================] - 2s 76ms/step - loss: 0.0046\n",
            "Epoch 7/100\n",
            "22/22 [==============================] - 2s 75ms/step - loss: 0.0042\n",
            "Epoch 8/100\n",
            "22/22 [==============================] - 2s 76ms/step - loss: 0.0034\n",
            "Epoch 9/100\n",
            "22/22 [==============================] - 2s 75ms/step - loss: 0.0039\n",
            "Epoch 10/100\n",
            "22/22 [==============================] - 2s 74ms/step - loss: 0.0036\n",
            "Epoch 11/100\n",
            "22/22 [==============================] - 2s 76ms/step - loss: 0.0032\n",
            "Epoch 12/100\n",
            "22/22 [==============================] - 3s 127ms/step - loss: 0.0037\n",
            "Epoch 13/100\n",
            "22/22 [==============================] - 2s 106ms/step - loss: 0.0036\n",
            "Epoch 14/100\n",
            "22/22 [==============================] - 2s 78ms/step - loss: 0.0034\n",
            "Epoch 15/100\n",
            "22/22 [==============================] - 2s 76ms/step - loss: 0.0035\n"
          ]
        }
      ]
    },
    {
      "cell_type": "code",
      "source": [
        "for age_group in age_groups:\n",
        "  models[age_group].model.save(\"model_\" + str(age_group) + \".h5\")"
      ],
      "metadata": {
        "id": "Un9kbxAiUiAt"
      },
      "execution_count": null,
      "outputs": []
    },
    {
      "cell_type": "code",
      "source": [
        "def mape_(p, a):\n",
        "  assert(len(p) == len(a))\n",
        "  m = 0.0\n",
        "  for i in range(len(p)):\n",
        "    m += abs(p[i] - a[i]) / a[i]\n",
        "  return( m / len(p)) * 100"
      ],
      "metadata": {
        "id": "JwROOTB8XM64"
      },
      "execution_count": null,
      "outputs": []
    },
    {
      "cell_type": "code",
      "source": [
        "predictions = models[age_groups[0]].predict(predict_for)\n",
        "\n",
        "for i in range(1, len(age_groups)):\n",
        "  predictions = predictions + models[age_groups[i]].predict(predict_for)\n",
        "\n",
        "actual = df_total[train_for:train_for+predict_for]\n",
        "\n",
        "MAPE = mape_(predictions, actual)\n",
        "print(\"MAPE:\", MAPE)"
      ],
      "metadata": {
        "colab": {
          "base_uri": "https://localhost:8080/"
        },
        "id": "o-lpyBmzXOtp",
        "outputId": "f7d333f8-d844-4cca-d23a-7e5d89f152e4"
      },
      "execution_count": null,
      "outputs": [
        {
          "output_type": "stream",
          "name": "stdout",
          "text": [
            "1/1 [==============================] - 1s 1s/step\n",
            "1/1 [==============================] - 0s 31ms/step\n",
            "1/1 [==============================] - 0s 33ms/step\n",
            "1/1 [==============================] - 0s 36ms/step\n",
            "1/1 [==============================] - 0s 31ms/step\n",
            "1/1 [==============================] - 0s 32ms/step\n",
            "1/1 [==============================] - 0s 35ms/step\n",
            "1/1 [==============================] - 0s 32ms/step\n",
            "1/1 [==============================] - 0s 35ms/step\n",
            "1/1 [==============================] - 0s 30ms/step\n",
            "1/1 [==============================] - 0s 32ms/step\n",
            "1/1 [==============================] - 0s 30ms/step\n",
            "1/1 [==============================] - 0s 32ms/step\n",
            "1/1 [==============================] - 0s 30ms/step\n",
            "1/1 [==============================] - 1s 1s/step\n",
            "1/1 [==============================] - 0s 36ms/step\n",
            "1/1 [==============================] - 0s 30ms/step\n",
            "1/1 [==============================] - 0s 31ms/step\n",
            "1/1 [==============================] - 0s 28ms/step\n",
            "1/1 [==============================] - 0s 29ms/step\n",
            "1/1 [==============================] - 0s 30ms/step\n",
            "1/1 [==============================] - 0s 38ms/step\n",
            "1/1 [==============================] - 0s 29ms/step\n",
            "1/1 [==============================] - 0s 32ms/step\n",
            "1/1 [==============================] - 0s 30ms/step\n",
            "1/1 [==============================] - 0s 28ms/step\n",
            "1/1 [==============================] - 0s 34ms/step\n",
            "1/1 [==============================] - 0s 30ms/step\n",
            "1/1 [==============================] - 1s 1s/step\n",
            "1/1 [==============================] - 0s 30ms/step\n",
            "1/1 [==============================] - 0s 31ms/step\n",
            "1/1 [==============================] - 0s 34ms/step\n",
            "1/1 [==============================] - 0s 35ms/step\n",
            "1/1 [==============================] - 0s 33ms/step\n",
            "1/1 [==============================] - 0s 29ms/step\n",
            "1/1 [==============================] - 0s 31ms/step\n",
            "1/1 [==============================] - 0s 38ms/step\n",
            "1/1 [==============================] - 0s 31ms/step\n",
            "1/1 [==============================] - 0s 40ms/step\n",
            "1/1 [==============================] - 0s 32ms/step\n",
            "1/1 [==============================] - 0s 29ms/step\n",
            "1/1 [==============================] - 0s 32ms/step\n",
            "1/1 [==============================] - 1s 1s/step\n",
            "1/1 [==============================] - 0s 33ms/step\n",
            "1/1 [==============================] - 0s 32ms/step\n",
            "1/1 [==============================] - 0s 29ms/step\n",
            "1/1 [==============================] - 0s 29ms/step\n",
            "1/1 [==============================] - 0s 30ms/step\n",
            "1/1 [==============================] - 0s 29ms/step\n",
            "1/1 [==============================] - 0s 30ms/step\n",
            "1/1 [==============================] - 0s 28ms/step\n",
            "1/1 [==============================] - 0s 34ms/step\n",
            "1/1 [==============================] - 0s 29ms/step\n",
            "1/1 [==============================] - 0s 28ms/step\n",
            "1/1 [==============================] - 0s 31ms/step\n",
            "1/1 [==============================] - 0s 30ms/step\n",
            "1/1 [==============================] - 2s 2s/step\n",
            "1/1 [==============================] - 0s 47ms/step\n",
            "1/1 [==============================] - 0s 43ms/step\n",
            "1/1 [==============================] - 0s 46ms/step\n",
            "1/1 [==============================] - 0s 46ms/step\n",
            "1/1 [==============================] - 0s 46ms/step\n",
            "1/1 [==============================] - 0s 45ms/step\n",
            "1/1 [==============================] - 0s 53ms/step\n",
            "1/1 [==============================] - 0s 51ms/step\n",
            "1/1 [==============================] - 0s 46ms/step\n",
            "1/1 [==============================] - 0s 45ms/step\n",
            "1/1 [==============================] - 0s 49ms/step\n",
            "1/1 [==============================] - 0s 51ms/step\n",
            "1/1 [==============================] - 0s 48ms/step\n",
            "1/1 [==============================] - 1s 1s/step\n",
            "1/1 [==============================] - 0s 32ms/step\n",
            "1/1 [==============================] - 0s 33ms/step\n",
            "1/1 [==============================] - 0s 29ms/step\n",
            "1/1 [==============================] - 0s 29ms/step\n",
            "1/1 [==============================] - 0s 30ms/step\n",
            "1/1 [==============================] - 0s 30ms/step\n",
            "1/1 [==============================] - 0s 30ms/step\n",
            "1/1 [==============================] - 0s 29ms/step\n",
            "1/1 [==============================] - 0s 31ms/step\n",
            "1/1 [==============================] - 0s 29ms/step\n",
            "1/1 [==============================] - 0s 30ms/step\n",
            "1/1 [==============================] - 0s 34ms/step\n",
            "1/1 [==============================] - 0s 30ms/step\n",
            "1/1 [==============================] - 1s 1s/step\n",
            "1/1 [==============================] - 0s 31ms/step\n",
            "1/1 [==============================] - 0s 31ms/step\n",
            "1/1 [==============================] - 0s 30ms/step\n",
            "1/1 [==============================] - 0s 34ms/step\n",
            "1/1 [==============================] - 0s 29ms/step\n",
            "1/1 [==============================] - 0s 29ms/step\n",
            "1/1 [==============================] - 0s 30ms/step\n",
            "1/1 [==============================] - 0s 28ms/step\n",
            "1/1 [==============================] - 0s 29ms/step\n",
            "1/1 [==============================] - 0s 32ms/step\n",
            "1/1 [==============================] - 0s 42ms/step\n",
            "1/1 [==============================] - 0s 32ms/step\n",
            "1/1 [==============================] - 0s 31ms/step\n",
            "MAPE: 56.92006314034571\n"
          ]
        }
      ]
    },
    {
      "cell_type": "code",
      "source": [
        "import matplotlib.pyplot as plt\n",
        "def append(a, b):\n",
        "  c = []\n",
        "  for ai in a:\n",
        "    c.append(ai)\n",
        "  for bi in b:\n",
        "    c.append(bi)\n",
        "  return c"
      ],
      "metadata": {
        "id": "b7mvSRaDUSy8"
      },
      "execution_count": null,
      "outputs": []
    },
    {
      "cell_type": "code",
      "source": [
        "window = 100\n",
        "plt.figure()\n",
        "plt.title(\"Predictions vs Actual results(N-hits)\")\n",
        "plt.plot(append(df_total[train_for - window:train_for], predictions), label=\"Predictions\")\n",
        "plt.plot(append(df_total[train_for - window:train_for], actual), label=\"Actual\")\n",
        "plt.xlabel(\"Time axis (Predictions for 14 days from \" + date)\n",
        "plt.ylabel(\"Number of covid cases\")\n",
        "plt.axvline(window, color = 'red', label = \"predictions on right of this line\")\n",
        "plt.legend()\n",
        "plt.show()"
      ],
      "metadata": {
        "colab": {
          "base_uri": "https://localhost:8080/",
          "height": 472
        },
        "id": "1dhP8z5QUUl9",
        "outputId": "3f900c8a-a416-46bc-cfef-7666de528368"
      },
      "execution_count": null,
      "outputs": [
        {
          "output_type": "display_data",
          "data": {
            "text/plain": [
              "<Figure size 640x480 with 1 Axes>"
            ],
            "image/png": "[encoded data removed]"
          },
          "metadata": {}
        }
      ]
    },
    {
      "cell_type": "code",
      "source": [
        "print(actual)"
      ],
      "metadata": {
        "colab": {
          "base_uri": "https://localhost:8080/"
        },
        "id": "cC2yZOB2WExf",
        "outputId": "444f97aa-0c92-4918-b43d-be253fbfb2cf"
      },
      "execution_count": null,
      "outputs": [
        {
          "output_type": "stream",
          "name": "stdout",
          "text": [
            "[210776. 151381. 296176. 294335. 301381. 299917. 271532. 282287. 192190.\n",
            " 395946. 378298. 380601. 366328. 355255.]\n"
          ]
        }
      ]
    },
    {
      "cell_type": "code",
      "source": [
        "print(predictions)"
      ],
      "metadata": {
        "colab": {
          "base_uri": "https://localhost:8080/"
        },
        "id": "HNXvtVvbWFqh",
        "outputId": "8ec9fa9c-5abb-4579-d571-c1094421c375"
      },
      "execution_count": null,
      "outputs": [
        {
          "output_type": "stream",
          "name": "stdout",
          "text": [
            "[ 59174.363  75531.01   90688.34  103821.22  114775.7   123767.35\n",
            " 131178.88  137412.19  142818.69  147668.56  152147.78  156369.12\n",
            " 160385.98  164218.56 ]\n"
          ]
        }
      ]
    },
    {
      "cell_type": "code",
      "source": [],
      "metadata": {
        "id": "XEB9XUTmWGyg"
      },
      "execution_count": null,
      "outputs": []
    }
  ]
}