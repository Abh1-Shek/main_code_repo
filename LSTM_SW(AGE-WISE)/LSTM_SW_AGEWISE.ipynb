{
  "cells": [
    {
      "cell_type": "code",
      "execution_count": null,
      "metadata": {
        "id": "0MwkYzExeEGH"
      },
      "outputs": [],
      "source": [
        "from tensorflow.keras.models import Sequential\n",
        "from tensorflow.keras.layers import Dense, Dropout, LSTM\n",
        "from sklearn.preprocessing import MinMaxScaler\n",
        "import numpy as np\n",
        "import matplotlib.pyplot as plt\n",
        "import pandas as pd\n",
        "from sklearn.model_selection import train_test_split\n",
        "import tensorflow as tf\n",
        "from tensorflow import keras\n",
        "from sklearn.metrics import mean_squared_error"
      ]
    },
    {
      "cell_type": "code",
      "execution_count": null,
      "metadata": {
        "id": "QFNizUPY0gFN"
      },
      "outputs": [],
      "source": [
        "train_for = 735\n",
        "predict_for = 14"
      ]
    },
    {
      "cell_type": "code",
      "execution_count": null,
      "metadata": {
        "id": "a5ikNMneoIz0"
      },
      "outputs": [],
      "source": [
        "def smoothen_freq(df):\n",
        "  x = df\n",
        "  nan_indices = np.isnan(x)\n",
        "\n",
        "  # # Remove the NaN values from the array\n",
        "  x = x[np.logical_not(nan_indices)]\n",
        "\n",
        "  # Generate a noisy signal\n",
        "  signal = x\n",
        "\n",
        "  # Apply Fourier transform to the signal\n",
        "  f_signal = np.fft.fft(signal)\n",
        "\n",
        "  # Calculate the power spectrum\n",
        "  power = np.abs(f_signal)**2\n",
        "\n",
        "  # Set a threshold to remove the noise\n",
        "  threshold = 0.002 * max(power)\n",
        "  f_signal[power < threshold] = 0\n",
        "\n",
        "  # Apply inverse Fourier transform to the filtered signal\n",
        "  filtered_signal = np.fft.ifft(f_signal)\n",
        "\n",
        "  return filtered_signal\n"
      ]
    },
    {
      "cell_type": "code",
      "execution_count": null,
      "metadata": {
        "id": "o55ViWJ8eLQM"
      },
      "outputs": [],
      "source": [
        "look_back = 50\n",
        "\n",
        "def prepare_data(df):\n",
        "    X = []\n",
        "    y = []\n",
        "    for i in range(look_back, len(df)):\n",
        "        y.append(df[i])\n",
        "        X.append(df[i - look_back:i])\n",
        "    return np.array(X), np.array(y)"
      ]
    },
    {
      "cell_type": "code",
      "execution_count": null,
      "metadata": {
        "id": "4uIgg48PeNHC"
      },
      "outputs": [],
      "source": [
        "def scale(df, scaler):\n",
        "  simple_array = np.array(df).reshape(-1, 1)\n",
        "  ssimple_array = scaler.fit_transform(simple_array)\n",
        "  return np.array(ssimple_array).reshape((-1, ))\n",
        "\n",
        "def descaled(df, scaler):\n",
        "  simple_array = np.array(df).reshape(-1, 1)\n",
        "  ssimple_array = scaler.inverse_transform(simple_array)\n",
        "  return np.array(ssimple_array).reshape((-1, ))"
      ]
    },
    {
      "cell_type": "code",
      "execution_count": null,
      "metadata": {
        "id": "5o7uWiyceOv2"
      },
      "outputs": [],
      "source": [
        "class Model:\n",
        "  def __init__(self, df):\n",
        "    self.scaler = MinMaxScaler()\n",
        "    self.df = smoothen_freq(df)\n",
        "    self.df = scale(df, self.scaler)\n",
        "    self.dfw, self.dfy = prepare_data(self.df)\n",
        "\n",
        "    self.model_strong = Sequential()\n",
        "    self.model_strong.add(LSTM(units = 32, return_sequences=True, input_shape = (self.dfw.shape[1], 1)))\n",
        "    self.model_strong.add(LSTM(units = 32, return_sequences=True))\n",
        "    self.model_strong.add(LSTM(units = 32))\n",
        "    self.model_strong.add(Dense(units = 1))  #our predictions\n",
        "    self.model_strong.compile(optimizer = 'adam', loss = 'mean_squared_error')\n",
        "\n",
        "\n",
        "\n",
        "\n",
        "    self.model_weak = Sequential()\n",
        "    self.model_weak.add(LSTM(units = 32, return_sequences=True, input_shape = (self.dfw.shape[1], 1)))\n",
        "    self.model_weak.add(Dropout(0.2))\n",
        "    self.model_weak.add(LSTM(units = 32, return_sequences=True))\n",
        "    self.model_weak.add(Dropout(0.2))\n",
        "    self.model_weak.add(LSTM(units = 32))\n",
        "    self.model_weak.add(Dropout(0.2))\n",
        "    self.model_weak.add(Dense(units = 1))  #our predictions\n",
        "    self.model_weak.compile(optimizer = 'adam', loss = 'mean_squared_error')\n",
        "\n",
        "  def fit(self):\n",
        "    # when giving 25% importance to strong model and 75% importance to weak model\n",
        "    y_train_strong = self.dfy / 4\n",
        "    y_train_weak = self.dfy * (3 / 4)\n",
        "    # training the strong model for more epochs\n",
        "    self.model_strong.fit(self.dfw, y_train_strong, epochs = 10)\n",
        "    # training the weak model for less epochs\n",
        "    self.model_weak.fit(self.dfw, y_train_weak, epochs = 4)\n",
        "  \n",
        "  def predict(self, predict_for):\n",
        "    df_full = self.dfw[-1]\n",
        "\n",
        "    X_p_strong = [df_full]\n",
        "    X_p_weak = [df_full]\n",
        "    y_p_strong = []\n",
        "    y_p_weak = []\n",
        "\n",
        "    for i in range(predict_for):\n",
        "        yi_strong = self.model_strong.predict(np.array(X_p_strong))\n",
        "        y_p_strong.append(yi_strong[0][0])\n",
        "        yi_weak = self.model_weak.predict(np.array(X_p_weak))\n",
        "        y_p_weak.append(yi_weak[0][0])\n",
        "        X_p_strong = [np.append(X_p_strong[0][1:], yi_strong)]\n",
        "        X_p_weak = [np.append(X_p_weak[0][1:], yi_weak)]\n",
        "    y_p = [0 for y_p_i in range(len(y_p_strong))]\n",
        "    for j in range(len(y_p)):\n",
        "        y_p[j] = y_p_strong[j] + y_p_weak[j]\n",
        "    return descaled(y_p, self.scaler)"
      ]
    },
    {
      "cell_type": "code",
      "execution_count": null,
      "metadata": {
        "id": "oIym6OfQeRKm",
        "colab": {
          "base_uri": "https://localhost:8080/"
        },
        "outputId": "2e8d4fc2-053d-4db8-ab71-71e5fa2e5146"
      },
      "outputs": [
        {
          "output_type": "stream",
          "name": "stdout",
          "text": [
            "Drive already mounted at /content/drive; to attempt to forcibly remount, call drive.mount(\"/content/drive\", force_remount=True).\n"
          ]
        }
      ],
      "source": [
        "from google.colab import drive\n",
        "drive.mount('/content/drive')"
      ]
    },
    {
      "cell_type": "code",
      "execution_count": null,
      "metadata": {
        "colab": {
          "base_uri": "https://localhost:8080/"
        },
        "id": "EzMprzPmeTmf",
        "outputId": "8fc019c3-2539-49b6-b608-3a64888de6b3"
      },
      "outputs": [
        {
          "output_type": "stream",
          "name": "stdout",
          "text": [
            "Index(['Unnamed: 0', 'state_residence', 'district_residence', 'Date', '<15',\n",
            "       '15-24', '25-34', '35-44', '45-59', '60-80', '>80', '<15_pos',\n",
            "       '15-24_pos', '25-34_pos', '35-44_pos', '45-59_pos', '60-80_pos',\n",
            "       '>80_pos', 'M_pos', '2', 'F_pos', 'T', 'F', 'M', 'NIA', 'T_pos',\n",
            "       'NIA_pos', 'O', 'O_pos', 'N', 'G', ',', 'D', 'new_case',\n",
            "       'negative_case', 'Failed_test', 'Total_test',\n",
            "       'negative_egene_screening', 'positive_egene_screening',\n",
            "       'Failed_test_egene_screening', '<20_ct_value_screening',\n",
            "       '20-30_ct_value_screening', '31-35_ct_value_screening',\n",
            "       '>35_ct_value_screening', '<20_posct_value_screening',\n",
            "       '20-30_posct_value_screening', '31-35_posct_value_screening',\n",
            "       '>35_posct_value_screening', 'negative_rdrp_confirmatory',\n",
            "       'positive_rdrp_confirmatory', 'Failed_test_rdrp_confirmatory',\n",
            "       '<20_ct_value_rdrp', '20-30_ct_value_rdrp', '31-35_ct_value_rdrp',\n",
            "       '>35_ct_value_rdrp', '<20_posct_value_rdrp', '20-30_posct_value_rdrp',\n",
            "       '31-35_posct_value_rdrp', '>35_posct_value_rdrp',\n",
            "       'negative_orf1b_confirmatory', 'positive_orf1b_confirmatory',\n",
            "       'Failed_test_orf1b_confirmatory', '<20_ct_value_orf1b',\n",
            "       '20-30_ct_value_orf1b', '31-35_ct_value_orf1b', '>35_ct_value_orf1b',\n",
            "       '<20_posct_value_orf1b', '20-30_posct_value_orf1b',\n",
            "       '31-35_posct_value_orf1b', '>35_posct_value_orf1b', '3', 'D_pos', 'K',\n",
            "       'R', 'P', 'H', '5', '7', '8', 'S', '\\', 'V', '1', '4', '6', '9', '.',\n",
            "       'B', '-', '`', 'Q'],\n",
            "      dtype='object')\n",
            "['kerala' 'uttar pradesh' 'andhra pradesh' 'bihar' 'jammu and kashmir'\n",
            " 'telangana' 'maharashtra' 'delhi' 'karnataka' 'jharkhand' 'punjab'\n",
            " 'tamil nadu' 'haryana' 'rajasthan' 'madhya pradesh' 'west bengal' 'goa'\n",
            " 'gujarat' 'india' 'chhattisgarh' 'odisha' 'uttarakhand' 'assam' 'manipur'\n",
            " 'chandigarh' 'puducherry' 'ladakh' 'mizoram' 'himachal pradesh'\n",
            " 'daman and diu' 'andaman and nicobar islands' 'tripura' 'meghalaya'\n",
            " 'sikkim' 'arunachal pradesh' 'dadra and nagar haveli' 'nagaland'\n",
            " 'lakshadweep']\n"
          ]
        }
      ],
      "source": [
        "df = pd.read_csv('/content/drive/MyDrive/covid-final-all.csv')\n",
        "df['state_residence'] = df.apply(lambda row: row['state_residence'].lower(), axis=1)\n",
        "print(df.columns)\n",
        "print(df.state_residence.unique())\n",
        "df.head()\n",
        "df=df.groupby(['Date']).agg({'<15_pos': 'sum', '15-24_pos': 'sum', '25-34_pos':'sum', '35-44_pos':'sum', '45-59_pos':'sum', '60-80_pos':'sum', '>80_pos':'sum', 'new_case': 'sum'}).reset_index()\n",
        "df.head()\n",
        "\n",
        "date = df.iloc[train_for + 1]['Date']"
      ]
    },
    {
      "cell_type": "code",
      "execution_count": null,
      "metadata": {
        "id": "tstVVjodfEk4"
      },
      "outputs": [],
      "source": [
        "age_groups = ['<15_pos', '15-24_pos', '25-34_pos', '35-44_pos', '45-59_pos', '60-80_pos', '>80_pos']\n",
        "\n",
        "df_age_wise = {}\n",
        "\n",
        "for age_group in age_groups:\n",
        "  df_age_wise[age_group] = df[age_group].values\n",
        "\n",
        "df_total = df['new_case'].values\n"
      ]
    },
    {
      "cell_type": "code",
      "execution_count": null,
      "metadata": {
        "id": "st544F7XfG3W"
      },
      "outputs": [],
      "source": [
        "models = {}\n",
        "for age_group in age_groups:\n",
        "  models[age_group] = Model(df_age_wise[age_group][:train_for])"
      ]
    },
    {
      "cell_type": "code",
      "execution_count": null,
      "metadata": {
        "colab": {
          "base_uri": "https://localhost:8080/"
        },
        "id": "T5LRX7byfKp-",
        "outputId": "fe71a91e-558e-40b3-cbbb-8375cd84c060"
      },
      "outputs": [
        {
          "output_type": "stream",
          "name": "stdout",
          "text": [
            "*************************************************************\n",
            "0 / 7\n",
            "*************************************************************\n",
            "Epoch 1/10\n",
            "22/22 [==============================] - 11s 57ms/step - loss: 4.8837e-04\n",
            "Epoch 2/10\n",
            "22/22 [==============================] - 1s 58ms/step - loss: 2.9932e-04\n",
            "Epoch 3/10\n",
            "22/22 [==============================] - 1s 57ms/step - loss: 2.6929e-04\n",
            "Epoch 4/10\n",
            "22/22 [==============================] - 1s 56ms/step - loss: 2.3601e-04\n",
            "Epoch 5/10\n",
            "22/22 [==============================] - 1s 55ms/step - loss: 2.2150e-04\n",
            "Epoch 6/10\n",
            "22/22 [==============================] - 1s 57ms/step - loss: 2.3152e-04\n",
            "Epoch 7/10\n",
            "22/22 [==============================] - 1s 57ms/step - loss: 2.1617e-04\n",
            "Epoch 8/10\n",
            "22/22 [==============================] - 1s 68ms/step - loss: 2.0655e-04\n",
            "Epoch 9/10\n",
            "22/22 [==============================] - 1s 66ms/step - loss: 2.0170e-04\n",
            "Epoch 10/10\n",
            "22/22 [==============================] - 1s 55ms/step - loss: 1.8777e-04\n",
            "Epoch 1/4\n",
            "22/22 [==============================] - 6s 57ms/step - loss: 0.0115\n",
            "Epoch 2/4\n",
            "22/22 [==============================] - 1s 56ms/step - loss: 0.0050\n",
            "Epoch 3/4\n",
            "22/22 [==============================] - 1s 56ms/step - loss: 0.0037\n",
            "Epoch 4/4\n",
            "22/22 [==============================] - 1s 55ms/step - loss: 0.0030\n",
            "*************************************************************\n",
            "1 / 7\n",
            "*************************************************************\n",
            "Epoch 1/10\n",
            "22/22 [==============================] - 6s 64ms/step - loss: 0.0000e+00\n",
            "Epoch 2/10\n",
            "22/22 [==============================] - 1s 60ms/step - loss: 0.0000e+00\n",
            "Epoch 3/10\n",
            "22/22 [==============================] - 1s 54ms/step - loss: 0.0000e+00\n",
            "Epoch 4/10\n",
            "22/22 [==============================] - 1s 52ms/step - loss: 0.0000e+00\n",
            "Epoch 5/10\n",
            "22/22 [==============================] - 1s 52ms/step - loss: 0.0000e+00\n",
            "Epoch 6/10\n",
            "22/22 [==============================] - 1s 54ms/step - loss: 0.0000e+00\n",
            "Epoch 7/10\n",
            "22/22 [==============================] - 1s 52ms/step - loss: 0.0000e+00\n",
            "Epoch 8/10\n",
            "22/22 [==============================] - 1s 54ms/step - loss: 0.0000e+00\n",
            "Epoch 9/10\n",
            "22/22 [==============================] - 1s 55ms/step - loss: 0.0000e+00\n",
            "Epoch 10/10\n",
            "22/22 [==============================] - 1s 54ms/step - loss: 0.0000e+00\n",
            "Epoch 1/4\n",
            "22/22 [==============================] - 6s 71ms/step - loss: 0.0000e+00\n",
            "Epoch 2/4\n",
            "22/22 [==============================] - 1s 62ms/step - loss: 0.0000e+00\n",
            "Epoch 3/4\n",
            "22/22 [==============================] - 1s 55ms/step - loss: 0.0000e+00\n",
            "Epoch 4/4\n",
            "22/22 [==============================] - 1s 57ms/step - loss: 0.0000e+00\n",
            "*************************************************************\n",
            "2 / 7\n",
            "*************************************************************\n",
            "Epoch 1/10\n",
            "22/22 [==============================] - 5s 53ms/step - loss: 6.9061e-04\n",
            "Epoch 2/10\n",
            "22/22 [==============================] - 1s 56ms/step - loss: 3.3465e-04\n",
            "Epoch 3/10\n",
            "22/22 [==============================] - 1s 65ms/step - loss: 1.8593e-04\n",
            "Epoch 4/10\n",
            "22/22 [==============================] - 2s 70ms/step - loss: 2.2781e-04\n",
            "Epoch 5/10\n",
            "22/22 [==============================] - 1s 53ms/step - loss: 1.9400e-04\n",
            "Epoch 6/10\n",
            "22/22 [==============================] - 1s 53ms/step - loss: 1.8071e-04\n",
            "Epoch 7/10\n",
            "22/22 [==============================] - 1s 54ms/step - loss: 1.6434e-04\n",
            "Epoch 8/10\n",
            "22/22 [==============================] - 1s 52ms/step - loss: 1.7853e-04\n",
            "Epoch 9/10\n",
            "22/22 [==============================] - 1s 53ms/step - loss: 2.7594e-04\n",
            "Epoch 10/10\n",
            "22/22 [==============================] - 1s 53ms/step - loss: 2.2881e-04\n",
            "Epoch 1/4\n",
            "22/22 [==============================] - 10s 69ms/step - loss: 0.0093\n",
            "Epoch 2/4\n",
            "22/22 [==============================] - 1s 58ms/step - loss: 0.0059\n",
            "Epoch 3/4\n",
            "22/22 [==============================] - 1s 53ms/step - loss: 0.0046\n",
            "Epoch 4/4\n",
            "22/22 [==============================] - 1s 53ms/step - loss: 0.0032\n",
            "*************************************************************\n",
            "3 / 7\n",
            "*************************************************************\n",
            "Epoch 1/10\n",
            "22/22 [==============================] - 6s 50ms/step - loss: 0.0011\n",
            "Epoch 2/10\n",
            "22/22 [==============================] - 1s 53ms/step - loss: 2.4901e-04\n",
            "Epoch 3/10\n",
            "22/22 [==============================] - 1s 64ms/step - loss: 1.9898e-04\n",
            "Epoch 4/10\n",
            "22/22 [==============================] - 1s 66ms/step - loss: 1.7747e-04\n",
            "Epoch 5/10\n",
            "22/22 [==============================] - 2s 70ms/step - loss: 1.6971e-04\n",
            "Epoch 6/10\n",
            "22/22 [==============================] - 2s 73ms/step - loss: 1.6011e-04\n",
            "Epoch 7/10\n",
            "22/22 [==============================] - 2s 72ms/step - loss: 1.6225e-04\n",
            "Epoch 8/10\n",
            "22/22 [==============================] - 2s 74ms/step - loss: 1.6927e-04\n",
            "Epoch 9/10\n",
            "22/22 [==============================] - 2s 75ms/step - loss: 1.8553e-04\n",
            "Epoch 10/10\n",
            "22/22 [==============================] - 1s 59ms/step - loss: 1.4424e-04\n",
            "Epoch 1/4\n",
            "22/22 [==============================] - 6s 61ms/step - loss: 0.0090\n",
            "Epoch 2/4\n",
            "22/22 [==============================] - 1s 63ms/step - loss: 0.0038\n",
            "Epoch 3/4\n",
            "22/22 [==============================] - 1s 67ms/step - loss: 0.0029\n",
            "Epoch 4/4\n",
            "22/22 [==============================] - 2s 75ms/step - loss: 0.0020\n",
            "*************************************************************\n",
            "4 / 7\n",
            "*************************************************************\n",
            "Epoch 1/10\n",
            "22/22 [==============================] - 7s 62ms/step - loss: 5.6404e-04\n",
            "Epoch 2/10\n",
            "22/22 [==============================] - 2s 73ms/step - loss: 3.9097e-04\n",
            "Epoch 3/10\n",
            "22/22 [==============================] - 2s 73ms/step - loss: 2.2050e-04\n",
            "Epoch 4/10\n",
            "22/22 [==============================] - 1s 62ms/step - loss: 2.4030e-04\n",
            "Epoch 5/10\n",
            "22/22 [==============================] - 1s 60ms/step - loss: 1.6623e-04\n",
            "Epoch 6/10\n",
            "22/22 [==============================] - 1s 59ms/step - loss: 1.7608e-04\n",
            "Epoch 7/10\n",
            "22/22 [==============================] - 1s 60ms/step - loss: 1.6377e-04\n",
            "Epoch 8/10\n",
            "22/22 [==============================] - 1s 60ms/step - loss: 1.6604e-04\n",
            "Epoch 9/10\n",
            "22/22 [==============================] - 1s 60ms/step - loss: 1.6048e-04\n",
            "Epoch 10/10\n",
            "22/22 [==============================] - 1s 59ms/step - loss: 1.6824e-04\n",
            "Epoch 1/4\n",
            "22/22 [==============================] - 6s 55ms/step - loss: 0.0101\n",
            "Epoch 2/4\n",
            "22/22 [==============================] - 1s 55ms/step - loss: 0.0051\n",
            "Epoch 3/4\n",
            "22/22 [==============================] - 1s 55ms/step - loss: 0.0033\n",
            "Epoch 4/4\n",
            "22/22 [==============================] - 1s 55ms/step - loss: 0.0023\n",
            "*************************************************************\n",
            "5 / 7\n",
            "*************************************************************\n",
            "Epoch 1/10\n",
            "22/22 [==============================] - 7s 52ms/step - loss: 6.2671e-04\n",
            "Epoch 2/10\n",
            "22/22 [==============================] - 1s 51ms/step - loss: 2.8151e-04\n",
            "Epoch 3/10\n",
            "22/22 [==============================] - 1s 53ms/step - loss: 1.9477e-04\n",
            "Epoch 4/10\n",
            "22/22 [==============================] - 1s 54ms/step - loss: 1.7945e-04\n",
            "Epoch 5/10\n",
            "22/22 [==============================] - 1s 64ms/step - loss: 1.6949e-04\n",
            "Epoch 6/10\n",
            "22/22 [==============================] - 1s 65ms/step - loss: 1.7986e-04\n",
            "Epoch 7/10\n",
            "22/22 [==============================] - 1s 54ms/step - loss: 1.8798e-04\n",
            "Epoch 8/10\n",
            "22/22 [==============================] - 1s 53ms/step - loss: 2.0081e-04\n",
            "Epoch 9/10\n",
            "22/22 [==============================] - 1s 55ms/step - loss: 1.8136e-04\n",
            "Epoch 10/10\n",
            "22/22 [==============================] - 1s 54ms/step - loss: 1.6726e-04\n",
            "Epoch 1/4\n",
            "22/22 [==============================] - 7s 56ms/step - loss: 0.0094\n",
            "Epoch 2/4\n",
            "22/22 [==============================] - 1s 55ms/step - loss: 0.0043\n",
            "Epoch 3/4\n",
            "22/22 [==============================] - 1s 53ms/step - loss: 0.0033\n",
            "Epoch 4/4\n",
            "22/22 [==============================] - 1s 63ms/step - loss: 0.0028\n",
            "*************************************************************\n",
            "6 / 7\n",
            "*************************************************************\n",
            "Epoch 1/10\n",
            "22/22 [==============================] - 6s 55ms/step - loss: 7.5877e-04\n",
            "Epoch 2/10\n",
            "22/22 [==============================] - 1s 53ms/step - loss: 2.7073e-04\n",
            "Epoch 3/10\n",
            "22/22 [==============================] - 1s 52ms/step - loss: 2.3036e-04\n",
            "Epoch 4/10\n",
            "22/22 [==============================] - 1s 55ms/step - loss: 1.8642e-04\n",
            "Epoch 5/10\n",
            "22/22 [==============================] - 1s 54ms/step - loss: 1.9009e-04\n",
            "Epoch 6/10\n",
            "22/22 [==============================] - 1s 54ms/step - loss: 1.6786e-04\n",
            "Epoch 7/10\n",
            "22/22 [==============================] - 1s 64ms/step - loss: 1.5517e-04\n",
            "Epoch 8/10\n",
            "22/22 [==============================] - 1s 64ms/step - loss: 1.7161e-04\n",
            "Epoch 9/10\n",
            "22/22 [==============================] - 1s 54ms/step - loss: 1.5659e-04\n",
            "Epoch 10/10\n",
            "22/22 [==============================] - 1s 54ms/step - loss: 1.6955e-04\n",
            "Epoch 1/4\n",
            "22/22 [==============================] - 6s 55ms/step - loss: 0.0102\n",
            "Epoch 2/4\n",
            "22/22 [==============================] - 1s 54ms/step - loss: 0.0040\n",
            "Epoch 3/4\n",
            "22/22 [==============================] - 1s 64ms/step - loss: 0.0025\n",
            "Epoch 4/4\n",
            "22/22 [==============================] - 1s 68ms/step - loss: 0.0026\n"
          ]
        }
      ],
      "source": [
        "counter = 0\n",
        "for age_group in age_groups:\n",
        "  print('*************************************************************')\n",
        "  print(counter, \"/\", len(age_groups))\n",
        "  print('*************************************************************')\n",
        "  counter += 1\n",
        "  models[age_group].fit()"
      ]
    },
    {
      "cell_type": "code",
      "execution_count": null,
      "metadata": {
        "id": "1Lb1HKltfONS"
      },
      "outputs": [],
      "source": [
        "def mape_(p, a):\n",
        "  m = 0.0\n",
        "  for i in range(len(p)):\n",
        "    m += abs(p[i] - a[i]) / a[i]\n",
        "  return( m / len(p)) * 100"
      ]
    },
    {
      "cell_type": "code",
      "execution_count": null,
      "metadata": {
        "colab": {
          "base_uri": "https://localhost:8080/"
        },
        "id": "pfXWPfeCfQv7",
        "outputId": "302315f5-506e-4800-e742-9a9923e5f71e"
      },
      "outputs": [
        {
          "output_type": "stream",
          "name": "stdout",
          "text": [
            "1/1 [==============================] - 1s 903ms/step\n",
            "1/1 [==============================] - 1s 889ms/step\n",
            "1/1 [==============================] - 0s 24ms/step\n",
            "1/1 [==============================] - 0s 37ms/step\n",
            "1/1 [==============================] - 0s 21ms/step\n",
            "1/1 [==============================] - 0s 24ms/step\n",
            "1/1 [==============================] - 0s 23ms/step\n",
            "1/1 [==============================] - 0s 20ms/step\n",
            "1/1 [==============================] - 0s 23ms/step\n",
            "1/1 [==============================] - 0s 26ms/step\n",
            "1/1 [==============================] - 0s 22ms/step\n",
            "1/1 [==============================] - 0s 24ms/step\n",
            "1/1 [==============================] - 0s 27ms/step\n",
            "1/1 [==============================] - 0s 24ms/step\n",
            "1/1 [==============================] - 0s 21ms/step\n",
            "1/1 [==============================] - 0s 22ms/step\n",
            "1/1 [==============================] - 0s 20ms/step\n",
            "1/1 [==============================] - 0s 25ms/step\n",
            "1/1 [==============================] - 0s 22ms/step\n",
            "1/1 [==============================] - 0s 25ms/step\n",
            "1/1 [==============================] - 0s 25ms/step\n",
            "1/1 [==============================] - 0s 28ms/step\n",
            "1/1 [==============================] - 0s 24ms/step\n",
            "1/1 [==============================] - 0s 33ms/step\n",
            "1/1 [==============================] - 0s 21ms/step\n",
            "1/1 [==============================] - 0s 21ms/step\n",
            "1/1 [==============================] - 0s 20ms/step\n",
            "1/1 [==============================] - 0s 22ms/step\n",
            "1/1 [==============================] - 1s 866ms/step\n",
            "1/1 [==============================] - 1s 890ms/step\n",
            "1/1 [==============================] - 0s 25ms/step\n",
            "1/1 [==============================] - 0s 22ms/step\n",
            "1/1 [==============================] - 0s 23ms/step\n",
            "1/1 [==============================] - 0s 26ms/step\n",
            "1/1 [==============================] - 0s 22ms/step\n",
            "1/1 [==============================] - 0s 28ms/step\n",
            "1/1 [==============================] - 0s 19ms/step\n",
            "1/1 [==============================] - 0s 34ms/step\n",
            "1/1 [==============================] - 0s 38ms/step\n",
            "1/1 [==============================] - 0s 32ms/step\n",
            "1/1 [==============================] - 0s 27ms/step\n",
            "1/1 [==============================] - 0s 32ms/step\n",
            "1/1 [==============================] - 0s 38ms/step\n",
            "1/1 [==============================] - 0s 27ms/step\n",
            "1/1 [==============================] - 0s 29ms/step\n",
            "1/1 [==============================] - 0s 26ms/step\n",
            "1/1 [==============================] - 0s 27ms/step\n",
            "1/1 [==============================] - 0s 27ms/step\n",
            "1/1 [==============================] - 0s 31ms/step\n",
            "1/1 [==============================] - 0s 29ms/step\n",
            "1/1 [==============================] - 0s 30ms/step\n",
            "1/1 [==============================] - 0s 31ms/step\n",
            "1/1 [==============================] - 0s 32ms/step\n",
            "1/1 [==============================] - 0s 31ms/step\n",
            "1/1 [==============================] - 0s 28ms/step\n",
            "1/1 [==============================] - 0s 32ms/step\n",
            "1/1 [==============================] - 1s 1s/step\n",
            "1/1 [==============================] - 1s 907ms/step\n",
            "1/1 [==============================] - 0s 23ms/step\n",
            "1/1 [==============================] - 0s 27ms/step\n",
            "1/1 [==============================] - 0s 26ms/step\n",
            "1/1 [==============================] - 0s 20ms/step\n",
            "1/1 [==============================] - 0s 24ms/step\n",
            "1/1 [==============================] - 0s 28ms/step\n",
            "1/1 [==============================] - 0s 24ms/step\n",
            "1/1 [==============================] - 0s 26ms/step\n",
            "1/1 [==============================] - 0s 21ms/step\n",
            "1/1 [==============================] - 0s 25ms/step\n",
            "1/1 [==============================] - 0s 22ms/step\n",
            "1/1 [==============================] - 0s 23ms/step\n",
            "1/1 [==============================] - 0s 23ms/step\n",
            "1/1 [==============================] - 0s 28ms/step\n",
            "1/1 [==============================] - 0s 20ms/step\n",
            "1/1 [==============================] - 0s 21ms/step\n",
            "1/1 [==============================] - 0s 24ms/step\n",
            "1/1 [==============================] - 0s 24ms/step\n",
            "1/1 [==============================] - 0s 20ms/step\n",
            "1/1 [==============================] - 0s 19ms/step\n",
            "1/1 [==============================] - 0s 23ms/step\n",
            "1/1 [==============================] - 0s 19ms/step\n",
            "1/1 [==============================] - 0s 26ms/step\n",
            "1/1 [==============================] - 0s 32ms/step\n",
            "1/1 [==============================] - 0s 22ms/step\n",
            "1/1 [==============================] - 0s 21ms/step\n",
            "1/1 [==============================] - 1s 877ms/step\n",
            "1/1 [==============================] - 1s 835ms/step\n",
            "1/1 [==============================] - 0s 22ms/step\n",
            "1/1 [==============================] - 0s 26ms/step\n",
            "1/1 [==============================] - 0s 24ms/step\n",
            "1/1 [==============================] - 0s 21ms/step\n",
            "1/1 [==============================] - 0s 20ms/step\n",
            "1/1 [==============================] - 0s 22ms/step\n",
            "1/1 [==============================] - 0s 21ms/step\n",
            "1/1 [==============================] - 0s 29ms/step\n",
            "1/1 [==============================] - 0s 22ms/step\n",
            "1/1 [==============================] - 0s 22ms/step\n",
            "1/1 [==============================] - 0s 23ms/step\n",
            "1/1 [==============================] - 0s 25ms/step\n",
            "1/1 [==============================] - 0s 21ms/step\n",
            "1/1 [==============================] - 0s 21ms/step\n",
            "1/1 [==============================] - 0s 20ms/step\n",
            "1/1 [==============================] - 0s 24ms/step\n",
            "1/1 [==============================] - 0s 26ms/step\n",
            "1/1 [==============================] - 0s 21ms/step\n",
            "1/1 [==============================] - 0s 20ms/step\n",
            "1/1 [==============================] - 0s 22ms/step\n",
            "1/1 [==============================] - 0s 24ms/step\n",
            "1/1 [==============================] - 0s 27ms/step\n",
            "1/1 [==============================] - 0s 23ms/step\n",
            "1/1 [==============================] - 0s 24ms/step\n",
            "1/1 [==============================] - 0s 22ms/step\n",
            "1/1 [==============================] - 0s 32ms/step\n",
            "1/1 [==============================] - 1s 869ms/step\n",
            "1/1 [==============================] - 1s 905ms/step\n",
            "1/1 [==============================] - 0s 23ms/step\n",
            "1/1 [==============================] - 0s 23ms/step\n",
            "1/1 [==============================] - 0s 29ms/step\n",
            "1/1 [==============================] - 0s 22ms/step\n",
            "1/1 [==============================] - 0s 22ms/step\n",
            "1/1 [==============================] - 0s 20ms/step\n",
            "1/1 [==============================] - 0s 19ms/step\n",
            "1/1 [==============================] - 0s 20ms/step\n",
            "1/1 [==============================] - 0s 20ms/step\n",
            "1/1 [==============================] - 0s 22ms/step\n",
            "1/1 [==============================] - 0s 23ms/step\n",
            "1/1 [==============================] - 0s 22ms/step\n",
            "1/1 [==============================] - 0s 22ms/step\n",
            "1/1 [==============================] - 0s 20ms/step\n",
            "1/1 [==============================] - 0s 24ms/step\n",
            "1/1 [==============================] - 0s 20ms/step\n",
            "1/1 [==============================] - 0s 28ms/step\n",
            "1/1 [==============================] - 0s 21ms/step\n",
            "1/1 [==============================] - 0s 24ms/step\n",
            "1/1 [==============================] - 0s 22ms/step\n",
            "1/1 [==============================] - 0s 23ms/step\n",
            "1/1 [==============================] - 0s 24ms/step\n",
            "1/1 [==============================] - 0s 27ms/step\n",
            "1/1 [==============================] - 0s 23ms/step\n",
            "1/1 [==============================] - 0s 22ms/step\n",
            "1/1 [==============================] - 0s 20ms/step\n",
            "1/1 [==============================] - 1s 1s/step\n",
            "1/1 [==============================] - 3s 3s/step\n",
            "1/1 [==============================] - 0s 24ms/step\n",
            "1/1 [==============================] - 0s 27ms/step\n",
            "1/1 [==============================] - 0s 24ms/step\n",
            "1/1 [==============================] - 0s 19ms/step\n",
            "1/1 [==============================] - 0s 19ms/step\n",
            "1/1 [==============================] - 0s 23ms/step\n",
            "1/1 [==============================] - 0s 22ms/step\n",
            "1/1 [==============================] - 0s 22ms/step\n",
            "1/1 [==============================] - 0s 23ms/step\n",
            "1/1 [==============================] - 0s 25ms/step\n",
            "1/1 [==============================] - 0s 22ms/step\n",
            "1/1 [==============================] - 0s 22ms/step\n",
            "1/1 [==============================] - 0s 28ms/step\n",
            "1/1 [==============================] - 0s 23ms/step\n",
            "1/1 [==============================] - 0s 22ms/step\n",
            "1/1 [==============================] - 0s 22ms/step\n",
            "1/1 [==============================] - 0s 23ms/step\n",
            "1/1 [==============================] - 0s 24ms/step\n",
            "1/1 [==============================] - 0s 31ms/step\n",
            "1/1 [==============================] - 0s 26ms/step\n",
            "1/1 [==============================] - 0s 26ms/step\n",
            "1/1 [==============================] - 0s 28ms/step\n",
            "1/1 [==============================] - 0s 24ms/step\n",
            "1/1 [==============================] - 0s 22ms/step\n",
            "1/1 [==============================] - 0s 25ms/step\n",
            "1/1 [==============================] - 0s 21ms/step\n",
            "1/1 [==============================] - 1s 884ms/step\n",
            "1/1 [==============================] - 1s 843ms/step\n",
            "1/1 [==============================] - 0s 23ms/step\n",
            "1/1 [==============================] - 0s 21ms/step\n",
            "1/1 [==============================] - 0s 24ms/step\n",
            "1/1 [==============================] - 0s 20ms/step\n",
            "1/1 [==============================] - 0s 25ms/step\n",
            "1/1 [==============================] - 0s 21ms/step\n",
            "1/1 [==============================] - 0s 20ms/step\n",
            "1/1 [==============================] - 0s 27ms/step\n",
            "1/1 [==============================] - 0s 22ms/step\n",
            "1/1 [==============================] - 0s 21ms/step\n",
            "1/1 [==============================] - 0s 23ms/step\n",
            "1/1 [==============================] - 0s 21ms/step\n",
            "1/1 [==============================] - 0s 22ms/step\n",
            "1/1 [==============================] - 0s 21ms/step\n",
            "1/1 [==============================] - 0s 22ms/step\n",
            "1/1 [==============================] - 0s 20ms/step\n",
            "1/1 [==============================] - 0s 26ms/step\n",
            "1/1 [==============================] - 0s 20ms/step\n",
            "1/1 [==============================] - 0s 20ms/step\n",
            "1/1 [==============================] - 0s 26ms/step\n",
            "1/1 [==============================] - 0s 22ms/step\n",
            "1/1 [==============================] - 0s 20ms/step\n",
            "1/1 [==============================] - 0s 30ms/step\n",
            "1/1 [==============================] - 0s 23ms/step\n",
            "1/1 [==============================] - 0s 23ms/step\n",
            "1/1 [==============================] - 0s 27ms/step\n"
          ]
        }
      ],
      "source": [
        "predictions = models[age_groups[0]].predict(predict_for)\n",
        "\n",
        "for i in range(1, len(age_groups)):\n",
        "  predictions = predictions + models[age_groups[i]].predict(predict_for)"
      ]
    },
    {
      "cell_type": "code",
      "execution_count": null,
      "metadata": {
        "colab": {
          "base_uri": "https://localhost:8080/"
        },
        "id": "C7xV1Iiygwbj",
        "outputId": "49f7abbc-ef90-46f5-dfff-44672e6e6206"
      },
      "outputs": [
        {
          "output_type": "stream",
          "name": "stdout",
          "text": [
            "MAPE: 73.3514699864017\n"
          ]
        }
      ],
      "source": [
        "actual = df_total[train_for:train_for+predict_for]\n",
        "\n",
        "MAPE = mape_(predictions, actual)\n",
        "print(\"MAPE:\", MAPE)"
      ]
    },
    {
      "cell_type": "code",
      "execution_count": null,
      "metadata": {
        "id": "CbjLA82W0voQ"
      },
      "outputs": [],
      "source": [
        "import matplotlib.pyplot as plt\n",
        "def append(a, b):\n",
        "  c = []\n",
        "  for ai in a:\n",
        "    c.append(ai)\n",
        "  for bi in b:\n",
        "    c.append(bi)\n",
        "  return c"
      ]
    },
    {
      "cell_type": "code",
      "execution_count": null,
      "metadata": {
        "colab": {
          "base_uri": "https://localhost:8080/",
          "height": 472
        },
        "id": "xZT5JDBh0xkB",
        "outputId": "3bfe7d27-3bd4-4949-830d-9ff7bb525efa"
      },
      "outputs": [
        {
          "output_type": "display_data",
          "data": {
            "text/plain": [
              "<Figure size 640x480 with 1 Axes>"
            ],
            "image/png": "[encoded data removed]"
          },
          "metadata": {}
        }
      ],
      "source": [
        "window = 100\n",
        "plt.figure()\n",
        "plt.title(\"Predictions vs Actual results\")\n",
        "plt.plot(append(df_total[train_for - window:train_for], predictions), label=\"Predictions\")\n",
        "plt.plot(append(df_total[train_for - window:train_for], actual), label=\"Actual\")\n",
        "plt.xlabel(\"Time axis (Predictions for 14 days from \" + date)\n",
        "plt.ylabel(\"Number of covid cases\")\n",
        "plt.axvline(window, color = 'red', label = \"predictions on right of this line\")\n",
        "plt.legend()\n",
        "plt.show()"
      ]
    },
    {
      "cell_type": "code",
      "source": [
        "counter = 0\n",
        "for age_group in age_groups:\n",
        "  print('*************************************************************')\n",
        "  print(counter, \"/\", len(age_groups))\n",
        "  print('*************************************************************')\n",
        "  counter += 1\n",
        "  models[age_group].model_strong.save(\"/content/drive/MyDrive/saved_models/model_strong_\" + age_group + \"_\" + date + \".h5\")\n",
        "  models[age_group].model_weak.save(\"/content/drive/MyDrive/saved_models/model_weak_\" + age_group + \"_\" + date + \".h5\")"
      ],
      "metadata": {
        "colab": {
          "base_uri": "https://localhost:8080/"
        },
        "id": "qQ2PnwqdJkOX",
        "outputId": "62c9b221-edbe-41c1-ec3b-d299f6f00ebf"
      },
      "execution_count": null,
      "outputs": [
        {
          "output_type": "stream",
          "name": "stdout",
          "text": [
            "*************************************************************\n",
            "0 / 7\n",
            "*************************************************************\n",
            "*************************************************************\n",
            "1 / 7\n",
            "*************************************************************\n",
            "*************************************************************\n",
            "2 / 7\n",
            "*************************************************************\n",
            "*************************************************************\n",
            "3 / 7\n",
            "*************************************************************\n",
            "*************************************************************\n",
            "4 / 7\n",
            "*************************************************************\n",
            "*************************************************************\n",
            "5 / 7\n",
            "*************************************************************\n",
            "*************************************************************\n",
            "6 / 7\n",
            "*************************************************************\n"
          ]
        }
      ]
    },
    {
      "cell_type": "code",
      "source": [
        "print(predictions)"
      ],
      "metadata": {
        "colab": {
          "base_uri": "https://localhost:8080/"
        },
        "id": "DPI4GTKoJ4vz",
        "outputId": "6c02b175-f1df-40c0-9c86-36214e049af3"
      },
      "execution_count": null,
      "outputs": [
        {
          "output_type": "stream",
          "name": "stdout",
          "text": [
            "[53406.594 65619.88  75363.77  82008.57  85636.82  86687.31  85742.64\n",
            " 83377.96  80095.82  76298.52  72286.984 68271.62  64382.285 60701.57 ]\n"
          ]
        }
      ]
    },
    {
      "cell_type": "code",
      "source": [
        "print(actual)"
      ],
      "metadata": {
        "colab": {
          "base_uri": "https://localhost:8080/"
        },
        "id": "uYVZU9oLM35t",
        "outputId": "55561f46-2ede-42ef-b1e2-05a554ac920a"
      },
      "execution_count": null,
      "outputs": [
        {
          "output_type": "stream",
          "name": "stdout",
          "text": [
            "[210776. 151381. 296176. 294335. 301381. 299917. 271532. 282287. 192190.\n",
            " 395946. 378298. 380601. 366328. 355255.]\n"
          ]
        }
      ]
    }
  ],
  "metadata": {
    "colab": {
      "provenance": []
    },
    "kernelspec": {
      "display_name": "Python 3",
      "name": "python3"
    },
    "language_info": {
      "name": "python"
    }
  },
  "nbformat": 4,
  "nbformat_minor": 0
}