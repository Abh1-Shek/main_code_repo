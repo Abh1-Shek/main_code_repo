{
  "cells": [
    {
      "cell_type": "code",
      "execution_count": null,
      "metadata": {
        "id": "j7aA5LBCYIRW"
      },
      "outputs": [],
      "source": [
        "from tensorflow.keras.models import Sequential\n",
        "from tensorflow.keras.layers import Dense, Dropout, LSTM\n",
        "from sklearn.preprocessing import MinMaxScaler\n",
        "import numpy as np\n",
        "import matplotlib.pyplot as plt\n",
        "import pandas as pd\n",
        "from sklearn.model_selection import train_test_split\n",
        "import tensorflow as tf\n",
        "from tensorflow import keras\n",
        "from sklearn.metrics import mean_squared_error"
      ]
    },
    {
      "cell_type": "code",
      "source": [
        "train_for = 600\n",
        "predict_for = 14"
      ],
      "metadata": {
        "id": "K-KKOL8EKFp-"
      },
      "execution_count": null,
      "outputs": []
    },
    {
      "cell_type": "code",
      "execution_count": null,
      "metadata": {
        "id": "n_AElTR-a8R_"
      },
      "outputs": [],
      "source": [
        "def smoothen_freq(df):\n",
        "  x = df\n",
        "  nan_indices = np.isnan(x)\n",
        "\n",
        "  # # Remove the NaN values from the array\n",
        "  x = x[np.logical_not(nan_indices)]\n",
        "\n",
        "  # Generate a noisy signal\n",
        "  signal = x\n",
        "\n",
        "  # Apply Fourier transform to the signal\n",
        "  f_signal = np.fft.fft(signal)\n",
        "\n",
        "  # Calculate the power spectrum\n",
        "  power = np.abs(f_signal)**2\n",
        "\n",
        "  # Set a threshold to remove the noise\n",
        "  threshold = 0.005 * max(power)\n",
        "  f_signal[power < threshold] = 0\n",
        "\n",
        "  # Apply inverse Fourier transform to the filtered signal\n",
        "  filtered_signal = np.fft.ifft(f_signal)\n",
        "\n",
        "  return filtered_signal\n"
      ]
    },
    {
      "cell_type": "code",
      "execution_count": null,
      "metadata": {
        "id": "bGrJbl8Za90U"
      },
      "outputs": [],
      "source": [
        "look_back = 50\n",
        "\n",
        "def prepare_data(df):\n",
        "    X = []\n",
        "    y = []\n",
        "    for i in range(look_back, len(df)):\n",
        "        y.append(df[i])\n",
        "        X.append(df[i - look_back:i])\n",
        "    return np.array(X), np.array(y)"
      ]
    },
    {
      "cell_type": "code",
      "execution_count": null,
      "metadata": {
        "id": "HDo0Y7w_a_Fv"
      },
      "outputs": [],
      "source": [
        "def scale(df, scaler):\n",
        "  simple_array = np.array(df).reshape(-1, 1)\n",
        "  ssimple_array = scaler.fit_transform(simple_array)\n",
        "  return np.array(ssimple_array).reshape((-1, ))\n",
        "\n",
        "def descaled(df, scaler):\n",
        "  simple_array = np.array(df).reshape(-1, 1)\n",
        "  ssimple_array = scaler.inverse_transform(simple_array)\n",
        "  return np.array(ssimple_array).reshape((-1, ))"
      ]
    },
    {
      "cell_type": "code",
      "execution_count": null,
      "metadata": {
        "id": "0fx0JWzvbEhK"
      },
      "outputs": [],
      "source": [
        "class Model:\n",
        "  def __init__(self, df):\n",
        "    self.model=None\n",
        "    self.scaler = MinMaxScaler()\n",
        "    # self.df = smoothen_freq(df)\n",
        "    self.df = scale(df, self.scaler)\n",
        "    self.dfw, self.dfy = prepare_data(self.df)\n",
        "\n",
        "    model_strong = tf.keras.Sequential([\n",
        "        LSTM(units = 32, return_sequences=True, input_shape = (self.dfw.shape[1], 1)),\n",
        "        LSTM(units = 32, return_sequences=True),\n",
        "        LSTM(units = 32),\n",
        "        Dense(units = 32)\n",
        "    ])\n",
        "    \n",
        "    model_weak=tf.keras.Sequential([\n",
        "        LSTM(units = 32, return_sequences=True, input_shape = (self.dfw.shape[1], 1)),\n",
        "        Dropout(0.5),\n",
        "        LSTM(units = 32, return_sequences=True),\n",
        "        Dropout(0.5),\n",
        "        LSTM(units = 32),\n",
        "        Dropout(0.5),\n",
        "        Dense(units = 32)\n",
        "    ])\n",
        "\n",
        "    concatenated=tf.keras.layers.Concatenate()([model_strong.output, model_weak.output])\n",
        "    l1=tf.keras.layers.Dense(64)(concatenated)\n",
        "    l2=tf.keras.layers.Dense(32)(l1)\n",
        "    l3=tf.keras.layers.Dense(16)(l2)\n",
        "    l4=tf.keras.layers.Dense(8)(l3)\n",
        "    l5=tf.keras.layers.Dense(4)(l4)\n",
        "    l6=tf.keras.layers.Dense(2)(l5)\n",
        "    l7=tf.keras.layers.Dense(1)(l6)\n",
        "\n",
        "\n",
        "    \n",
        "\n",
        "    self.model=tf.keras.Model(inputs=[model_strong.input, model_weak.input], outputs=l7)\n",
        "    self.model.compile(optimizer = 'adam', loss = 'mean_squared_error')\n",
        "\n",
        "    \n",
        "\n",
        "  def fit(self):\n",
        "    y_train = self.dfy \n",
        "    \n",
        "    callback = tf.keras.callbacks.EarlyStopping(monitor='loss', patience=5)\n",
        "    self.model.fit([self.dfw, self.dfw], y_train, epochs = 100, callbacks=[callback])\n",
        "  \n",
        "  def predict(self, predict_for):\n",
        "    df_full = self.dfw[-1]\n",
        "\n",
        "    X_p = [df_full]\n",
        "    y_p = []\n",
        "\n",
        "    for i in range(predict_for):\n",
        "        yi = self.model.predict([np.array(X_p), np.array(X_p)])\n",
        "        y_p.append(yi[0][0])\n",
        "        \n",
        "        X_p = [np.append(X_p[0][1:], yi)]\n",
        "\n",
        "    return descaled(y_p, self.scaler)"
      ]
    },
    {
      "cell_type": "code",
      "execution_count": null,
      "metadata": {
        "colab": {
          "base_uri": "https://localhost:8080/"
        },
        "id": "tL_q4tvNc8co",
        "outputId": "f1c8fd4e-34bd-42ab-fb65-edffff654c75"
      },
      "outputs": [
        {
          "output_type": "stream",
          "name": "stdout",
          "text": [
            "Drive already mounted at /content/drive; to attempt to forcibly remount, call drive.mount(\"/content/drive\", force_remount=True).\n"
          ]
        }
      ],
      "source": [
        "from google.colab import drive\n",
        "drive.mount('/content/drive')"
      ]
    },
    {
      "cell_type": "code",
      "execution_count": null,
      "metadata": {
        "id": "5eI1g-UhiSe_"
      },
      "outputs": [],
      "source": [
        "def smoothen(df, period):\n",
        "    df_ma = df.copy()\n",
        "    for i in range(period, len(df)):\n",
        "        ma = 0\n",
        "        for j in range(i - period + 1, i + 1):\n",
        "            ma += df[j]\n",
        "        df_ma[i] = ma / period\n",
        "    return df_ma"
      ]
    },
    {
      "cell_type": "code",
      "execution_count": null,
      "metadata": {
        "id": "YqvKdnULci0E"
      },
      "outputs": [],
      "source": [
        "df = pd.read_csv('/content/drive/MyDrive/covid-final-all.csv')\n",
        "df['state_residence'] = df.apply(lambda row: row['state_residence'].lower(), axis=1)\n",
        "df=df.groupby(['Date']).agg({'F_pos': 'sum', 'M_pos': 'sum', 'T_pos':'sum', 'NIA_pos':'sum', 'new_case': 'sum'}).reset_index()\n",
        "\n",
        "date = df.iloc[train_for + 1]['Date']\n",
        "\n",
        "df_f = df['F_pos'].values\n",
        "df_m = df['M_pos'].values\n",
        "df_t = df['T_pos'].values\n",
        "df_nia = df['NIA_pos'].values\n",
        "\n",
        "df = df_f + df_m + df_t + df_nia\n",
        "df = smoothen(df, 3)"
      ]
    },
    {
      "cell_type": "code",
      "execution_count": null,
      "metadata": {
        "id": "6RB6qTtacnEq"
      },
      "outputs": [],
      "source": [
        "\n",
        "df_train = df[:train_for]\n",
        "df_test = df[train_for:train_for+predict_for]"
      ]
    },
    {
      "cell_type": "code",
      "execution_count": null,
      "metadata": {
        "id": "zdqdADHGcpID"
      },
      "outputs": [],
      "source": [
        "model = Model(df_train)"
      ]
    },
    {
      "cell_type": "code",
      "execution_count": null,
      "metadata": {
        "colab": {
          "base_uri": "https://localhost:8080/"
        },
        "id": "mEI18NQ1crcx",
        "outputId": "6703103e-9a5f-4b31-8630-e3d0bf5c1b9e"
      },
      "outputs": [
        {
          "output_type": "stream",
          "name": "stdout",
          "text": [
            "Epoch 1/100\n",
            "18/18 [==============================] - 15s 95ms/step - loss: 0.0210\n",
            "Epoch 2/100\n",
            "18/18 [==============================] - 2s 97ms/step - loss: 0.0072\n",
            "Epoch 3/100\n",
            "18/18 [==============================] - 2s 97ms/step - loss: 0.0036\n",
            "Epoch 4/100\n",
            "18/18 [==============================] - 2s 134ms/step - loss: 0.0033\n",
            "Epoch 5/100\n",
            "18/18 [==============================] - 3s 175ms/step - loss: 0.0024\n",
            "Epoch 6/100\n",
            "18/18 [==============================] - 2s 103ms/step - loss: 0.0020\n",
            "Epoch 7/100\n",
            "18/18 [==============================] - 2s 97ms/step - loss: 0.0023\n",
            "Epoch 8/100\n",
            "18/18 [==============================] - 2s 104ms/step - loss: 0.0022\n",
            "Epoch 9/100\n",
            "18/18 [==============================] - 2s 96ms/step - loss: 0.0017\n",
            "Epoch 10/100\n",
            "18/18 [==============================] - 2s 97ms/step - loss: 0.0019\n",
            "Epoch 11/100\n",
            "18/18 [==============================] - 2s 141ms/step - loss: 0.0017\n",
            "Epoch 12/100\n",
            "18/18 [==============================] - 3s 169ms/step - loss: 0.0017\n",
            "Epoch 13/100\n",
            "18/18 [==============================] - 2s 97ms/step - loss: 0.0018\n",
            "Epoch 14/100\n",
            "18/18 [==============================] - 2s 100ms/step - loss: 0.0026\n",
            "Epoch 15/100\n",
            "18/18 [==============================] - 2s 105ms/step - loss: 0.0019\n",
            "Epoch 16/100\n",
            "18/18 [==============================] - 2s 96ms/step - loss: 0.0016\n",
            "Epoch 17/100\n",
            "18/18 [==============================] - 2s 106ms/step - loss: 0.0017\n",
            "Epoch 18/100\n",
            "18/18 [==============================] - 3s 146ms/step - loss: 0.0017\n",
            "Epoch 19/100\n",
            "18/18 [==============================] - 3s 159ms/step - loss: 0.0026\n",
            "Epoch 20/100\n",
            "18/18 [==============================] - 2s 98ms/step - loss: 0.0018\n",
            "Epoch 21/100\n",
            "18/18 [==============================] - 2s 107ms/step - loss: 0.0021\n"
          ]
        }
      ],
      "source": [
        "model.fit()"
      ]
    },
    {
      "cell_type": "code",
      "execution_count": null,
      "metadata": {
        "colab": {
          "base_uri": "https://localhost:8080/"
        },
        "id": "y2EZuA7pcs5d",
        "outputId": "75d40dce-1c55-4fab-f3b5-cec81fbce0b4"
      },
      "outputs": [
        {
          "output_type": "stream",
          "name": "stdout",
          "text": [
            "1/1 [==============================] - 2s 2s/step\n",
            "1/1 [==============================] - 0s 31ms/step\n",
            "1/1 [==============================] - 0s 30ms/step\n",
            "1/1 [==============================] - 0s 29ms/step\n",
            "1/1 [==============================] - 0s 30ms/step\n",
            "1/1 [==============================] - 0s 29ms/step\n",
            "1/1 [==============================] - 0s 31ms/step\n",
            "1/1 [==============================] - 0s 33ms/step\n",
            "1/1 [==============================] - 0s 30ms/step\n",
            "1/1 [==============================] - 0s 30ms/step\n",
            "1/1 [==============================] - 0s 38ms/step\n",
            "1/1 [==============================] - 0s 31ms/step\n",
            "1/1 [==============================] - 0s 32ms/step\n",
            "1/1 [==============================] - 0s 31ms/step\n"
          ]
        }
      ],
      "source": [
        "y_pred = model.predict(predict_for)"
      ]
    },
    {
      "cell_type": "code",
      "execution_count": null,
      "metadata": {
        "colab": {
          "base_uri": "https://localhost:8080/"
        },
        "id": "-DiZq6Yncuij",
        "outputId": "a364823e-e838-4a07-e7fa-aecc5b8f398a"
      },
      "outputs": [
        {
          "output_type": "stream",
          "name": "stdout",
          "text": [
            "14\n",
            "14\n",
            "15.065983759806766\n"
          ]
        }
      ],
      "source": [
        "y_test = df_test\n",
        "\n",
        "\n",
        "def mape_(p, a):\n",
        "  print(len(p))\n",
        "  print(len(a))\n",
        "  # assert(len(p) == len(a))\n",
        "  m = 0.0\n",
        "  for i in range(len(p)):\n",
        "    m += abs(p[i] - a[i]) / a[i]\n",
        "  return( m / len(p)) * 100\n",
        "\n",
        "\n",
        "\n",
        "\n",
        "print(mape_(y_pred, y_test))"
      ]
    },
    {
      "cell_type": "code",
      "execution_count": null,
      "metadata": {
        "colab": {
          "base_uri": "https://localhost:8080/"
        },
        "id": "ZR1iu3lvdvZz",
        "outputId": "1ba3d528-93e8-439d-a0fa-db6d277aac5c"
      },
      "outputs": [
        {
          "output_type": "stream",
          "name": "stdout",
          "text": [
            "14\n",
            "14\n",
            "15.065983759806766\n"
          ]
        }
      ],
      "source": [
        "print(mape_(y_pred, y_test))"
      ]
    },
    {
      "cell_type": "code",
      "execution_count": null,
      "metadata": {
        "colab": {
          "base_uri": "https://localhost:8080/"
        },
        "id": "RKDWZG1ehdUM",
        "outputId": "55cd75a5-3dd6-44ac-823c-1bd22cc13a85"
      },
      "outputs": [
        {
          "output_type": "stream",
          "name": "stdout",
          "text": [
            "[36082.94  35789.008 35879.043 36275.83  36900.13  37687.848 38594.145\n",
            " 39591.3   40664.445 41807.055 43017.44  44296.152 45644.688 47064.582]\n"
          ]
        }
      ],
      "source": [
        "print(y_pred)"
      ]
    },
    {
      "cell_type": "code",
      "execution_count": null,
      "metadata": {
        "colab": {
          "base_uri": "https://localhost:8080/"
        },
        "id": "RQZ4MleUhedI",
        "outputId": "17e16f23-0e92-404c-a7e7-37f4e5e0d06b"
      },
      "outputs": [
        {
          "output_type": "stream",
          "name": "stdout",
          "text": [
            "[47562.33333333 47157.         46558.33333333 38129.\n",
            " 40181.33333333 41856.33333333 49650.66666667 46641.\n",
            " 45121.66666667 43952.33333333 35452.33333333 37773.\n",
            " 37974.         44481.        ]\n"
          ]
        }
      ],
      "source": [
        "print(y_test)"
      ]
    },
    {
      "cell_type": "code",
      "source": [
        "import matplotlib.pyplot as plt\n",
        "def append(a, b):\n",
        "  c = []\n",
        "  for ai in a:\n",
        "    c.append(ai)\n",
        "  for bi in b:\n",
        "    c.append(bi)\n",
        "  return c"
      ],
      "metadata": {
        "id": "XDrQZiVrKa_b"
      },
      "execution_count": null,
      "outputs": []
    },
    {
      "cell_type": "code",
      "source": [
        "window = 100\n",
        "plt.figure()\n",
        "plt.title(\"Predictions vs Actual results\")\n",
        "plt.plot(append(df[train_for - window:train_for], y_pred), label=\"Predictions\")\n",
        "plt.plot(append(df[train_for - window:train_for], y_test), label=\"Actual\")\n",
        "plt.xlabel(\"Time axis (Predictions for 14 days from \" + date)\n",
        "plt.ylabel(\"Number of covid cases\")\n",
        "plt.axvline(window, color = 'red', label = \"predictions on right of this line\")\n",
        "plt.legend()\n",
        "plt.show()"
      ],
      "metadata": {
        "colab": {
          "base_uri": "https://localhost:8080/",
          "height": 472
        },
        "id": "cYngaqnXKexy",
        "outputId": "b35212e5-9b4d-42e6-9623-a3dbae926617"
      },
      "execution_count": null,
      "outputs": [
        {
          "output_type": "display_data",
          "data": {
            "text/plain": [
              "<Figure size 640x480 with 1 Axes>"
            ],
            "image/png": "[encoded data removed]"
          },
          "metadata": {}
        }
      ]
    },
    {
      "cell_type": "code",
      "source": [
        "print(y_pred)"
      ],
      "metadata": {
        "colab": {
          "base_uri": "https://localhost:8080/"
        },
        "id": "dS1RLnVNM9BY",
        "outputId": "240ea59d-ad8e-4336-c228-387a7cda0744"
      },
      "execution_count": null,
      "outputs": [
        {
          "output_type": "stream",
          "name": "stdout",
          "text": [
            "[36082.94  35789.008 35879.043 36275.83  36900.13  37687.848 38594.145\n",
            " 39591.3   40664.445 41807.055 43017.44  44296.152 45644.688 47064.582]\n"
          ]
        }
      ]
    },
    {
      "cell_type": "code",
      "source": [
        "print(y_test)"
      ],
      "metadata": {
        "colab": {
          "base_uri": "https://localhost:8080/"
        },
        "id": "BCg700hqNAwe",
        "outputId": "efbe1bef-8961-49e3-c62b-e7a89f6c3731"
      },
      "execution_count": null,
      "outputs": [
        {
          "output_type": "stream",
          "name": "stdout",
          "text": [
            "[47562.33333333 47157.         46558.33333333 38129.\n",
            " 40181.33333333 41856.33333333 49650.66666667 46641.\n",
            " 45121.66666667 43952.33333333 35452.33333333 37773.\n",
            " 37974.         44481.        ]\n"
          ]
        }
      ]
    },
    {
      "cell_type": "code",
      "execution_count": null,
      "metadata": {
        "id": "Sjp4xNQPkvYq"
      },
      "outputs": [],
      "source": [
        "# !pip install visualkeras"
      ]
    },
    {
      "cell_type": "code",
      "execution_count": null,
      "metadata": {
        "id": "KcgVC95ckxGn"
      },
      "outputs": [],
      "source": [
        "# dot_img_file = '/model_strong.png'\n",
        "# tf.keras.utils.plot_model(model.model, to_file=dot_img_file, show_shapes=True)"
      ]
    },
    {
      "cell_type": "code",
      "execution_count": null,
      "metadata": {
        "id": "Yu44SfZXk2JU"
      },
      "outputs": [],
      "source": [
        "model.model.save(\"myModelFusion.h5\")"
      ]
    },
    {
      "cell_type": "code",
      "execution_count": null,
      "metadata": {
        "id": "gT5pQASgjfFq"
      },
      "outputs": [],
      "source": []
    }
  ],
  "metadata": {
    "colab": {
      "provenance": []
    },
    "kernelspec": {
      "display_name": "Python 3",
      "name": "python3"
    },
    "language_info": {
      "name": "python"
    }
  },
  "nbformat": 4,
  "nbformat_minor": 0
}