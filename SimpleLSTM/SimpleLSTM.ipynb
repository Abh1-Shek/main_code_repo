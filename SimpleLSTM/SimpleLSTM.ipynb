{
  "nbformat": 4,
  "nbformat_minor": 0,
  "metadata": {
    "colab": {
      "provenance": []
    },
    "kernelspec": {
      "name": "python3",
      "display_name": "Python 3"
    },
    "language_info": {
      "name": "python"
    }
  },
  "cells": [
    {
      "cell_type": "code",
      "execution_count": null,
      "metadata": {
        "id": "wDi4Of4WNbYX"
      },
      "outputs": [],
      "source": [
        "from tensorflow.keras.models import Sequential\n",
        "from tensorflow.keras.layers import Dense, Dropout, LSTM\n",
        "from sklearn.preprocessing import MinMaxScaler\n",
        "import numpy as np\n",
        "import matplotlib.pyplot as plt\n",
        "import pandas as pd\n",
        "from sklearn.model_selection import train_test_split\n",
        "import tensorflow as tf\n",
        "from tensorflow import keras\n",
        "from sklearn.metrics import mean_squared_error"
      ]
    },
    {
      "cell_type": "code",
      "source": [
        "train_for = 600\n",
        "predict_for = 14"
      ],
      "metadata": {
        "id": "U0dl3GOW7lN0"
      },
      "execution_count": null,
      "outputs": []
    },
    {
      "cell_type": "code",
      "source": [
        "look_back = 50\n",
        "\n",
        "def prepare_data(df):\n",
        "    X = []\n",
        "    y = []\n",
        "    for i in range(look_back, len(df)):\n",
        "        y.append(df[i])\n",
        "        X.append(df[i - look_back:i])\n",
        "    return np.array(X), np.array(y)"
      ],
      "metadata": {
        "id": "iU9_d53XNkij"
      },
      "execution_count": null,
      "outputs": []
    },
    {
      "cell_type": "code",
      "source": [
        "def scale(df, scaler):\n",
        "  simple_array = np.array(df).reshape(-1, 1)\n",
        "  ssimple_array = scaler.fit_transform(simple_array)\n",
        "  return np.array(ssimple_array).reshape((-1, ))\n",
        "\n",
        "def descaled(df, scaler):\n",
        "  simple_array = np.array(df).reshape(-1, 1)\n",
        "  ssimple_array = scaler.inverse_transform(simple_array)\n",
        "  return np.array(ssimple_array).reshape((-1, ))\n",
        "\n",
        "def smoothen(df, period):\n",
        "    df_ma = df.copy()\n",
        "    for i in range(period, len(df)):\n",
        "        ma = 0\n",
        "        for j in range(i - period + 1, i + 1):\n",
        "            ma += df[j]\n",
        "        df_ma[i] = ma / period\n",
        "    return df_ma"
      ],
      "metadata": {
        "id": "Pvg70tjAOgI7"
      },
      "execution_count": null,
      "outputs": []
    },
    {
      "cell_type": "code",
      "source": [
        "class Model:\n",
        "  def __init__(self, df, epochs = 100):\n",
        "    self.scaler = MinMaxScaler()\n",
        "    self.df = scale(df, self.scaler)\n",
        "    self.dfw, self.dfy = prepare_data(self.df)\n",
        "    self.epochs = epochs\n",
        "\n",
        "    self.model = Sequential()\n",
        "\n",
        "    self.model.add(LSTM(units = 32, return_sequences=True, input_shape = (self.dfw.shape[1], 1)))\n",
        "    self.model.add(Dropout(0.1))\n",
        "    self.model.add(LSTM(units = 32, return_sequences=True))\n",
        "    self.model.add(Dropout(0.1))\n",
        "    self.model.add(LSTM(units = 32))\n",
        "    self.model.add(Dropout(0.1))\n",
        "    self.model.add(Dense(units = 1))  #our predictions\n",
        "    self.model.compile(optimizer = 'adam', loss = 'mean_squared_error')\n",
        "\n",
        "  def fit(self):\n",
        "    y = self.dfy\n",
        "    callback = tf.keras.callbacks.EarlyStopping(monitor='loss', patience=5)\n",
        "    self.model.fit(self.dfw, y, epochs = 100, callbacks=[callback])\n",
        "    # self.model.fit(self.dfw, y, epochs = 100)\n",
        "  \n",
        "  def predict(self, predict_for):\n",
        "    df_full = self.dfw[-1]\n",
        "\n",
        "    X_p = [df_full]\n",
        "    y_p = []\n",
        "\n",
        "    for i in range(predict_for):\n",
        "        yi = self.model.predict(np.array(X_p))\n",
        "        y_p.append(yi[0][0])\n",
        "        \n",
        "        X_p = [np.append(X_p[0][1:], yi)]\n",
        "\n",
        "    return descaled(y_p, self.scaler)"
      ],
      "metadata": {
        "id": "9lkxUGagNmVV"
      },
      "execution_count": null,
      "outputs": []
    },
    {
      "cell_type": "code",
      "source": [
        "from google.colab import drive\n",
        "drive.mount('/content/drive')"
      ],
      "metadata": {
        "colab": {
          "base_uri": "https://localhost:8080/"
        },
        "id": "Pq2uM9zeO3U0",
        "outputId": "514766d2-5f1a-4d2f-8265-b2ae548f843b"
      },
      "execution_count": null,
      "outputs": [
        {
          "output_type": "stream",
          "name": "stdout",
          "text": [
            "Drive already mounted at /content/drive; to attempt to forcibly remount, call drive.mount(\"/content/drive\", force_remount=True).\n"
          ]
        }
      ]
    },
    {
      "cell_type": "code",
      "source": [
        "df = pd.read_csv('/content/drive/MyDrive/covid-final-all.csv')\n",
        "df['state_residence'] = df.apply(lambda row: row['state_residence'].lower(), axis=1)\n",
        "df=df.groupby(['Date']).agg({'F_pos': 'sum', 'M_pos': 'sum', 'T_pos':'sum', 'NIA_pos':'sum', 'new_case': 'sum'}).reset_index()\n",
        "# df_f = df['F_pos'].values\n",
        "# df_m = df['M_pos'].values\n",
        "# df_t = df['T_pos'].values\n",
        "# df_nia = df['NIA_pos'].values\n",
        "\n",
        "# df = df_f + df_m + df_t + df_nia\n",
        "\n",
        "date = df.iloc[train_for + 1]['Date']\n",
        "\n",
        "df = df['new_case'].values"
      ],
      "metadata": {
        "id": "3_EUeCpHO6IV"
      },
      "execution_count": null,
      "outputs": []
    },
    {
      "cell_type": "code",
      "source": [
        "def smoothen_freq(df):\n",
        "  x = df\n",
        "  nan_indices = np.isnan(x)\n",
        "\n",
        "  # # Remove the NaN values from the array\n",
        "  x = x[np.logical_not(nan_indices)]\n",
        "\n",
        "  # Generate a noisy signal\n",
        "  signal = x\n",
        "\n",
        "  # Apply Fourier transform to the signal\n",
        "  f_signal = np.fft.fft(signal)\n",
        "\n",
        "  # Calculate the power spectrum\n",
        "  power = np.abs(f_signal)**2\n",
        "\n",
        "  # Set a threshold to remove the noise\n",
        "  threshold = 0.005 * max(power)\n",
        "  f_signal[power < threshold] = 0\n",
        "\n",
        "  # Apply inverse Fourier transform to the filtered signal\n",
        "  filtered_signal = np.fft.ifft(f_signal)\n",
        "\n",
        "  return filtered_signal"
      ],
      "metadata": {
        "id": "L1TDJOTcPAGI"
      },
      "execution_count": null,
      "outputs": []
    },
    {
      "cell_type": "code",
      "source": [
        "# df = smoothen(df, 3)"
      ],
      "metadata": {
        "id": "HGwAgSmbPCA6"
      },
      "execution_count": null,
      "outputs": []
    },
    {
      "cell_type": "code",
      "source": [
        "df_train = df[:train_for]\n",
        "df_test = df[train_for:train_for+predict_for]"
      ],
      "metadata": {
        "id": "sN0YnfvDPDeE"
      },
      "execution_count": null,
      "outputs": []
    },
    {
      "cell_type": "code",
      "source": [
        "model = Model(np.array(df_train))"
      ],
      "metadata": {
        "id": "S5QPr25aPFXq"
      },
      "execution_count": null,
      "outputs": []
    },
    {
      "cell_type": "code",
      "source": [
        "model.fit()"
      ],
      "metadata": {
        "colab": {
          "base_uri": "https://localhost:8080/"
        },
        "id": "DTB8lkqOPG1I",
        "outputId": "cc12b1de-8348-4fea-b15f-65bae11a1368"
      },
      "execution_count": null,
      "outputs": [
        {
          "output_type": "stream",
          "name": "stdout",
          "text": [
            "Epoch 1/100\n",
            "18/18 [==============================] - 8s 126ms/step - loss: 0.0234\n",
            "Epoch 2/100\n",
            "18/18 [==============================] - 2s 88ms/step - loss: 0.0089\n",
            "Epoch 3/100\n",
            "18/18 [==============================] - 1s 61ms/step - loss: 0.0069\n",
            "Epoch 4/100\n",
            "18/18 [==============================] - 1s 61ms/step - loss: 0.0042\n",
            "Epoch 5/100\n",
            "18/18 [==============================] - 1s 60ms/step - loss: 0.0043\n",
            "Epoch 6/100\n",
            "18/18 [==============================] - 1s 59ms/step - loss: 0.0044\n",
            "Epoch 7/100\n",
            "18/18 [==============================] - 1s 60ms/step - loss: 0.0040\n",
            "Epoch 8/100\n",
            "18/18 [==============================] - 1s 61ms/step - loss: 0.0037\n",
            "Epoch 9/100\n",
            "18/18 [==============================] - 1s 59ms/step - loss: 0.0033\n",
            "Epoch 10/100\n",
            "18/18 [==============================] - 1s 62ms/step - loss: 0.0042\n",
            "Epoch 11/100\n",
            "18/18 [==============================] - 1s 72ms/step - loss: 0.0039\n",
            "Epoch 12/100\n",
            "18/18 [==============================] - 1s 73ms/step - loss: 0.0037\n",
            "Epoch 13/100\n",
            "18/18 [==============================] - 1s 65ms/step - loss: 0.0038\n",
            "Epoch 14/100\n",
            "18/18 [==============================] - 1s 60ms/step - loss: 0.0037\n"
          ]
        }
      ]
    },
    {
      "cell_type": "code",
      "source": [
        "model.model.save(\"simpleLSTM.h5\")"
      ],
      "metadata": {
        "id": "-aUBfyIx7ONH"
      },
      "execution_count": null,
      "outputs": []
    },
    {
      "cell_type": "code",
      "source": [
        "y_pred = model.predict(predict_for)"
      ],
      "metadata": {
        "colab": {
          "base_uri": "https://localhost:8080/"
        },
        "id": "0Vm3Eb0sPIbz",
        "outputId": "b228d85f-4bed-49b6-bb36-a9c5c5726cfa"
      },
      "execution_count": null,
      "outputs": [
        {
          "output_type": "stream",
          "name": "stdout",
          "text": [
            "1/1 [==============================] - 1s 950ms/step\n",
            "1/1 [==============================] - 0s 24ms/step\n",
            "1/1 [==============================] - 0s 24ms/step\n",
            "1/1 [==============================] - 0s 23ms/step\n",
            "1/1 [==============================] - 0s 23ms/step\n",
            "1/1 [==============================] - 0s 25ms/step\n",
            "1/1 [==============================] - 0s 31ms/step\n",
            "1/1 [==============================] - 0s 27ms/step\n",
            "1/1 [==============================] - 0s 24ms/step\n",
            "1/1 [==============================] - 0s 26ms/step\n",
            "1/1 [==============================] - 0s 26ms/step\n",
            "1/1 [==============================] - 0s 24ms/step\n",
            "1/1 [==============================] - 0s 25ms/step\n",
            "1/1 [==============================] - 0s 24ms/step\n"
          ]
        }
      ]
    },
    {
      "cell_type": "code",
      "source": [
        "y_test = df_test\n",
        "\n",
        "def mape_(p, a):\n",
        "  assert(len(p) == len(a))\n",
        "  m = 0.0\n",
        "  for i in range(len(p)):\n",
        "    m += abs(p[i] - a[i]) / a[i]\n",
        "  return( m / len(p)) * 100\n",
        "\n",
        "\n",
        "print(mape_(y_pred, y_test))"
      ],
      "metadata": {
        "colab": {
          "base_uri": "https://localhost:8080/"
        },
        "id": "Fz-b7JZMPMoV",
        "outputId": "e354f06d-114b-442a-ca7b-2994bc533071"
      },
      "execution_count": null,
      "outputs": [
        {
          "output_type": "stream",
          "name": "stdout",
          "text": [
            "28.668816518308777\n"
          ]
        }
      ]
    },
    {
      "cell_type": "code",
      "source": [
        "import matplotlib.pyplot as plt\n",
        "def append(a, b):\n",
        "  c = []\n",
        "  for ai in a:\n",
        "    c.append(ai)\n",
        "  for bi in b:\n",
        "    c.append(bi)\n",
        "  return c"
      ],
      "metadata": {
        "id": "WYwsSDa97oyo"
      },
      "execution_count": null,
      "outputs": []
    },
    {
      "cell_type": "code",
      "source": [
        "window = 100\n",
        "plt.figure()\n",
        "plt.title(\"Predictions vs Actual results(N-hits)\")\n",
        "plt.plot(append(df[train_for - window:train_for], y_pred), label=\"Predictions\")\n",
        "plt.plot(append(df[train_for - window:train_for], y_test), label=\"Actual\")\n",
        "plt.xlabel(\"Time axis (Predictions for 14 days from \" + date)\n",
        "plt.ylabel(\"Number of covid cases\")\n",
        "plt.axvline(window, color = 'red', label = \"predictions on right of this line\")\n",
        "plt.legend()\n",
        "plt.show()"
      ],
      "metadata": {
        "colab": {
          "base_uri": "https://localhost:8080/",
          "height": 472
        },
        "id": "QsOQLa9g-3Rb",
        "outputId": "d69f6ea0-9767-4f4e-a641-7ddd7ac204dc"
      },
      "execution_count": null,
      "outputs": [
        {
          "output_type": "display_data",
          "data": {
            "text/plain": [
              "<Figure size 640x480 with 1 Axes>"
            ],
            "image/png": "[encoded data removed]"
          },
          "metadata": {}
        }
      ]
    },
    {
      "cell_type": "code",
      "source": [
        "print(y_pred)"
      ],
      "metadata": {
        "colab": {
          "base_uri": "https://localhost:8080/"
        },
        "id": "05xkbT8w_rMA",
        "outputId": "a37bc99d-37f8-46e1-fcab-21b0876c31d3"
      },
      "execution_count": null,
      "outputs": [
        {
          "output_type": "stream",
          "name": "stdout",
          "text": [
            "[38959.348 39101.105 39592.465 40343.56  41281.605 42353.    43529.03\n",
            " 44747.72  46023.75  47345.387 48704.906 50101.047 51537.453 53025.18 ]\n"
          ]
        }
      ]
    },
    {
      "cell_type": "code",
      "source": [
        "print(y_test)"
      ],
      "metadata": {
        "colab": {
          "base_uri": "https://localhost:8080/"
        },
        "id": "EetbNqxzARqe",
        "outputId": "60ac9747-f640-4ab7-e3e2-3cecbc4f332d"
      },
      "execution_count": null,
      "outputs": [
        {
          "output_type": "stream",
          "name": "stdout",
          "text": [
            "[47165. 47824. 44686. 21877. 53981. 49711. 45260. 44952. 45153. 41752.\n",
            " 19452. 52115. 42355. 38973.]\n"
          ]
        }
      ]
    }
  ]
}