{
  "nbformat": 4,
  "nbformat_minor": 0,
  "metadata": {
    "colab": {
      "provenance": []
    },
    "kernelspec": {
      "name": "python3",
      "display_name": "Python 3"
    },
    "language_info": {
      "name": "python"
    }
  },
  "cells": [
    {
      "cell_type": "code",
      "execution_count": null,
      "metadata": {
        "id": "J_w47-P1_vs3"
      },
      "outputs": [],
      "source": [
        "from tensorflow.keras.models import Sequential\n",
        "from tensorflow.keras.layers import Dense, Dropout, LSTM\n",
        "from sklearn.preprocessing import MinMaxScaler\n",
        "import numpy as np\n",
        "import matplotlib.pyplot as plt\n",
        "import pandas as pd\n",
        "from sklearn.model_selection import train_test_split\n",
        "import tensorflow as tf\n",
        "from tensorflow import keras\n",
        "from sklearn.metrics import mean_squared_error"
      ]
    },
    {
      "cell_type": "code",
      "source": [
        "train_for = 735\n",
        "predict_for = 14"
      ],
      "metadata": {
        "id": "iIK4ngpJWbc_"
      },
      "execution_count": null,
      "outputs": []
    },
    {
      "cell_type": "code",
      "source": [
        "look_back = 50\n",
        "\n",
        "def prepare_data(df):\n",
        "    X = []\n",
        "    y = []\n",
        "    for i in range(look_back, len(df)):\n",
        "        y.append(df[i])\n",
        "        X.append(df[i - look_back:i])\n",
        "    return np.array(X), np.array(y)"
      ],
      "metadata": {
        "id": "p6BHmRGQSE7j"
      },
      "execution_count": null,
      "outputs": []
    },
    {
      "cell_type": "code",
      "source": [
        "class Model:\n",
        "  def __init__(self, df, epochs = 100):\n",
        "    self.df = scale(df)\n",
        "    self.dfw, self.dfy = prepare_data(self.df)\n",
        "    self.epochs = epochs\n",
        "\n",
        "    self.model_strong = Sequential()\n",
        "    self.model_strong.add(LSTM(units = 32, return_sequences=True, input_shape = (self.dfw.shape[1], 1)))\n",
        "    self.model_strong.add(LSTM(units = 32, return_sequences=True))\n",
        "    self.model_strong.add(LSTM(units = 32))\n",
        "    self.model_strong.add(Dense(units = 1))  #our predictions\n",
        "    # self.model_strong.compile(optimizer = 'adam', loss = tf.keras.losses.CosineSimilarity(axis=1))\n",
        "    self.model_strong.compile(optimizer = 'adam', loss = 'mean_squared_error')\n",
        "\n",
        "\n",
        "\n",
        "\n",
        "    self.model_weak = Sequential()\n",
        "\n",
        "    self.model_weak.add(LSTM(units = 32, return_sequences=True, input_shape = (self.dfw.shape[1], 1)))\n",
        "    self.model_weak.add(Dropout(0.2))\n",
        "    self.model_weak.add(LSTM(units = 32, return_sequences=True))\n",
        "    self.model_weak.add(Dropout(0.2))\n",
        "    self.model_weak.add(LSTM(units = 32))\n",
        "    self.model_weak.add(Dropout(0.2))\n",
        "    self.model_weak.add(Dense(units = 1))  #our predictions\n",
        "    # self.model_weak.compile(optimizer = 'adam', loss = tf.keras.losses.CosineSimilarity(axis=1))\n",
        "    self.model_weak.compile(optimizer = 'adam', loss = 'mean_squared_error')\n",
        "\n",
        "  def fit(self):\n",
        "    y_train_strong = self.dfy / 4\n",
        "    y_train_weak = self.dfy - y_train_strong\n",
        "    # training the strong model for more epochs\n",
        "    self.model_strong.fit(self.dfw, y_train_strong, epochs = 7)\n",
        "    # training the weak model for less epochs\n",
        "    self.model_weak.fit(self.dfw, y_train_weak, epochs = 3)\n",
        "  \n",
        "  def predict(self, predict_for):\n",
        "    df_full = self.dfw[-1]\n",
        "\n",
        "    X_p_strong = [df_full]\n",
        "    X_p_weak = [df_full]\n",
        "    y_p_strong = []\n",
        "    y_p_weak = []\n",
        "\n",
        "    for i in range(predict_for):\n",
        "        yi_strong = self.model_strong.predict(np.array(X_p_strong))\n",
        "        y_p_strong.append(yi_strong[0][0])\n",
        "        yi_weak = self.model_weak.predict(np.array(X_p_weak))\n",
        "        y_p_weak.append(yi_weak[0][0])\n",
        "        X_p_strong = [np.append(X_p_strong[0][1:], yi_strong)]\n",
        "        X_p_weak = [np.append(X_p_weak[0][1:], yi_weak)]\n",
        "    y_p = [0 for y_p_i in range(len(y_p_strong))]\n",
        "    for j in range(len(y_p)):\n",
        "        y_p[j] = y_p_strong[j] + y_p_weak[j]\n",
        "    return y_p"
      ],
      "metadata": {
        "id": "maVPm_gUEDwS"
      },
      "execution_count": null,
      "outputs": []
    },
    {
      "cell_type": "code",
      "source": [
        "scaler = MinMaxScaler()\n",
        "def scale(df):\n",
        "  simple_array = np.array(df).reshape(-1, 1)\n",
        "  ssimple_array = scaler.fit_transform(simple_array)\n",
        "  return np.array(ssimple_array).reshape((-1, ))\n",
        "\n",
        "def descaled(df):\n",
        "  simple_array = np.array(df).reshape(-1, 1)\n",
        "  ssimple_array = scaler.inverse_transform(simple_array)\n",
        "  return np.array(ssimple_array).reshape((-1, ))"
      ],
      "metadata": {
        "id": "hAwXZUCMHrVT"
      },
      "execution_count": null,
      "outputs": []
    },
    {
      "cell_type": "code",
      "source": [
        "from google.colab import drive\n",
        "drive.mount('/content/drive')"
      ],
      "metadata": {
        "colab": {
          "base_uri": "https://localhost:8080/"
        },
        "id": "qzN18moxFrEo",
        "outputId": "f05c0f27-c427-4e27-8e86-4a456c6d4351"
      },
      "execution_count": null,
      "outputs": [
        {
          "output_type": "stream",
          "name": "stdout",
          "text": [
            "Drive already mounted at /content/drive; to attempt to forcibly remount, call drive.mount(\"/content/drive\", force_remount=True).\n"
          ]
        }
      ]
    },
    {
      "cell_type": "code",
      "source": [
        "def smoothen(df, period):\n",
        "    df_ma = df.copy()\n",
        "    for i in range(period, len(df)):\n",
        "        ma = 0\n",
        "        for j in range(i - period + 1, i + 1):\n",
        "            ma += df[j]\n",
        "        df_ma[i] = ma / period\n",
        "    return df_ma"
      ],
      "metadata": {
        "id": "VAVH0MyZGeSe"
      },
      "execution_count": null,
      "outputs": []
    },
    {
      "cell_type": "code",
      "source": [
        "df = pd.read_csv('/content/drive/MyDrive/covid-final-all.csv')\n",
        "df['state_residence'] = df.apply(lambda row: row['state_residence'].lower(), axis=1)\n",
        "df=df.groupby(['Date']).agg({'F_pos': 'sum', 'M_pos': 'sum', 'T_pos':'sum', 'NIA_pos':'sum', 'new_case': 'sum'}).reset_index()\n",
        "\n",
        "date = df.iloc[train_for + 1]['Date']\n",
        "\n",
        "df_f = df['F_pos'].values\n",
        "df_m = df['M_pos'].values\n",
        "df_t = df['T_pos'].values\n",
        "df_nia = df['NIA_pos'].values\n",
        "\n",
        "df = df_f + df_m + df_t + df_nia"
      ],
      "metadata": {
        "id": "eVFUPprpGo0D"
      },
      "execution_count": null,
      "outputs": []
    },
    {
      "cell_type": "code",
      "source": [
        "def smoothen_freq(df):\n",
        "  x = df\n",
        "  nan_indices = np.isnan(x)\n",
        "\n",
        "  # # Remove the NaN values from the array\n",
        "  x = x[np.logical_not(nan_indices)]\n",
        "\n",
        "  # Generate a noisy signal\n",
        "  signal = x\n",
        "\n",
        "  # Apply Fourier transform to the signal\n",
        "  f_signal = np.fft.fft(signal)\n",
        "\n",
        "  # Calculate the power spectrum\n",
        "  power = np.abs(f_signal)**2\n",
        "\n",
        "  # Set a threshold to remove the noise\n",
        "  threshold = 0.005 * max(power)\n",
        "  f_signal[power < threshold] = 0\n",
        "\n",
        "  # Apply inverse Fourier transform to the filtered signal\n",
        "  filtered_signal = np.fft.ifft(f_signal)\n",
        "\n",
        "  return filtered_signal"
      ],
      "metadata": {
        "id": "aEP2O3mbHC0j"
      },
      "execution_count": null,
      "outputs": []
    },
    {
      "cell_type": "code",
      "source": [
        "# df = smoothen(df, 3)"
      ],
      "metadata": {
        "id": "G-HeXex8GqjA"
      },
      "execution_count": null,
      "outputs": []
    },
    {
      "cell_type": "code",
      "source": [
        "df_train = df[:train_for]\n",
        "df_test = df[train_for:train_for+predict_for]"
      ],
      "metadata": {
        "id": "vio7Y1VKVRoa"
      },
      "execution_count": null,
      "outputs": []
    },
    {
      "cell_type": "code",
      "source": [
        "plt.plot(df_train)"
      ],
      "metadata": {
        "colab": {
          "base_uri": "https://localhost:8080/",
          "height": 452
        },
        "id": "rb7lAeNRG3Xt",
        "outputId": "f5c4babc-69b8-497f-a384-fef26630a7e6"
      },
      "execution_count": null,
      "outputs": [
        {
          "output_type": "execute_result",
          "data": {
            "text/plain": [
              "[<matplotlib.lines.Line2D at 0x7fdf8d15e8b0>]"
            ]
          },
          "metadata": {},
          "execution_count": 137
        },
        {
          "output_type": "display_data",
          "data": {
            "text/plain": [
              "<Figure size 640x480 with 1 Axes>"
            ],
            "image/png": "[encoded data removed]"
          },
          "metadata": {}
        }
      ]
    },
    {
      "cell_type": "code",
      "source": [
        "model = Model(np.array(df_train))\n",
        "model.fit()"
      ],
      "metadata": {
        "id": "mvmx2JRkG7UP",
        "colab": {
          "base_uri": "https://localhost:8080/"
        },
        "outputId": "3838edb2-1d98-4102-dd0c-bd19062ed67a"
      },
      "execution_count": null,
      "outputs": [
        {
          "output_type": "stream",
          "name": "stdout",
          "text": [
            "Epoch 1/7\n",
            "22/22 [==============================] - 9s 111ms/step - loss: 4.6293e-04\n",
            "Epoch 2/7\n",
            "22/22 [==============================] - 2s 96ms/step - loss: 3.0276e-04\n",
            "Epoch 3/7\n",
            "22/22 [==============================] - 1s 67ms/step - loss: 2.1939e-04\n",
            "Epoch 4/7\n",
            "22/22 [==============================] - 1s 67ms/step - loss: 1.9605e-04\n",
            "Epoch 5/7\n",
            "22/22 [==============================] - 2s 69ms/step - loss: 1.7166e-04\n",
            "Epoch 6/7\n",
            "22/22 [==============================] - 2s 68ms/step - loss: 1.7771e-04\n",
            "Epoch 7/7\n",
            "22/22 [==============================] - 2s 68ms/step - loss: 1.7168e-04\n",
            "Epoch 1/3\n",
            "22/22 [==============================] - 9s 101ms/step - loss: 0.0082\n",
            "Epoch 2/3\n",
            "22/22 [==============================] - 2s 103ms/step - loss: 0.0043\n",
            "Epoch 3/3\n",
            "22/22 [==============================] - 2s 71ms/step - loss: 0.0038\n"
          ]
        }
      ]
    },
    {
      "cell_type": "code",
      "source": [
        "model.model_weak.save(\"model_weak.h5\")\n",
        "model.model_strong.save(\"model_strong.h5\")"
      ],
      "metadata": {
        "id": "oXQJLA7SnBux"
      },
      "execution_count": null,
      "outputs": []
    },
    {
      "cell_type": "code",
      "source": [
        "y_pred = model.predict(predict_for)"
      ],
      "metadata": {
        "id": "GDvumRUHHYTm",
        "colab": {
          "base_uri": "https://localhost:8080/"
        },
        "outputId": "bbb25398-fb1e-4113-85cd-6b9e7658005a"
      },
      "execution_count": null,
      "outputs": [
        {
          "output_type": "stream",
          "name": "stdout",
          "text": [
            "1/1 [==============================] - 1s 1s/step\n",
            "1/1 [==============================] - 1s 1s/step\n",
            "1/1 [==============================] - 0s 37ms/step\n",
            "1/1 [==============================] - 0s 32ms/step\n",
            "1/1 [==============================] - 0s 33ms/step\n",
            "1/1 [==============================] - 0s 31ms/step\n",
            "1/1 [==============================] - 0s 29ms/step\n",
            "1/1 [==============================] - 0s 31ms/step\n",
            "1/1 [==============================] - 0s 29ms/step\n",
            "1/1 [==============================] - 0s 29ms/step\n",
            "1/1 [==============================] - 0s 28ms/step\n",
            "1/1 [==============================] - 0s 31ms/step\n",
            "1/1 [==============================] - 0s 30ms/step\n",
            "1/1 [==============================] - 0s 29ms/step\n",
            "1/1 [==============================] - 0s 27ms/step\n",
            "1/1 [==============================] - 0s 32ms/step\n",
            "1/1 [==============================] - 0s 31ms/step\n",
            "1/1 [==============================] - 0s 29ms/step\n",
            "1/1 [==============================] - 0s 28ms/step\n",
            "1/1 [==============================] - 0s 28ms/step\n",
            "1/1 [==============================] - 0s 29ms/step\n",
            "1/1 [==============================] - 0s 28ms/step\n",
            "1/1 [==============================] - 0s 27ms/step\n",
            "1/1 [==============================] - 0s 34ms/step\n",
            "1/1 [==============================] - 0s 28ms/step\n",
            "1/1 [==============================] - 0s 28ms/step\n",
            "1/1 [==============================] - 0s 28ms/step\n",
            "1/1 [==============================] - 0s 27ms/step\n"
          ]
        }
      ]
    },
    {
      "cell_type": "code",
      "source": [
        "y_pred1 = descaled(y_pred)\n",
        "\n",
        "\n",
        "y_test = df_test\n",
        "\n",
        "\n",
        "def mape_(p, a):\n",
        "  m = 0.0\n",
        "  for i in range(len(p)):\n",
        "    if (a[i] == 0):\n",
        "      a[i] = 1\n",
        "    m += abs(p[i] - a[i]) / a[i]\n",
        "  return( m / len(p)) * 100\n",
        "\n",
        "\n",
        "\n",
        "\n",
        "print(mape_(y_pred1, y_test))"
      ],
      "metadata": {
        "colab": {
          "base_uri": "https://localhost:8080/"
        },
        "id": "ZrB4D4OKHZxQ",
        "outputId": "312547d6-60ae-442c-b23e-c97d57edb15e"
      },
      "execution_count": null,
      "outputs": [
        {
          "output_type": "stream",
          "name": "stdout",
          "text": [
            "60.989109550213314\n"
          ]
        }
      ]
    },
    {
      "cell_type": "code",
      "source": [
        "# print(y_pred1)"
      ],
      "metadata": {
        "id": "stNmf8zZWsqk"
      },
      "execution_count": null,
      "outputs": []
    },
    {
      "cell_type": "code",
      "source": [
        "# print(y_test)"
      ],
      "metadata": {
        "id": "8VnCh5YgVok1"
      },
      "execution_count": null,
      "outputs": []
    },
    {
      "cell_type": "code",
      "source": [
        "# dot_img_file = '/model_strong.png'\n",
        "# tf.keras.utils.plot_model(model.model_strong, to_file=dot_img_file, show_shapes=True)"
      ],
      "metadata": {
        "id": "A-CIdQ7WeyWi"
      },
      "execution_count": null,
      "outputs": []
    },
    {
      "cell_type": "code",
      "source": [
        "# dot_img_file = '/model_weak.png'\n",
        "# tf.keras.utils.plot_model(model.model_weak, to_file=dot_img_file, show_shapes=True)"
      ],
      "metadata": {
        "id": "f0x7wTgGe92C"
      },
      "execution_count": null,
      "outputs": []
    },
    {
      "cell_type": "code",
      "source": [
        "predictions = y_pred1\n",
        "actual = y_test"
      ],
      "metadata": {
        "id": "IgHLVc1QB80Z"
      },
      "execution_count": null,
      "outputs": []
    },
    {
      "cell_type": "code",
      "source": [
        "import matplotlib.pyplot as plt\n",
        "def append(a, b):\n",
        "  c = []\n",
        "  for ai in a:\n",
        "    c.append(ai)\n",
        "  for bi in b:\n",
        "    c.append(bi)\n",
        "  return c"
      ],
      "metadata": {
        "id": "ZwAUc2qLYm9u"
      },
      "execution_count": null,
      "outputs": []
    },
    {
      "cell_type": "code",
      "source": [
        "window = 100\n",
        "plt.figure()\n",
        "plt.title(\"Predictions vs Actual results(N-hits)\")\n",
        "plt.plot(append(df[train_for - window:train_for], predictions), label=\"Predictions\")\n",
        "plt.plot(append(df[train_for - window:train_for], actual), label=\"Actual\")\n",
        "plt.xlabel(\"Time axis (Predictions for 14 days from \" + date)\n",
        "plt.ylabel(\"Number of covid cases\")\n",
        "plt.axvline(window, color = 'red', label = \"predictions on right of this line\")\n",
        "plt.legend()\n",
        "plt.show()"
      ],
      "metadata": {
        "colab": {
          "base_uri": "https://localhost:8080/",
          "height": 472
        },
        "id": "UgPC3Ms2W1yL",
        "outputId": "e8d72578-0aaf-4996-a886-4ef55fa752db"
      },
      "execution_count": null,
      "outputs": [
        {
          "output_type": "display_data",
          "data": {
            "text/plain": [
              "<Figure size 640x480 with 1 Axes>"
            ],
            "image/png": "[encoded data removed]"
          },
          "metadata": {}
        }
      ]
    },
    {
      "cell_type": "code",
      "source": [
        "print(predictions)"
      ],
      "metadata": {
        "colab": {
          "base_uri": "https://localhost:8080/"
        },
        "id": "MkW39u_TYhEi",
        "outputId": "8f33d78e-0e21-494c-bd95-f7f1e8dbcea1"
      },
      "execution_count": null,
      "outputs": [
        {
          "output_type": "stream",
          "name": "stdout",
          "text": [
            "[ 76864.46   91131.664 102963.33  111685.29  117347.305 120362.88\n",
            " 121286.99  120676.92  119024.81  116729.36  114092.914 111331.21\n",
            " 108586.12  105947.78 ]\n"
          ]
        }
      ]
    },
    {
      "cell_type": "code",
      "source": [
        "print(actual)"
      ],
      "metadata": {
        "colab": {
          "base_uri": "https://localhost:8080/"
        },
        "id": "O8Hq7uYfY7sH",
        "outputId": "9fd06be9-4ca7-46bb-ea76-d4c24792eeb0"
      },
      "execution_count": null,
      "outputs": [
        {
          "output_type": "stream",
          "name": "stdout",
          "text": [
            "[210776. 151380. 296174. 294333. 301381. 299915. 271531. 282285. 192189.\n",
            " 395946. 378298. 380601. 366328. 355254.]\n"
          ]
        }
      ]
    },
    {
      "cell_type": "code",
      "source": [],
      "metadata": {
        "id": "drAH6eXWY8Xx"
      },
      "execution_count": null,
      "outputs": []
    }
  ]
}